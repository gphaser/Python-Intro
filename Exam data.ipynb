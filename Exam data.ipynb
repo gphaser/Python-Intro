{
 "cells": [
  {
   "cell_type": "markdown",
   "id": "fa131a12-02a1-4bb1-b40e-c24c4bcdcb4d",
   "metadata": {},
   "source": [
    "# Exam Data Tutorial\n",
    "The goal of this tutorial is to introduce some useful functions and show how to do typical tasks when working with quantitative educational data. This tutorial assumes you already have basic knowledge of Python and Pandas. It also assumes you are familiar with method chaining (e.g. `myobject.function()` ) as a way to reduce intermediate steps and make your code more readable.\n",
    "\n",
    "In this lesson, you will learn the following:\n",
    "* How to sort and view data\n",
    "* Compute values from multiple columns\n",
    "* Compute values across a row\n",
    "* How to break results down by some grouping variable\n",
    "* How to extract a column from a data frame for use elsewhere\n",
    "\n",
    "***\n",
    "Created by Dr. Nicholas Young\n",
    "\n",
    "Last modified: April 3, 2025\n",
    "\n",
    "Python version: 3.11.9"
   ]
  },
  {
   "cell_type": "markdown",
   "id": "54f1e92b-4613-470a-8ec9-1cb045f368da",
   "metadata": {},
   "source": [
    "## Setting up\n",
    "This tutorial uses the `exam_data.csv` file. This file represents simulated exam scores for a course with three exams and is similar to what you might see if you were using the eLC gradebook for a project. Scores are between 0 and 100 but you'll notice most students did well on this exam. There is also a generic `group` binary variable that could represent something like female, underrepresented minority, first generation status, etc.\n",
    "\n",
    "`pandas` is the package that handles data frames in Python so we are doing to load that first. We can then use the `read_csv` function to import the `exam_data.csv` file as a data frame in Pyton"
   ]
  },
  {
   "cell_type": "code",
   "execution_count": null,
   "id": "155da30b-da2f-4692-b5a7-150efd5b7797",
   "metadata": {},
   "outputs": [],
   "source": [
    "import pandas as pd"
   ]
  },
  {
   "cell_type": "code",
   "execution_count": null,
   "id": "df300813-9973-4f4c-8a42-a642d397dcf9",
   "metadata": {},
   "outputs": [],
   "source": [
    "exam_data = pd.read_csv(\"exam_data.csv\")"
   ]
  },
  {
   "cell_type": "markdown",
   "id": "162186e0-1bd3-417f-81d7-a76a91499e79",
   "metadata": {},
   "source": [
    "## Familiarizing ourselves with the data\n",
    "Before doing any analysis, it's useful to get a sense of what the data looks like. There are a variety of different things we can check. Let's walk through them."
   ]
  },
  {
   "cell_type": "markdown",
   "id": "3dc8abdd-6f0b-4f0f-83d0-839b4652f104",
   "metadata": {},
   "source": [
    "First, let's look at the first few rows of the data frame to see what our data looks like. We can do this either with indexing or `.head()`. Let's look at the first six rows. Remember that Python indexing starts at 0 and not 1!\n",
    "\n",
    "You'll notice that both examples return the same rows. You can change the numbers to view more or fewer rows."
   ]
  },
  {
   "cell_type": "code",
   "execution_count": null,
   "id": "2d42d542-e87a-424e-8a32-5d6876f96c45",
   "metadata": {},
   "outputs": [],
   "source": [
    "exam_data[0:6]"
   ]
  },
  {
   "cell_type": "code",
   "execution_count": null,
   "id": "e0f99a85-48d3-4fcf-b8f7-2ad27eedc728",
   "metadata": {},
   "outputs": [],
   "source": [
    "exam_data.head(6)"
   ]
  },
  {
   "cell_type": "markdown",
   "id": "25e665f0-d306-4dc2-996a-84c0badbe358",
   "metadata": {},
   "source": [
    "To look at a specific column, include the same or location of that variable. Use `[ ]` to return a series and `[[ ]]` to return a data frame. Make sure you understand the difference between these two objects. Essentially a data frame is 2D object where each column is a series. Series are always $m$ x $1$ while a data frame can be essentially any shape $m$ x $n$."
   ]
  },
  {
   "cell_type": "code",
   "execution_count": null,
   "id": "43c51109-5e14-4caf-bd6e-b26bd67db0ad",
   "metadata": {},
   "outputs": [],
   "source": [
    "exam_data['exam2']"
   ]
  },
  {
   "cell_type": "code",
   "execution_count": null,
   "id": "ac9172d9-f8df-433c-bce7-24dfea968782",
   "metadata": {},
   "outputs": [],
   "source": [
    "exam_data[['exam2']]"
   ]
  },
  {
   "cell_type": "markdown",
   "id": "f265d7d4-6834-42c5-b04d-744db73a8d42",
   "metadata": {},
   "source": [
    "Another useful thing to do is sort the data frame by some column. We can do that by `.sort_values`. Let's sort by exam 1 scores first. Then let's do an example of sorting by group. Remember that `.sort_values()` is an out-of-place function so the original data frame is unchanged and you need to write this as a variable if you want to save it or set the `inplace` parameter in `.sort_values()` to `True` if you want the original data frame to be modified (generally not recommended)."
   ]
  },
  {
   "cell_type": "code",
   "execution_count": null,
   "id": "b60960df-71df-46e0-835c-e880b82e415d",
   "metadata": {},
   "outputs": [],
   "source": [
    "# sorting by exam1 scores\n",
    "exam_data.sort_values(by = 'exam1')"
   ]
  },
  {
   "cell_type": "code",
   "execution_count": null,
   "id": "e7e2c66e-a2d0-4484-9701-59a1fbbdec9d",
   "metadata": {},
   "outputs": [],
   "source": [
    "# sorting by group and then saving the sorted data frame as a new variable\n",
    "exam_data_sorted = exam_data.sort_values(by='group')"
   ]
  },
  {
   "cell_type": "markdown",
   "id": "a6232631-d5b8-4a4f-ade6-615f8b16ed51",
   "metadata": {},
   "source": [
    "It is also possible to sort by multiple values, say sort exam values within groups. You can also change whether these should be sorted in ascending or descending order."
   ]
  },
  {
   "cell_type": "code",
   "execution_count": null,
   "id": "426f990d-dc0f-4ec1-ab81-00b80a8af143",
   "metadata": {},
   "outputs": [],
   "source": [
    "exam_data.sort_values(by=['group', 'exam1'], ascending=[True, False])"
   ]
  },
  {
   "cell_type": "markdown",
   "id": "a810f7f8-74a8-41ff-9c71-f38be73d2d34",
   "metadata": {},
   "source": [
    "It can also be useful to analyze a subset of our data. To do that, we can \"filter\" our data by some condition and remove data that doesn't meet some condition.\n",
    "\n",
    "Let's start by only using student data from group 1."
   ]
  },
  {
   "cell_type": "code",
   "execution_count": null,
   "id": "34e108a5-557a-4a29-ad07-47ca02ddefe1",
   "metadata": {},
   "outputs": [],
   "source": [
    "# Filter the DataFrame for the specified group and save to a new data frame\n",
    "filtered_data = exam_data[exam_data['group'] == 'group1']\n",
    "\n",
    "filtered_data.head()"
   ]
  },
  {
   "cell_type": "markdown",
   "id": "6570b0e3-8024-4d80-b38c-7d5e96292a96",
   "metadata": {},
   "source": [
    "Notice that only students in group1 are in this new `filtered_data` data frame."
   ]
  },
  {
   "cell_type": "markdown",
   "id": "e9d350b8-38fd-410a-a267-4d3ba386b97b",
   "metadata": {},
   "source": [
    "We can also use inequalities in these filters to restrict other variables. Let's create a new dataframe with only students who earned at least an A ($\\geq 90$) on their first exam."
   ]
  },
  {
   "cell_type": "code",
   "execution_count": null,
   "id": "e3031a4a-b6f6-4801-8b80-8b1307fae63f",
   "metadata": {},
   "outputs": [],
   "source": [
    "A_data = exam_data[exam_data['exam1'] >= 90]\n",
    "\n",
    "A_data.head()"
   ]
  },
  {
   "cell_type": "markdown",
   "id": "78e6b681-b161-4dc8-ab12-662a4d5462ad",
   "metadata": {},
   "source": [
    "## Calculating values from a column\n",
    "For many numeric data, we are often interested in a summary statistic like the mean, median, or standard deviation to describe some type of behavior. For example, what was the average score on a test.\n",
    "\n",
    "This is pretty straighforward to do in Python. Let's do an example with the mean."
   ]
  },
  {
   "cell_type": "markdown",
   "id": "de04cc9a-c222-493b-8e0e-5b21eb94aa57",
   "metadata": {},
   "source": [
    "The basic idea is to select the columns we want to use and then chain the type statistic we want to calculate such as `.mean()`, `.median()`, or `.std()`. If we want to calculate the mean score of each exam, we can do the following."
   ]
  },
  {
   "cell_type": "code",
   "execution_count": null,
   "id": "0ae8df62-1fa0-4d5b-b714-1a0ba3a3b25f",
   "metadata": {},
   "outputs": [],
   "source": [
    "exam_data_summary = exam_data[['exam1', 'exam2', 'exam3']].mean()\n",
    "exam_data_summary"
   ]
  },
  {
   "cell_type": "markdown",
   "id": "125aca61-41ea-41a3-a66b-9c4488db3496",
   "metadata": {},
   "source": [
    "Notice here I save the means as a separate variable so I can easily get them back. I can also directly print to console if I don't need to save them."
   ]
  },
  {
   "cell_type": "code",
   "execution_count": null,
   "id": "2ec323db-4f71-4fcd-8f2a-12d1b7e823d4",
   "metadata": {},
   "outputs": [],
   "source": [
    "exam_data[['exam1', 'exam2', 'exam3']].mean()"
   ]
  },
  {
   "cell_type": "markdown",
   "id": "2e425944-1fb6-48eb-9d3b-87e77f6455d4",
   "metadata": {},
   "source": [
    "I can do the same thing with other functions to like finding the standard deviation or spread of the scores"
   ]
  },
  {
   "cell_type": "code",
   "execution_count": null,
   "id": "0d8618b9-0825-4966-ae4d-01a1470c456c",
   "metadata": {},
   "outputs": [],
   "source": [
    "exam_data[['exam1', 'exam2', 'exam3']].std()"
   ]
  },
  {
   "cell_type": "markdown",
   "id": "9208330e-87f9-4928-845d-c1cd6410ae60",
   "metadata": {},
   "source": [
    "If I want to get multiple common statistics at the same time, I can use `.describe()`"
   ]
  },
  {
   "cell_type": "code",
   "execution_count": null,
   "id": "00b86783-e46b-4020-af2b-553fc1ef0f14",
   "metadata": {},
   "outputs": [],
   "source": [
    "exam_data[['exam1', 'exam2', 'exam3']].describe()"
   ]
  },
  {
   "cell_type": "markdown",
   "id": "7e4ba7b1-32ad-410c-8d13-52c46255dada",
   "metadata": {},
   "source": [
    "You'll notice I get the same values as before but also much more information!\n",
    "\n",
    "You can select the columns you want or can you use the entire data frame and Python will skip the non-numeric columns"
   ]
  },
  {
   "cell_type": "code",
   "execution_count": null,
   "id": "cdc263b5-3b5e-47de-b67b-625032b19241",
   "metadata": {},
   "outputs": [],
   "source": [
    "exam_data.describe()"
   ]
  },
  {
   "cell_type": "markdown",
   "id": "4da5f0b8-e0e9-4d95-a889-465c3bd21dea",
   "metadata": {},
   "source": [
    "For non-numeric data, it can be useful to get the counts of each category. We can use `.value_counts()` to do this"
   ]
  },
  {
   "cell_type": "code",
   "execution_count": null,
   "id": "60eaa822-4246-4fb2-99b7-a15caeae7397",
   "metadata": {},
   "outputs": [],
   "source": [
    "exam_data[['group']].value_counts()"
   ]
  },
  {
   "cell_type": "markdown",
   "id": "aa4d462b-1a98-4191-b41a-7b04c75bbd4c",
   "metadata": {},
   "source": [
    "If you want to include more than one variable, make sure to select those columns. This is count each pair of the two variables. Be careful if you select a continuous variable. You could get a large number of pairs back!"
   ]
  },
  {
   "cell_type": "code",
   "execution_count": null,
   "id": "caadf030-748c-4179-a80c-5666ac7ab2c1",
   "metadata": {},
   "outputs": [],
   "source": [
    "exam_data[['group', 'exam1']].value_counts()"
   ]
  },
  {
   "cell_type": "markdown",
   "id": "2cd46af2-c3e1-4827-a7a6-f79196f0831a",
   "metadata": {},
   "source": [
    "What if I wanted to compute the mean by rows rather than columns? Essentially, what if I want each student's average exam grade? \n",
    "\n",
    "To do that, I can change the axis the mean is calculated on. 0 is vertically (column-wise) while 1 is horizontally (row-wise). That means I can add `axis=1` to my `.mean()` function to change which way I calculate the mean. Due to the defaults, `.mean()` is equivalent to `.mean(axis=0)`."
   ]
  },
  {
   "cell_type": "code",
   "execution_count": null,
   "id": "e2561700-f3da-4ab6-b204-eaf74ab70d08",
   "metadata": {},
   "outputs": [],
   "source": [
    "exam_data[['exam1', 'exam2', 'exam3']].mean(axis=1)"
   ]
  },
  {
   "cell_type": "markdown",
   "id": "0e27e78e-b831-4fa9-99c7-90b1a9540f56",
   "metadata": {},
   "source": [
    "Maybe I want to use the student's average grade in the future to perform further calculations. If so, I'd want to add it as a new column in the `exam_data` data frame. I can do so as follows. Here `avg_grade` is the name I want to give to the new column. You can pick any name you want as long as it follows Python's naming rules."
   ]
  },
  {
   "cell_type": "code",
   "execution_count": null,
   "id": "314f098b-b84a-41bb-bb16-27a480f9dbf2",
   "metadata": {},
   "outputs": [],
   "source": [
    "exam_data['avg_grade'] = exam_data[['exam1', 'exam2', 'exam3']].mean(axis=1)"
   ]
  },
  {
   "cell_type": "markdown",
   "id": "b2566e93-4d64-4d37-87bf-ac275719214f",
   "metadata": {},
   "source": [
    "Let's view the data frame to see what this did."
   ]
  },
  {
   "cell_type": "code",
   "execution_count": null,
   "id": "4c3b3f4d-507e-4443-b0b7-13c7b4293881",
   "metadata": {},
   "outputs": [],
   "source": [
    "exam_data.head()"
   ]
  },
  {
   "cell_type": "markdown",
   "id": "527a32bd-13eb-41ac-b135-f49a862337f4",
   "metadata": {},
   "source": [
    "You'll notice that this new variable was added as the last column."
   ]
  },
  {
   "cell_type": "markdown",
   "id": "f7bbfaf0-f803-4143-aa94-479f0aa66667",
   "metadata": {},
   "source": [
    "In general, this format of `dataframe['new_column']` is how we add new columns and we can do all sorts of combinations of the columns. Use this if you want to create new columns based on the values of the other columns. Below is a simple example to calculate the total number of points a student earned across all three exams, but you can craete more complicated examples if needed."
   ]
  },
  {
   "cell_type": "code",
   "execution_count": null,
   "id": "0b1eb7cc-f0de-412d-bbd4-c54a4d33e315",
   "metadata": {},
   "outputs": [],
   "source": [
    "exam_data['total_points'] = exam_data['exam1'] + exam_data['exam2'] + exam_data['exam3']\n",
    "exam_data.head()"
   ]
  },
  {
   "cell_type": "markdown",
   "id": "813d8f56-8632-449b-9606-25d57a4ec147",
   "metadata": {},
   "source": [
    "## Comparing groups of students\n",
    "So far, we've only considered the whole data set. We are often interested in comparing different groups. We can do that with the `groupby()` function which separates our data behind the scenes. It's not necessary to sort the data by group beforehand. Python is smart enough to handle that behind the scenes."
   ]
  },
  {
   "cell_type": "markdown",
   "id": "f2a88ad7-36f8-445e-bd94-8a9b54847e4c",
   "metadata": {},
   "source": [
    "Let's calculate the avearge score on `exam1` by `group`."
   ]
  },
  {
   "cell_type": "code",
   "execution_count": null,
   "id": "d48fe09f-847d-4979-84f6-62e34bea4450",
   "metadata": {},
   "outputs": [],
   "source": [
    "# Group the data by 'group'\n",
    "grouped_data = exam_data.groupby('group')\n",
    "\n",
    "# Calculate the mean for each exam column\n",
    "exam1_mean = grouped_data['exam1'].mean()\n",
    "\n",
    "print(exam1_mean)"
   ]
  },
  {
   "cell_type": "markdown",
   "id": "b8b87ab9-dc22-4910-bdf7-11220334c6fb",
   "metadata": {},
   "source": [
    "Here, we can see that students in group 1 earn grades on exam1 that are about 3 points higher than students in group 2."
   ]
  },
  {
   "cell_type": "markdown",
   "id": "1e3584af-90bf-46e5-98b6-146f9c290f9b",
   "metadata": {},
   "source": [
    "We can do the same thing more succinctly with chaining:"
   ]
  },
  {
   "cell_type": "code",
   "execution_count": null,
   "id": "6536e7f3-0c3a-413c-b9b6-f6197fb30299",
   "metadata": {},
   "outputs": [],
   "source": [
    "# single line version\n",
    "exam_data.groupby('group')['exam1'].mean()"
   ]
  },
  {
   "cell_type": "markdown",
   "id": "7d8f456c-eb97-4e81-b0b7-6d07d398e570",
   "metadata": {},
   "source": [
    "Or in a more readable format:"
   ]
  },
  {
   "cell_type": "code",
   "execution_count": null,
   "id": "0191976f-bb5b-45ed-af42-5c3c8615d3f1",
   "metadata": {},
   "outputs": [],
   "source": [
    "# multiple line version useful when you are chaining multiple things\n",
    "# start and end with ( )\n",
    "(exam_data\n",
    " .groupby('group')['exam1']\n",
    " .mean()\n",
    ")"
   ]
  },
  {
   "cell_type": "markdown",
   "id": "d13c370f-dcc0-4975-a675-eff206ae4af7",
   "metadata": {},
   "source": [
    "Notice that all three of these return the same thing. The first one creates a new data frame `grouped_data` first and then uses that to calculate the mean. The latter two do not create any new data frames.\n",
    "\n",
    "Whether to use the second or third is a matter of preference. Here, they are about the same level of readability. If you were chaining multiple functions, the third would be preferrable as it is easy to see all of the steps happening."
   ]
  },
  {
   "cell_type": "markdown",
   "id": "6472a4a3-4668-4162-9324-f101b458dc36",
   "metadata": {},
   "source": [
    "## Grouping and calculating values across columns"
   ]
  },
  {
   "cell_type": "markdown",
   "id": "66b5b573-2cb1-4cd9-83dd-5f4e04539dd6",
   "metadata": {},
   "source": [
    "What if I want to do this across multiple columns? The `.agg` function is useful for aggregating data and can be used to calculate multiple statistics at once. Here's calculate the average exam grade by group for each exam. `.agg` is going to return a data frame so we need to specify the column name followed by the column to use and then what function to use to aggregate the values. We can also add additional things like calculating the median for exam 1 and the standard deviation for exam 2."
   ]
  },
  {
   "cell_type": "code",
   "execution_count": null,
   "id": "1ec548db-3b75-491b-9936-ebfef01d0555",
   "metadata": {},
   "outputs": [],
   "source": [
    "exam_data_group_summary = exam_data.groupby('group').agg(\n",
    "    exam1_mean=('exam1', 'mean'),\n",
    "    exam1_median= ('exam1', 'median'),\n",
    "    exam2_mean=('exam2', 'mean'),\n",
    "    exam2_std =('exam2', 'std'),\n",
    "    exam3_mean=('exam3', 'mean')\n",
    ").reset_index()\n",
    "\n",
    "exam_data_group_summary"
   ]
  },
  {
   "cell_type": "markdown",
   "id": "2a64c202-cc0e-4b78-888d-fdda27305358",
   "metadata": {},
   "source": [
    "The `reset_index()` isn't strictly necessary here if your goal is just to display the values. If you plan to use this output for further work, it is probably good to include it. It essentially works as an ungroup by returning the grouping variable to the data frame rather than leaving it as the index. Compare that with the output below when we do not include `reset_index()`."
   ]
  },
  {
   "cell_type": "code",
   "execution_count": null,
   "id": "00b5b181-fb45-4d54-8056-a4f3638d6a45",
   "metadata": {},
   "outputs": [],
   "source": [
    "exam_data.groupby('group').agg(\n",
    "    exam1_mean=('exam1', 'mean'),\n",
    "    exam1_median= ('exam1', 'median'),\n",
    "    exam2_mean=('exam2', 'mean'),\n",
    "    exam2_std =('exam2', 'std'),\n",
    "    exam3_mean=('exam3', 'mean'))"
   ]
  },
  {
   "cell_type": "markdown",
   "id": "3da31d00-6f63-4a8d-9194-efdf4394b376",
   "metadata": {},
   "source": [
    "If we didn't want to use `.agg`, we could also do it long-hand. Notice how much shorter our code is when using `.agg`."
   ]
  },
  {
   "cell_type": "code",
   "execution_count": null,
   "id": "d6ab091b-204c-4045-89a9-fd936af5fa35",
   "metadata": {},
   "outputs": [],
   "source": [
    "# Group the data by 'group'\n",
    "grouped_data = exam_data.groupby('group')\n",
    "\n",
    "# Calculate the mean for each exam column\n",
    "exam1_mean = grouped_data['exam1'].mean()\n",
    "exam1_median = grouped_data['exam1'].median()\n",
    "exam2_mean = grouped_data['exam2'].mean()\n",
    "exam2_std = grouped_data['exam2'].std()\n",
    "exam3_mean = grouped_data['exam3'].mean()\n",
    "\n",
    "# Create a new DataFrame to store the results\n",
    "exam_data_group_summary_2 = pd.DataFrame({\n",
    "    'group': exam1_mean.index,\n",
    "    'exam1_mean': exam1_mean.values,\n",
    "    'exam1_median': exam1_median.values,\n",
    "    'exam2_mean': exam2_mean.values,\n",
    "    'exam2_std': exam2_std.values,\n",
    "    'exam3_mean': exam3_mean.values\n",
    "})\n",
    "\n",
    "exam_data_group_summary_2"
   ]
  },
  {
   "cell_type": "markdown",
   "id": "efa18411-4ea7-4fec-859d-2621cdc90184",
   "metadata": {},
   "source": [
    "## Combining multiple steps\n",
    "Now that we've covered multiple individual steps, let's try something more typical of a research task. Suppose you want to calculate the average grade of the three exams for students in group1 and return those values. There are a few ways to do this."
   ]
  },
  {
   "cell_type": "markdown",
   "id": "c9bab062-5ca2-47f8-832f-d5c89be7686f",
   "metadata": {},
   "source": [
    "The first way we can do this is by a doing each of these steps in a single line and create intermediate data frames as necessary. In this example, the average grades are returned as a series"
   ]
  },
  {
   "cell_type": "code",
   "execution_count": null,
   "id": "1c7df2af-518d-46d3-a176-6c86d11c9198",
   "metadata": {},
   "outputs": [],
   "source": [
    "# Calculate the average grade by row\n",
    "exam_data['avg_grade'] = exam_data[['exam1', 'exam2', 'exam3']].mean(axis=1)\n",
    "\n",
    "# Filter the DataFrame for the specified group\n",
    "filtered_data = exam_data[exam_data['group'] == 'group1']\n",
    "\n",
    "# Pull the 'avg_grade' column as a Series\n",
    "avg_grade_data = filtered_data['avg_grade']\n",
    "\n",
    "avg_grade_data"
   ]
  },
  {
   "cell_type": "markdown",
   "id": "1c731276-6fcf-4d35-a0e4-5131808abd7f",
   "metadata": {},
   "source": [
    "If I want to return the grades as a data frame instead, I can use the following:"
   ]
  },
  {
   "cell_type": "code",
   "execution_count": null,
   "id": "67338cd9-a05c-40d1-858d-23ce7138d354",
   "metadata": {},
   "outputs": [],
   "source": [
    "avg_grade_data_df = filtered_data[['avg_grade']]\n",
    "\n",
    "avg_grade_data_df"
   ]
  },
  {
   "cell_type": "markdown",
   "id": "b1016cc3-0428-4f75-bc20-545618f86d5f",
   "metadata": {},
   "source": [
    "To do the same process but this time with chaining, here's what the code would look like, again returning a series"
   ]
  },
  {
   "cell_type": "code",
   "execution_count": null,
   "id": "a50b721e-4f79-4b07-8b94-fcbbcb167962",
   "metadata": {},
   "outputs": [],
   "source": [
    "avg_grade_data_2 = (\n",
    "    exam_data\n",
    "    .assign(avg_grade=exam_data[['exam1', 'exam2', 'exam3']].mean(axis=1))  # Calculate avg_grade\n",
    "    .query('group == \"group1\"')  # Filter for group1\n",
    "    .avg_grade  # Pull the avg_grade column\n",
    ")\n",
    "\n",
    "avg_grade_data_2"
   ]
  },
  {
   "cell_type": "markdown",
   "id": "7c83455e-372d-46ab-92dd-ccb0ba0e1e91",
   "metadata": {},
   "source": [
    "And again if I want to return a data frame"
   ]
  },
  {
   "cell_type": "code",
   "execution_count": null,
   "id": "3acab979-a134-4a26-8fed-10df864d7189",
   "metadata": {},
   "outputs": [],
   "source": [
    "avg_grade_data_3 = (\n",
    "    exam_data\n",
    "    .assign(avg_grade=exam_data[['exam1', 'exam2', 'exam3']].mean(axis=1))  # Calculate avg_grade\n",
    "    .query('group == \"group1\"')  # Filter for group1\n",
    "    .loc[:, ['avg_grade']]  # Select the avg_grade column\n",
    ")\n",
    "\n",
    "avg_grade_data_3"
   ]
  },
  {
   "cell_type": "markdown",
   "id": "a6e7d688-558c-4342-b42c-9851aee8cac4",
   "metadata": {},
   "source": [
    "## Real-world example: standard error\n",
    "If we are doing inferrential statistics, we are interested in determining how likely a result may have occurred by chance or what the expected range of values we would get if we repeated the same experiment (e.g. if we gave the same exams to a similar group of students). One statistic of interest is the standard error, which is essentially the spread or standard deviation of sampling distribution. For example, if we computed the mean exam score on exam 1 from multiple classes, the standard error would be the standard deviation of the mean of the individual class means. Typically, we do not have data from multiple classes so we have to estimate this parameter.\n",
    "\n",
    "Suppose we only have a single class with $n$ students taking the exam. Let $\\sigma$ be the standard deviation for grades on the exam and let $\\mu$ be the average grade on the exam. Then the standard error of the average grade is \n",
    "\n",
    "$\\text{SE}_{\\mu} = \\frac{\\sigma}{\\sqrt{n}}$\n",
    "\n"
   ]
  },
  {
   "cell_type": "markdown",
   "id": "7a644f66-e012-4735-a5be-c4a69aaf776b",
   "metadata": {},
   "source": [
    "Let's use what we've learned so far to calculate the mean exam grade and standard error for each exam.\n",
    "\n",
    "We will do this in two steps. First calculate all the statistics need and then calculate the standard error"
   ]
  },
  {
   "cell_type": "code",
   "execution_count": null,
   "id": "968d6893-9452-4fd6-9bc5-3a6d1dc134ab",
   "metadata": {},
   "outputs": [],
   "source": [
    "# compute the statistics. Using multiple lines for readability\n",
    "result = (\n",
    "exam_data\n",
    "    .groupby('group').\n",
    "    agg(\n",
    "    exam1_n = ('exam1', 'count'),\n",
    "    exam1_mean=('exam1', 'mean'),\n",
    "    exam1_std= ('exam1', 'std'),\n",
    "    exam2_n = ('exam2', 'count'),\n",
    "    exam2_mean=('exam2', 'mean'),\n",
    "    exam2_std= ('exam2', 'std'),\n",
    "    exam3_n = ('exam3', 'count'),\n",
    "    exam3_mean=('exam3', 'mean'),\n",
    "    exam3_std= ('exam3', 'std'),\n",
    "    )\n",
    ")\n",
    "\n",
    "# the square root function is part of numpy so let's import that\n",
    "import numpy as np\n",
    "\n",
    "# calculate the standard error\n",
    "result['exam1_se'] = result['exam1_std'] / np.sqrt(result['exam1_n'])\n",
    "result['exam2_se'] = result['exam2_std'] / np.sqrt(result['exam2_n'])\n",
    "result['exam3_se'] = result['exam3_std'] / np.sqrt(result['exam3_n'])\n",
    "\n",
    "# Reset index to convert the grouped DataFrame back to a regular DataFrame\n",
    "result = result.reset_index()\n",
    "\n",
    "# let's view the result\n",
    "result.head()"
   ]
  },
  {
   "cell_type": "markdown",
   "id": "834e545c-4b4b-493e-bdba-ce0b2dfcab55",
   "metadata": {},
   "source": [
    "Once we have it in this format, we can easily use `matplotlib` to create a chart with the error bars. I'll pick the error bars to be 1.96 times the standard error so that this corresponds to a 95% confidence interval. This means that if we collected this data in 100 similar classes and computed the confidence interval for each, 95 of the intervals would contain the true average score of all physics classes on the exam (assuming we are saying these classes are samples from the population of physics classes). I'll only add one of the exams here to keep things simple but we could plot all of the exams on the sample plot with a few extra lines of code.\n",
    "\n",
    "(Side note: the 1.96 number comes from the normal distribution. In a normal distribution, approximately 95% of the data lies within 1.96 standard deviations from the mean. This is often rounded to 2 as in the [68-95-99.7 rule](https://en.wikipedia.org/wiki/68%E2%80%9395%E2%80%9399.7_rule). In PER, a difference greater than 2 standard deviations is generally the minimum for a result to be statistically significant. In particle physics, it is 5 standard deviations, often called $5\\sigma$ or 5 sigma. Here, if these 1.96 standard error error bars don't overlap, that suggests the performance difference between group 1 and group 2 is statitically signficant ($p<0.05$)."
   ]
  },
  {
   "cell_type": "code",
   "execution_count": null,
   "id": "ffcabd46-fcac-4e1c-865b-8dd2aff1e284",
   "metadata": {},
   "outputs": [],
   "source": [
    "import matplotlib.pyplot as plt\n",
    "\n",
    "plt.bar(result['group'], result['exam1_mean'], color='black')\n",
    "plt.errorbar(result['group'], result['exam1_mean'], yerr=1.96*result['exam1_se'], capsize=50, elinewidth=2, fmt='none', color = 'red')\n",
    "plt.xlabel('Group')\n",
    "plt.ylabel('Mean Exam 1 Score')\n",
    "plt.title('Mean Exam 1 Scores by Group with 95% confidence interval')"
   ]
  },
  {
   "cell_type": "markdown",
   "id": "795a0f09-dfaa-4471-92bb-86267fd149cc",
   "metadata": {},
   "source": [
    "In relatively few lines of code, we were able to take a list of exam grades, group them by some category, compute the number of students taking each exam, the average score, and the standard deviation, use that information to compute the standard error, and then make a plot with this information. Not bad!"
   ]
  }
 ],
 "metadata": {
  "kernelspec": {
   "display_name": "Python 3 (ipykernel)",
   "language": "python",
   "name": "python3"
  },
  "language_info": {
   "codemirror_mode": {
    "name": "ipython",
    "version": 3
   },
   "file_extension": ".py",
   "mimetype": "text/x-python",
   "name": "python",
   "nbconvert_exporter": "python",
   "pygments_lexer": "ipython3",
   "version": "3.11.9"
  }
 },
 "nbformat": 4,
 "nbformat_minor": 5
}
