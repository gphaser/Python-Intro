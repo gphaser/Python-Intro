{
 "cells": [
  {
   "cell_type": "markdown",
   "id": "fa131a12-02a1-4bb1-b40e-c24c4bcdcb4d",
   "metadata": {},
   "source": [
    "# Exam Data Tutorial\n",
    "The goal of this tutorial is to introduce some useful functions and show how to do typical tasks when working with quantitative educational data. This tutorial assumes you already have basic knowledge of Python and Pandas. It also assumes you are familiar with method chaining (e.g. `myobject.function()` ) as a way to reduce intermediate steps and make your code more readable.\n",
    "\n",
    "In this lesson, you will learn the following:\n",
    "* How to sort and view data\n",
    "* Compute values from multiple columns\n",
    "* Compute values across a row\n",
    "* How to break results down by some grouping variable\n",
    "* How to extract a column from a data frame for use elsewhere"
   ]
  },
  {
   "cell_type": "markdown",
   "id": "54f1e92b-4613-470a-8ec9-1cb045f368da",
   "metadata": {},
   "source": [
    "## Setting up\n",
    "This tutorial uses the `exam_data.csv` file. This file represents simulated exam scores for a course with three exams and is similar to what you might see if you were using the eLC gradebook for a project. Scores are between 0 and 100 but you'll notice most students did well on this exam. There is also a generic `group` binary variable that could represent something like female, underrepresented minority, first generation status, etc.\n",
    "\n",
    "`pandas` is the package that handles data frames in Python so we are doing to load that first. We can then use the `read_csv` function to import the `exam_data.csv` file as a data frame in Pyton"
   ]
  },
  {
   "cell_type": "code",
   "execution_count": 2,
   "id": "155da30b-da2f-4692-b5a7-150efd5b7797",
   "metadata": {},
   "outputs": [],
   "source": [
    "import pandas as pd"
   ]
  },
  {
   "cell_type": "code",
   "execution_count": 4,
   "id": "df300813-9973-4f4c-8a42-a642d397dcf9",
   "metadata": {},
   "outputs": [],
   "source": [
    "exam_data = pd.read_csv(\"exam_data.csv\")"
   ]
  },
  {
   "cell_type": "markdown",
   "id": "162186e0-1bd3-417f-81d7-a76a91499e79",
   "metadata": {},
   "source": [
    "## Familiarizing ourselves with the data\n",
    "Before doing any analysis, it's useful to get a sense of what the data looks like. There are a variety of different things we can check. Let's walk through them."
   ]
  },
  {
   "cell_type": "markdown",
   "id": "3dc8abdd-6f0b-4f0f-83d0-839b4652f104",
   "metadata": {},
   "source": [
    "First, let's look at the first few rows of the data frame to see what our data looks like. We can do this either with indexing or `.head()`. Let's look at the first six rows. Remember that Python indexing starts at 0 and not 1!\n",
    "\n",
    "You'll notice that both examples return the same rows. You can change the numbers to view more or fewer rows."
   ]
  },
  {
   "cell_type": "code",
   "execution_count": 75,
   "id": "2d42d542-e87a-424e-8a32-5d6876f96c45",
   "metadata": {},
   "outputs": [
    {
     "data": {
      "text/html": [
       "<div>\n",
       "<style scoped>\n",
       "    .dataframe tbody tr th:only-of-type {\n",
       "        vertical-align: middle;\n",
       "    }\n",
       "\n",
       "    .dataframe tbody tr th {\n",
       "        vertical-align: top;\n",
       "    }\n",
       "\n",
       "    .dataframe thead th {\n",
       "        text-align: right;\n",
       "    }\n",
       "</style>\n",
       "<table border=\"1\" class=\"dataframe\">\n",
       "  <thead>\n",
       "    <tr style=\"text-align: right;\">\n",
       "      <th></th>\n",
       "      <th>id</th>\n",
       "      <th>group</th>\n",
       "      <th>exam1</th>\n",
       "      <th>exam2</th>\n",
       "      <th>exam3</th>\n",
       "      <th>avg_grade</th>\n",
       "    </tr>\n",
       "  </thead>\n",
       "  <tbody>\n",
       "    <tr>\n",
       "      <th>0</th>\n",
       "      <td>1001</td>\n",
       "      <td>group1</td>\n",
       "      <td>90</td>\n",
       "      <td>95</td>\n",
       "      <td>97</td>\n",
       "      <td>94.000000</td>\n",
       "    </tr>\n",
       "    <tr>\n",
       "      <th>1</th>\n",
       "      <td>1002</td>\n",
       "      <td>group2</td>\n",
       "      <td>77</td>\n",
       "      <td>80</td>\n",
       "      <td>81</td>\n",
       "      <td>79.333333</td>\n",
       "    </tr>\n",
       "    <tr>\n",
       "      <th>2</th>\n",
       "      <td>1003</td>\n",
       "      <td>group2</td>\n",
       "      <td>80</td>\n",
       "      <td>84</td>\n",
       "      <td>86</td>\n",
       "      <td>83.333333</td>\n",
       "    </tr>\n",
       "    <tr>\n",
       "      <th>3</th>\n",
       "      <td>1004</td>\n",
       "      <td>group2</td>\n",
       "      <td>89</td>\n",
       "      <td>93</td>\n",
       "      <td>95</td>\n",
       "      <td>92.333333</td>\n",
       "    </tr>\n",
       "    <tr>\n",
       "      <th>4</th>\n",
       "      <td>1005</td>\n",
       "      <td>group1</td>\n",
       "      <td>89</td>\n",
       "      <td>94</td>\n",
       "      <td>98</td>\n",
       "      <td>93.666667</td>\n",
       "    </tr>\n",
       "    <tr>\n",
       "      <th>5</th>\n",
       "      <td>1006</td>\n",
       "      <td>group1</td>\n",
       "      <td>84</td>\n",
       "      <td>88</td>\n",
       "      <td>91</td>\n",
       "      <td>87.666667</td>\n",
       "    </tr>\n",
       "  </tbody>\n",
       "</table>\n",
       "</div>"
      ],
      "text/plain": [
       "     id   group  exam1  exam2  exam3  avg_grade\n",
       "0  1001  group1     90     95     97  94.000000\n",
       "1  1002  group2     77     80     81  79.333333\n",
       "2  1003  group2     80     84     86  83.333333\n",
       "3  1004  group2     89     93     95  92.333333\n",
       "4  1005  group1     89     94     98  93.666667\n",
       "5  1006  group1     84     88     91  87.666667"
      ]
     },
     "execution_count": 75,
     "metadata": {},
     "output_type": "execute_result"
    }
   ],
   "source": [
    "exam_data[0:6]"
   ]
  },
  {
   "cell_type": "code",
   "execution_count": 77,
   "id": "e0f99a85-48d3-4fcf-b8f7-2ad27eedc728",
   "metadata": {},
   "outputs": [
    {
     "data": {
      "text/html": [
       "<div>\n",
       "<style scoped>\n",
       "    .dataframe tbody tr th:only-of-type {\n",
       "        vertical-align: middle;\n",
       "    }\n",
       "\n",
       "    .dataframe tbody tr th {\n",
       "        vertical-align: top;\n",
       "    }\n",
       "\n",
       "    .dataframe thead th {\n",
       "        text-align: right;\n",
       "    }\n",
       "</style>\n",
       "<table border=\"1\" class=\"dataframe\">\n",
       "  <thead>\n",
       "    <tr style=\"text-align: right;\">\n",
       "      <th></th>\n",
       "      <th>id</th>\n",
       "      <th>group</th>\n",
       "      <th>exam1</th>\n",
       "      <th>exam2</th>\n",
       "      <th>exam3</th>\n",
       "      <th>avg_grade</th>\n",
       "    </tr>\n",
       "  </thead>\n",
       "  <tbody>\n",
       "    <tr>\n",
       "      <th>0</th>\n",
       "      <td>1001</td>\n",
       "      <td>group1</td>\n",
       "      <td>90</td>\n",
       "      <td>95</td>\n",
       "      <td>97</td>\n",
       "      <td>94.000000</td>\n",
       "    </tr>\n",
       "    <tr>\n",
       "      <th>1</th>\n",
       "      <td>1002</td>\n",
       "      <td>group2</td>\n",
       "      <td>77</td>\n",
       "      <td>80</td>\n",
       "      <td>81</td>\n",
       "      <td>79.333333</td>\n",
       "    </tr>\n",
       "    <tr>\n",
       "      <th>2</th>\n",
       "      <td>1003</td>\n",
       "      <td>group2</td>\n",
       "      <td>80</td>\n",
       "      <td>84</td>\n",
       "      <td>86</td>\n",
       "      <td>83.333333</td>\n",
       "    </tr>\n",
       "    <tr>\n",
       "      <th>3</th>\n",
       "      <td>1004</td>\n",
       "      <td>group2</td>\n",
       "      <td>89</td>\n",
       "      <td>93</td>\n",
       "      <td>95</td>\n",
       "      <td>92.333333</td>\n",
       "    </tr>\n",
       "    <tr>\n",
       "      <th>4</th>\n",
       "      <td>1005</td>\n",
       "      <td>group1</td>\n",
       "      <td>89</td>\n",
       "      <td>94</td>\n",
       "      <td>98</td>\n",
       "      <td>93.666667</td>\n",
       "    </tr>\n",
       "    <tr>\n",
       "      <th>5</th>\n",
       "      <td>1006</td>\n",
       "      <td>group1</td>\n",
       "      <td>84</td>\n",
       "      <td>88</td>\n",
       "      <td>91</td>\n",
       "      <td>87.666667</td>\n",
       "    </tr>\n",
       "  </tbody>\n",
       "</table>\n",
       "</div>"
      ],
      "text/plain": [
       "     id   group  exam1  exam2  exam3  avg_grade\n",
       "0  1001  group1     90     95     97  94.000000\n",
       "1  1002  group2     77     80     81  79.333333\n",
       "2  1003  group2     80     84     86  83.333333\n",
       "3  1004  group2     89     93     95  92.333333\n",
       "4  1005  group1     89     94     98  93.666667\n",
       "5  1006  group1     84     88     91  87.666667"
      ]
     },
     "execution_count": 77,
     "metadata": {},
     "output_type": "execute_result"
    }
   ],
   "source": [
    "exam_data.head(6)"
   ]
  },
  {
   "cell_type": "markdown",
   "id": "f265d7d4-6834-42c5-b04d-744db73a8d42",
   "metadata": {},
   "source": [
    "Another useful thing to do is sort the data frame by some column. We can do that by `.sort_values`. Let's sort by exam 1 scores first. Then let's do an example of sorting by group. Remember that `.sort_values()` is an out-of-place function so the original data frame is unchanged and you need to write this as a variable if you want to save it or set the `inplace` parameter in `.sort_values()` to `True` if you want the original data frame to be modified (generally not recommended)."
   ]
  },
  {
   "cell_type": "code",
   "execution_count": 86,
   "id": "b60960df-71df-46e0-835c-e880b82e415d",
   "metadata": {},
   "outputs": [
    {
     "data": {
      "text/html": [
       "<div>\n",
       "<style scoped>\n",
       "    .dataframe tbody tr th:only-of-type {\n",
       "        vertical-align: middle;\n",
       "    }\n",
       "\n",
       "    .dataframe tbody tr th {\n",
       "        vertical-align: top;\n",
       "    }\n",
       "\n",
       "    .dataframe thead th {\n",
       "        text-align: right;\n",
       "    }\n",
       "</style>\n",
       "<table border=\"1\" class=\"dataframe\">\n",
       "  <thead>\n",
       "    <tr style=\"text-align: right;\">\n",
       "      <th></th>\n",
       "      <th>id</th>\n",
       "      <th>group</th>\n",
       "      <th>exam1</th>\n",
       "      <th>exam2</th>\n",
       "      <th>exam3</th>\n",
       "      <th>avg_grade</th>\n",
       "    </tr>\n",
       "  </thead>\n",
       "  <tbody>\n",
       "    <tr>\n",
       "      <th>191</th>\n",
       "      <td>1192</td>\n",
       "      <td>group2</td>\n",
       "      <td>69</td>\n",
       "      <td>74</td>\n",
       "      <td>75</td>\n",
       "      <td>72.666667</td>\n",
       "    </tr>\n",
       "    <tr>\n",
       "      <th>98</th>\n",
       "      <td>1099</td>\n",
       "      <td>group1</td>\n",
       "      <td>70</td>\n",
       "      <td>74</td>\n",
       "      <td>76</td>\n",
       "      <td>73.333333</td>\n",
       "    </tr>\n",
       "    <tr>\n",
       "      <th>187</th>\n",
       "      <td>1188</td>\n",
       "      <td>group1</td>\n",
       "      <td>72</td>\n",
       "      <td>80</td>\n",
       "      <td>82</td>\n",
       "      <td>78.000000</td>\n",
       "    </tr>\n",
       "    <tr>\n",
       "      <th>150</th>\n",
       "      <td>1151</td>\n",
       "      <td>group2</td>\n",
       "      <td>72</td>\n",
       "      <td>77</td>\n",
       "      <td>78</td>\n",
       "      <td>75.666667</td>\n",
       "    </tr>\n",
       "    <tr>\n",
       "      <th>17</th>\n",
       "      <td>1018</td>\n",
       "      <td>group2</td>\n",
       "      <td>72</td>\n",
       "      <td>75</td>\n",
       "      <td>78</td>\n",
       "      <td>75.000000</td>\n",
       "    </tr>\n",
       "    <tr>\n",
       "      <th>...</th>\n",
       "      <td>...</td>\n",
       "      <td>...</td>\n",
       "      <td>...</td>\n",
       "      <td>...</td>\n",
       "      <td>...</td>\n",
       "      <td>...</td>\n",
       "    </tr>\n",
       "    <tr>\n",
       "      <th>58</th>\n",
       "      <td>1059</td>\n",
       "      <td>group2</td>\n",
       "      <td>94</td>\n",
       "      <td>98</td>\n",
       "      <td>100</td>\n",
       "      <td>97.333333</td>\n",
       "    </tr>\n",
       "    <tr>\n",
       "      <th>42</th>\n",
       "      <td>1043</td>\n",
       "      <td>group1</td>\n",
       "      <td>94</td>\n",
       "      <td>99</td>\n",
       "      <td>100</td>\n",
       "      <td>97.666667</td>\n",
       "    </tr>\n",
       "    <tr>\n",
       "      <th>161</th>\n",
       "      <td>1162</td>\n",
       "      <td>group1</td>\n",
       "      <td>95</td>\n",
       "      <td>100</td>\n",
       "      <td>100</td>\n",
       "      <td>98.333333</td>\n",
       "    </tr>\n",
       "    <tr>\n",
       "      <th>170</th>\n",
       "      <td>1171</td>\n",
       "      <td>group1</td>\n",
       "      <td>96</td>\n",
       "      <td>100</td>\n",
       "      <td>100</td>\n",
       "      <td>98.666667</td>\n",
       "    </tr>\n",
       "    <tr>\n",
       "      <th>199</th>\n",
       "      <td>1200</td>\n",
       "      <td>group2</td>\n",
       "      <td>96</td>\n",
       "      <td>99</td>\n",
       "      <td>100</td>\n",
       "      <td>98.333333</td>\n",
       "    </tr>\n",
       "  </tbody>\n",
       "</table>\n",
       "<p>200 rows × 6 columns</p>\n",
       "</div>"
      ],
      "text/plain": [
       "       id   group  exam1  exam2  exam3  avg_grade\n",
       "191  1192  group2     69     74     75  72.666667\n",
       "98   1099  group1     70     74     76  73.333333\n",
       "187  1188  group1     72     80     82  78.000000\n",
       "150  1151  group2     72     77     78  75.666667\n",
       "17   1018  group2     72     75     78  75.000000\n",
       "..    ...     ...    ...    ...    ...        ...\n",
       "58   1059  group2     94     98    100  97.333333\n",
       "42   1043  group1     94     99    100  97.666667\n",
       "161  1162  group1     95    100    100  98.333333\n",
       "170  1171  group1     96    100    100  98.666667\n",
       "199  1200  group2     96     99    100  98.333333\n",
       "\n",
       "[200 rows x 6 columns]"
      ]
     },
     "execution_count": 86,
     "metadata": {},
     "output_type": "execute_result"
    }
   ],
   "source": [
    "# sorting by exam1 scores\n",
    "exam_data.sort_values(by = 'exam1')"
   ]
  },
  {
   "cell_type": "code",
   "execution_count": 84,
   "id": "e7e2c66e-a2d0-4484-9701-59a1fbbdec9d",
   "metadata": {},
   "outputs": [],
   "source": [
    "# sorting by group and then saving the sorted data frame as a new variable\n",
    "exam_data_sorted = exam_data.sort_values(by='group')"
   ]
  },
  {
   "cell_type": "markdown",
   "id": "78e6b681-b161-4dc8-ab12-662a4d5462ad",
   "metadata": {},
   "source": [
    "## Calculating values from a column\n",
    "For many numeric data, we are often interested in a summary statistic like the mean, median, or standard deviation to describe some type of behavior. For example, what was the average score on a test.\n",
    "\n",
    "This is pretty straighforward to do in Python. Let's do an example with the mean."
   ]
  },
  {
   "cell_type": "markdown",
   "id": "de04cc9a-c222-493b-8e0e-5b21eb94aa57",
   "metadata": {},
   "source": [
    "The basic idea is to select the columns we want to use and then chain the type statistic we want to calculate such as `.mean()`, `.median()`, or `.std()`. If we want to calculate the mean score of each exam, we can do the following."
   ]
  },
  {
   "cell_type": "code",
   "execution_count": 9,
   "id": "0ae8df62-1fa0-4d5b-b714-1a0ba3a3b25f",
   "metadata": {},
   "outputs": [
    {
     "data": {
      "text/plain": [
       "exam1    83.620\n",
       "exam2    88.035\n",
       "exam3    90.270\n",
       "dtype: float64"
      ]
     },
     "execution_count": 9,
     "metadata": {},
     "output_type": "execute_result"
    }
   ],
   "source": [
    "exam_data_summary = exam_data[['exam1', 'exam2', 'exam3']].mean()\n",
    "exam_data_summary"
   ]
  },
  {
   "cell_type": "markdown",
   "id": "125aca61-41ea-41a3-a66b-9c4488db3496",
   "metadata": {},
   "source": [
    "Notice here I save the means as a separate variable so I can easily get them back. I can also directly print to console if I don't need to save them."
   ]
  },
  {
   "cell_type": "code",
   "execution_count": 100,
   "id": "2ec323db-4f71-4fcd-8f2a-12d1b7e823d4",
   "metadata": {},
   "outputs": [
    {
     "data": {
      "text/plain": [
       "exam1    83.620\n",
       "exam2    88.035\n",
       "exam3    90.270\n",
       "dtype: float64"
      ]
     },
     "execution_count": 100,
     "metadata": {},
     "output_type": "execute_result"
    }
   ],
   "source": [
    "exam_data[['exam1', 'exam2', 'exam3']].mean()"
   ]
  },
  {
   "cell_type": "markdown",
   "id": "2e425944-1fb6-48eb-9d3b-87e77f6455d4",
   "metadata": {},
   "source": [
    "I can do the same thing with other functions to like finding the standard deviation or spread of the scores"
   ]
  },
  {
   "cell_type": "code",
   "execution_count": 103,
   "id": "0d8618b9-0825-4966-ae4d-01a1470c456c",
   "metadata": {},
   "outputs": [
    {
     "data": {
      "text/plain": [
       "exam1    5.088720\n",
       "exam2    5.301349\n",
       "exam3    5.324363\n",
       "dtype: float64"
      ]
     },
     "execution_count": 103,
     "metadata": {},
     "output_type": "execute_result"
    }
   ],
   "source": [
    "exam_data[['exam1', 'exam2', 'exam3']].std()"
   ]
  },
  {
   "cell_type": "markdown",
   "id": "9208330e-87f9-4928-845d-c1cd6410ae60",
   "metadata": {},
   "source": [
    "If I want to get multiple common statistics at the same time, I can use `.describe()`"
   ]
  },
  {
   "cell_type": "code",
   "execution_count": 108,
   "id": "00b86783-e46b-4020-af2b-553fc1ef0f14",
   "metadata": {},
   "outputs": [
    {
     "data": {
      "text/html": [
       "<div>\n",
       "<style scoped>\n",
       "    .dataframe tbody tr th:only-of-type {\n",
       "        vertical-align: middle;\n",
       "    }\n",
       "\n",
       "    .dataframe tbody tr th {\n",
       "        vertical-align: top;\n",
       "    }\n",
       "\n",
       "    .dataframe thead th {\n",
       "        text-align: right;\n",
       "    }\n",
       "</style>\n",
       "<table border=\"1\" class=\"dataframe\">\n",
       "  <thead>\n",
       "    <tr style=\"text-align: right;\">\n",
       "      <th></th>\n",
       "      <th>exam1</th>\n",
       "      <th>exam2</th>\n",
       "      <th>exam3</th>\n",
       "    </tr>\n",
       "  </thead>\n",
       "  <tbody>\n",
       "    <tr>\n",
       "      <th>count</th>\n",
       "      <td>200.00000</td>\n",
       "      <td>200.000000</td>\n",
       "      <td>200.000000</td>\n",
       "    </tr>\n",
       "    <tr>\n",
       "      <th>mean</th>\n",
       "      <td>83.62000</td>\n",
       "      <td>88.035000</td>\n",
       "      <td>90.270000</td>\n",
       "    </tr>\n",
       "    <tr>\n",
       "      <th>std</th>\n",
       "      <td>5.08872</td>\n",
       "      <td>5.301349</td>\n",
       "      <td>5.324363</td>\n",
       "    </tr>\n",
       "    <tr>\n",
       "      <th>min</th>\n",
       "      <td>69.00000</td>\n",
       "      <td>74.000000</td>\n",
       "      <td>75.000000</td>\n",
       "    </tr>\n",
       "    <tr>\n",
       "      <th>25%</th>\n",
       "      <td>80.00000</td>\n",
       "      <td>84.000000</td>\n",
       "      <td>87.000000</td>\n",
       "    </tr>\n",
       "    <tr>\n",
       "      <th>50%</th>\n",
       "      <td>83.50000</td>\n",
       "      <td>88.000000</td>\n",
       "      <td>90.000000</td>\n",
       "    </tr>\n",
       "    <tr>\n",
       "      <th>75%</th>\n",
       "      <td>87.00000</td>\n",
       "      <td>92.000000</td>\n",
       "      <td>94.000000</td>\n",
       "    </tr>\n",
       "    <tr>\n",
       "      <th>max</th>\n",
       "      <td>96.00000</td>\n",
       "      <td>100.000000</td>\n",
       "      <td>100.000000</td>\n",
       "    </tr>\n",
       "  </tbody>\n",
       "</table>\n",
       "</div>"
      ],
      "text/plain": [
       "           exam1       exam2       exam3\n",
       "count  200.00000  200.000000  200.000000\n",
       "mean    83.62000   88.035000   90.270000\n",
       "std      5.08872    5.301349    5.324363\n",
       "min     69.00000   74.000000   75.000000\n",
       "25%     80.00000   84.000000   87.000000\n",
       "50%     83.50000   88.000000   90.000000\n",
       "75%     87.00000   92.000000   94.000000\n",
       "max     96.00000  100.000000  100.000000"
      ]
     },
     "execution_count": 108,
     "metadata": {},
     "output_type": "execute_result"
    }
   ],
   "source": [
    "exam_data[['exam1', 'exam2', 'exam3']].describe()"
   ]
  },
  {
   "cell_type": "markdown",
   "id": "7e4ba7b1-32ad-410c-8d13-52c46255dada",
   "metadata": {},
   "source": [
    "You'll notice I get the same values as before but also much more information!\n",
    "\n",
    "You can select the columns you want or can you use the entire data frame and Python will skip the non-numeric columns"
   ]
  },
  {
   "cell_type": "code",
   "execution_count": 111,
   "id": "cdc263b5-3b5e-47de-b67b-625032b19241",
   "metadata": {},
   "outputs": [
    {
     "data": {
      "text/html": [
       "<div>\n",
       "<style scoped>\n",
       "    .dataframe tbody tr th:only-of-type {\n",
       "        vertical-align: middle;\n",
       "    }\n",
       "\n",
       "    .dataframe tbody tr th {\n",
       "        vertical-align: top;\n",
       "    }\n",
       "\n",
       "    .dataframe thead th {\n",
       "        text-align: right;\n",
       "    }\n",
       "</style>\n",
       "<table border=\"1\" class=\"dataframe\">\n",
       "  <thead>\n",
       "    <tr style=\"text-align: right;\">\n",
       "      <th></th>\n",
       "      <th>id</th>\n",
       "      <th>exam1</th>\n",
       "      <th>exam2</th>\n",
       "      <th>exam3</th>\n",
       "      <th>avg_grade</th>\n",
       "    </tr>\n",
       "  </thead>\n",
       "  <tbody>\n",
       "    <tr>\n",
       "      <th>count</th>\n",
       "      <td>200.000000</td>\n",
       "      <td>200.00000</td>\n",
       "      <td>200.000000</td>\n",
       "      <td>200.000000</td>\n",
       "      <td>200.000000</td>\n",
       "    </tr>\n",
       "    <tr>\n",
       "      <th>mean</th>\n",
       "      <td>1100.500000</td>\n",
       "      <td>83.62000</td>\n",
       "      <td>88.035000</td>\n",
       "      <td>90.270000</td>\n",
       "      <td>87.308333</td>\n",
       "    </tr>\n",
       "    <tr>\n",
       "      <th>std</th>\n",
       "      <td>57.879185</td>\n",
       "      <td>5.08872</td>\n",
       "      <td>5.301349</td>\n",
       "      <td>5.324363</td>\n",
       "      <td>5.192115</td>\n",
       "    </tr>\n",
       "    <tr>\n",
       "      <th>min</th>\n",
       "      <td>1001.000000</td>\n",
       "      <td>69.00000</td>\n",
       "      <td>74.000000</td>\n",
       "      <td>75.000000</td>\n",
       "      <td>72.666667</td>\n",
       "    </tr>\n",
       "    <tr>\n",
       "      <th>25%</th>\n",
       "      <td>1050.750000</td>\n",
       "      <td>80.00000</td>\n",
       "      <td>84.000000</td>\n",
       "      <td>87.000000</td>\n",
       "      <td>84.250000</td>\n",
       "    </tr>\n",
       "    <tr>\n",
       "      <th>50%</th>\n",
       "      <td>1100.500000</td>\n",
       "      <td>83.50000</td>\n",
       "      <td>88.000000</td>\n",
       "      <td>90.000000</td>\n",
       "      <td>87.333333</td>\n",
       "    </tr>\n",
       "    <tr>\n",
       "      <th>75%</th>\n",
       "      <td>1150.250000</td>\n",
       "      <td>87.00000</td>\n",
       "      <td>92.000000</td>\n",
       "      <td>94.000000</td>\n",
       "      <td>91.000000</td>\n",
       "    </tr>\n",
       "    <tr>\n",
       "      <th>max</th>\n",
       "      <td>1200.000000</td>\n",
       "      <td>96.00000</td>\n",
       "      <td>100.000000</td>\n",
       "      <td>100.000000</td>\n",
       "      <td>98.666667</td>\n",
       "    </tr>\n",
       "  </tbody>\n",
       "</table>\n",
       "</div>"
      ],
      "text/plain": [
       "                id      exam1       exam2       exam3   avg_grade\n",
       "count   200.000000  200.00000  200.000000  200.000000  200.000000\n",
       "mean   1100.500000   83.62000   88.035000   90.270000   87.308333\n",
       "std      57.879185    5.08872    5.301349    5.324363    5.192115\n",
       "min    1001.000000   69.00000   74.000000   75.000000   72.666667\n",
       "25%    1050.750000   80.00000   84.000000   87.000000   84.250000\n",
       "50%    1100.500000   83.50000   88.000000   90.000000   87.333333\n",
       "75%    1150.250000   87.00000   92.000000   94.000000   91.000000\n",
       "max    1200.000000   96.00000  100.000000  100.000000   98.666667"
      ]
     },
     "execution_count": 111,
     "metadata": {},
     "output_type": "execute_result"
    }
   ],
   "source": [
    "exam_data.describe()"
   ]
  },
  {
   "cell_type": "code",
   "execution_count": 13,
   "id": "314f098b-b84a-41bb-bb16-27a480f9dbf2",
   "metadata": {},
   "outputs": [],
   "source": [
    "exam_data['avg_grade'] = exam_data[['exam1', 'exam2', 'exam3']].mean(axis=1)"
   ]
  },
  {
   "cell_type": "code",
   "execution_count": 23,
   "id": "1ec548db-3b75-491b-9936-ebfef01d0555",
   "metadata": {},
   "outputs": [
    {
     "data": {
      "text/html": [
       "<div>\n",
       "<style scoped>\n",
       "    .dataframe tbody tr th:only-of-type {\n",
       "        vertical-align: middle;\n",
       "    }\n",
       "\n",
       "    .dataframe tbody tr th {\n",
       "        vertical-align: top;\n",
       "    }\n",
       "\n",
       "    .dataframe thead th {\n",
       "        text-align: right;\n",
       "    }\n",
       "</style>\n",
       "<table border=\"1\" class=\"dataframe\">\n",
       "  <thead>\n",
       "    <tr style=\"text-align: right;\">\n",
       "      <th></th>\n",
       "      <th>group</th>\n",
       "      <th>exam1_mean</th>\n",
       "      <th>exam2_mean</th>\n",
       "      <th>exam3_mean</th>\n",
       "    </tr>\n",
       "  </thead>\n",
       "  <tbody>\n",
       "    <tr>\n",
       "      <th>0</th>\n",
       "      <td>group1</td>\n",
       "      <td>85.15</td>\n",
       "      <td>90.09</td>\n",
       "      <td>92.54</td>\n",
       "    </tr>\n",
       "    <tr>\n",
       "      <th>1</th>\n",
       "      <td>group2</td>\n",
       "      <td>82.09</td>\n",
       "      <td>85.98</td>\n",
       "      <td>88.00</td>\n",
       "    </tr>\n",
       "  </tbody>\n",
       "</table>\n",
       "</div>"
      ],
      "text/plain": [
       "    group  exam1_mean  exam2_mean  exam3_mean\n",
       "0  group1       85.15       90.09       92.54\n",
       "1  group2       82.09       85.98       88.00"
      ]
     },
     "execution_count": 23,
     "metadata": {},
     "output_type": "execute_result"
    }
   ],
   "source": [
    "exam_data_group_summary = exam_data.groupby('group').agg(\n",
    "    exam1_mean=('exam1', 'mean'),\n",
    "    exam2_mean=('exam2', 'mean'),\n",
    "    exam3_mean=('exam3', 'mean')\n",
    ").reset_index()\n",
    "\n",
    "exam_data_group_summary"
   ]
  },
  {
   "cell_type": "code",
   "execution_count": 25,
   "id": "d6ab091b-204c-4045-89a9-fd936af5fa35",
   "metadata": {},
   "outputs": [
    {
     "data": {
      "text/html": [
       "<div>\n",
       "<style scoped>\n",
       "    .dataframe tbody tr th:only-of-type {\n",
       "        vertical-align: middle;\n",
       "    }\n",
       "\n",
       "    .dataframe tbody tr th {\n",
       "        vertical-align: top;\n",
       "    }\n",
       "\n",
       "    .dataframe thead th {\n",
       "        text-align: right;\n",
       "    }\n",
       "</style>\n",
       "<table border=\"1\" class=\"dataframe\">\n",
       "  <thead>\n",
       "    <tr style=\"text-align: right;\">\n",
       "      <th></th>\n",
       "      <th>group</th>\n",
       "      <th>exam1_mean</th>\n",
       "      <th>exam2_mean</th>\n",
       "      <th>exam3_mean</th>\n",
       "    </tr>\n",
       "  </thead>\n",
       "  <tbody>\n",
       "    <tr>\n",
       "      <th>0</th>\n",
       "      <td>group1</td>\n",
       "      <td>85.15</td>\n",
       "      <td>90.09</td>\n",
       "      <td>92.54</td>\n",
       "    </tr>\n",
       "    <tr>\n",
       "      <th>1</th>\n",
       "      <td>group2</td>\n",
       "      <td>82.09</td>\n",
       "      <td>85.98</td>\n",
       "      <td>88.00</td>\n",
       "    </tr>\n",
       "  </tbody>\n",
       "</table>\n",
       "</div>"
      ],
      "text/plain": [
       "    group  exam1_mean  exam2_mean  exam3_mean\n",
       "0  group1       85.15       90.09       92.54\n",
       "1  group2       82.09       85.98       88.00"
      ]
     },
     "execution_count": 25,
     "metadata": {},
     "output_type": "execute_result"
    }
   ],
   "source": [
    "# Group the data by 'group'\n",
    "grouped_data = exam_data.groupby('group')\n",
    "\n",
    "# Calculate the mean for each exam column\n",
    "exam1_mean = grouped_data['exam1'].mean()\n",
    "exam2_mean = grouped_data['exam2'].mean()\n",
    "exam3_mean = grouped_data['exam3'].mean()\n",
    "\n",
    "# Create a new DataFrame to store the results\n",
    "exam_data_group_summary_2 = pd.DataFrame({\n",
    "    'group': exam1_mean.index,\n",
    "    'exam1_mean': exam1_mean.values,\n",
    "    'exam2_mean': exam2_mean.values,\n",
    "    'exam3_mean': exam3_mean.values\n",
    "})\n",
    "\n",
    "exam_data_group_summary_2"
   ]
  },
  {
   "cell_type": "code",
   "execution_count": 31,
   "id": "b1e9c9ab-fe64-4a98-a878-1d6c498a2eee",
   "metadata": {},
   "outputs": [],
   "source": [
    "# Calculate the average grade by row\n",
    "exam_data['avg_grade'] = exam_data[['exam1', 'exam2', 'exam3']].mean(axis=1)\n",
    "\n",
    "# Filter the DataFrame for the specified group\n",
    "filtered_data = exam_data[exam_data['group'] == 'group1']\n",
    "\n",
    "# Select the 'avg_grade' column\n",
    "avg_grade_data = filtered_data[['avg_grade']]\n"
   ]
  },
  {
   "cell_type": "code",
   "execution_count": 35,
   "id": "3acab979-a134-4a26-8fed-10df864d7189",
   "metadata": {},
   "outputs": [],
   "source": [
    "avg_grade_data_2 = (\n",
    "    exam_data\n",
    "    .assign(avg_grade=exam_data[['exam1', 'exam2', 'exam3']].mean(axis=1))  # Calculate avg_grade\n",
    "    .query('group == \"group1\"')  # Filter for group1\n",
    "    .loc[:, ['avg_grade']]  # Select the avg_grade column\n",
    ")\n"
   ]
  },
  {
   "cell_type": "code",
   "execution_count": null,
   "id": "1c7df2af-518d-46d3-a176-6c86d11c9198",
   "metadata": {},
   "outputs": [],
   "source": [
    "# Calculate the average grade by row\n",
    "exam_data['avg_grade'] = exam_data[['exam1', 'exam2', 'exam3']].mean(axis=1)\n",
    "\n",
    "# Filter the DataFrame for the specified group\n",
    "filtered_data = exam_data[exam_data['group'] == 'group1']\n",
    "\n",
    "# Pull the 'avg_grade' column as a Series\n",
    "avg_grade_data = filtered_data['avg_grade']\n"
   ]
  },
  {
   "cell_type": "code",
   "execution_count": null,
   "id": "a50b721e-4f79-4b07-8b94-fcbbcb167962",
   "metadata": {},
   "outputs": [],
   "source": [
    "avg_grade_data = (\n",
    "    exam_data\n",
    "    .assign(avg_grade=exam_data[['exam1', 'exam2', 'exam3']].mean(axis=1))  # Calculate avg_grade\n",
    "    .query('group == \"group1\"')  # Filter for group1\n",
    "    .avg_grade  # Pull the avg_grade column\n",
    ")\n"
   ]
  }
 ],
 "metadata": {
  "kernelspec": {
   "display_name": "Python 3 (ipykernel)",
   "language": "python",
   "name": "python3"
  },
  "language_info": {
   "codemirror_mode": {
    "name": "ipython",
    "version": 3
   },
   "file_extension": ".py",
   "mimetype": "text/x-python",
   "name": "python",
   "nbconvert_exporter": "python",
   "pygments_lexer": "ipython3",
   "version": "3.11.9"
  }
 },
 "nbformat": 4,
 "nbformat_minor": 5
}
