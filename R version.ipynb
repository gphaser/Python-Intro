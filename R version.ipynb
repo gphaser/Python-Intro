{
 "cells": [
  {
   "cell_type": "code",
   "execution_count": 1,
   "id": "1af783ad-fb5c-49b6-8202-c9cd945db599",
   "metadata": {},
   "outputs": [
    {
     "name": "stderr",
     "output_type": "stream",
     "text": [
      "Warning message:\n",
      "\"package 'ggplot2' was built under R version 4.3.3\"\n",
      "── \u001b[1mAttaching core tidyverse packages\u001b[22m ──────────────────────── tidyverse 2.0.0 ──\n",
      "\u001b[32m✔\u001b[39m \u001b[34mdplyr    \u001b[39m 1.1.3     \u001b[32m✔\u001b[39m \u001b[34mreadr    \u001b[39m 2.1.4\n",
      "\u001b[32m✔\u001b[39m \u001b[34mforcats  \u001b[39m 1.0.0     \u001b[32m✔\u001b[39m \u001b[34mstringr  \u001b[39m 1.5.0\n",
      "\u001b[32m✔\u001b[39m \u001b[34mggplot2  \u001b[39m 3.5.1     \u001b[32m✔\u001b[39m \u001b[34mtibble   \u001b[39m 3.2.1\n",
      "\u001b[32m✔\u001b[39m \u001b[34mlubridate\u001b[39m 1.9.2     \u001b[32m✔\u001b[39m \u001b[34mtidyr    \u001b[39m 1.3.0\n",
      "\u001b[32m✔\u001b[39m \u001b[34mpurrr    \u001b[39m 1.0.2     \n",
      "── \u001b[1mConflicts\u001b[22m ────────────────────────────────────────── tidyverse_conflicts() ──\n",
      "\u001b[31m✖\u001b[39m \u001b[34mdplyr\u001b[39m::\u001b[32mfilter()\u001b[39m masks \u001b[34mstats\u001b[39m::filter()\n",
      "\u001b[31m✖\u001b[39m \u001b[34mdplyr\u001b[39m::\u001b[32mlag()\u001b[39m    masks \u001b[34mstats\u001b[39m::lag()\n",
      "\u001b[36mℹ\u001b[39m Use the conflicted package (\u001b[3m\u001b[34m<http://conflicted.r-lib.org/>\u001b[39m\u001b[23m) to force all conflicts to become errors\n"
     ]
    }
   ],
   "source": [
    "library(tidyverse)"
   ]
  },
  {
   "cell_type": "markdown",
   "id": "020e1bfa-d731-4dd3-b68d-94bf43b66eef",
   "metadata": {},
   "source": [
    "# Creating grade-like data\n",
    "This simulated file contains grade data like one could get from the eLC gradebook. Each student is given a single row with each exam as a separate column."
   ]
  },
  {
   "cell_type": "code",
   "execution_count": 177,
   "id": "1127063c-4244-47fc-9239-9a6df343c3b1",
   "metadata": {},
   "outputs": [],
   "source": [
    "data1 = data.frame(id= 1:100)\n",
    "data2 = data.frame(id = 1:100)\n",
    "\n",
    "set.seed(42)\n",
    "data1 <- data1 %>%\n",
    "        mutate(group=\"group1\",\n",
    "            exam1 = round(rnorm(100, 85, 5),0),\n",
    "              exam2 = exam1 + round(rnorm(100, 5, 1),0),\n",
    "               exam3 = round((exam1+ exam2)/2 + rnorm(100, 5, 1),0),\n",
    "              across(c(exam1, exam2, exam3), ~ if_else(. >100, 100, .))\n",
    "\n",
    "              )\n",
    "\n",
    "set.seed(1785)\n",
    "data2 <- data2 %>%\n",
    "        mutate(group = \"group2\",\n",
    "            exam1 = round(rnorm(100, 82, 4),0),\n",
    "              exam2 = exam1 + round(rnorm(100, 4, 1),0),\n",
    "               exam3 = round((exam1+ exam2)/2 + rnorm(100, 4, 1),0),\n",
    "              across(c(exam1, exam2, exam3), ~ if_else(. >100, 100, .))\n",
    "              )\n",
    "\n",
    "data <- rbind.data.frame(data1,data2)\n",
    "\n",
    "set.seed(1)\n",
    "data <- data %>%\n",
    "            slice_sample(n=nrow(data)) %>%\n",
    "            mutate(id = 1000 + 1:nrow(data))"
   ]
  },
  {
   "cell_type": "code",
   "execution_count": 179,
   "id": "afd8272d-13a3-433b-8516-d5dc8549f769",
   "metadata": {},
   "outputs": [
    {
     "data": {
      "text/html": [
       "<table class=\"dataframe\">\n",
       "<caption>A data.frame: 10 × 5</caption>\n",
       "<thead>\n",
       "\t<tr><th></th><th scope=col>id</th><th scope=col>group</th><th scope=col>exam1</th><th scope=col>exam2</th><th scope=col>exam3</th></tr>\n",
       "\t<tr><th></th><th scope=col>&lt;dbl&gt;</th><th scope=col>&lt;chr&gt;</th><th scope=col>&lt;dbl&gt;</th><th scope=col>&lt;dbl&gt;</th><th scope=col>&lt;dbl&gt;</th></tr>\n",
       "</thead>\n",
       "<tbody>\n",
       "\t<tr><th scope=row>1</th><td>1001</td><td>group1</td><td>90</td><td>95</td><td>97</td></tr>\n",
       "\t<tr><th scope=row>2</th><td>1002</td><td>group2</td><td>77</td><td>80</td><td>81</td></tr>\n",
       "\t<tr><th scope=row>3</th><td>1003</td><td>group2</td><td>80</td><td>84</td><td>86</td></tr>\n",
       "\t<tr><th scope=row>4</th><td>1004</td><td>group2</td><td>89</td><td>93</td><td>95</td></tr>\n",
       "\t<tr><th scope=row>5</th><td>1005</td><td>group1</td><td>89</td><td>94</td><td>98</td></tr>\n",
       "\t<tr><th scope=row>6</th><td>1006</td><td>group1</td><td>84</td><td>88</td><td>91</td></tr>\n",
       "\t<tr><th scope=row>7</th><td>1007</td><td>group2</td><td>83</td><td>87</td><td>89</td></tr>\n",
       "\t<tr><th scope=row>8</th><td>1008</td><td>group1</td><td>87</td><td>92</td><td>93</td></tr>\n",
       "\t<tr><th scope=row>9</th><td>1009</td><td>group1</td><td>79</td><td>84</td><td>87</td></tr>\n",
       "\t<tr><th scope=row>10</th><td>1010</td><td>group1</td><td>83</td><td>87</td><td>90</td></tr>\n",
       "</tbody>\n",
       "</table>\n"
      ],
      "text/latex": [
       "A data.frame: 10 × 5\n",
       "\\begin{tabular}{r|lllll}\n",
       "  & id & group & exam1 & exam2 & exam3\\\\\n",
       "  & <dbl> & <chr> & <dbl> & <dbl> & <dbl>\\\\\n",
       "\\hline\n",
       "\t1 & 1001 & group1 & 90 & 95 & 97\\\\\n",
       "\t2 & 1002 & group2 & 77 & 80 & 81\\\\\n",
       "\t3 & 1003 & group2 & 80 & 84 & 86\\\\\n",
       "\t4 & 1004 & group2 & 89 & 93 & 95\\\\\n",
       "\t5 & 1005 & group1 & 89 & 94 & 98\\\\\n",
       "\t6 & 1006 & group1 & 84 & 88 & 91\\\\\n",
       "\t7 & 1007 & group2 & 83 & 87 & 89\\\\\n",
       "\t8 & 1008 & group1 & 87 & 92 & 93\\\\\n",
       "\t9 & 1009 & group1 & 79 & 84 & 87\\\\\n",
       "\t10 & 1010 & group1 & 83 & 87 & 90\\\\\n",
       "\\end{tabular}\n"
      ],
      "text/markdown": [
       "\n",
       "A data.frame: 10 × 5\n",
       "\n",
       "| <!--/--> | id &lt;dbl&gt; | group &lt;chr&gt; | exam1 &lt;dbl&gt; | exam2 &lt;dbl&gt; | exam3 &lt;dbl&gt; |\n",
       "|---|---|---|---|---|---|\n",
       "| 1 | 1001 | group1 | 90 | 95 | 97 |\n",
       "| 2 | 1002 | group2 | 77 | 80 | 81 |\n",
       "| 3 | 1003 | group2 | 80 | 84 | 86 |\n",
       "| 4 | 1004 | group2 | 89 | 93 | 95 |\n",
       "| 5 | 1005 | group1 | 89 | 94 | 98 |\n",
       "| 6 | 1006 | group1 | 84 | 88 | 91 |\n",
       "| 7 | 1007 | group2 | 83 | 87 | 89 |\n",
       "| 8 | 1008 | group1 | 87 | 92 | 93 |\n",
       "| 9 | 1009 | group1 | 79 | 84 | 87 |\n",
       "| 10 | 1010 | group1 | 83 | 87 | 90 |\n",
       "\n"
      ],
      "text/plain": [
       "   id   group  exam1 exam2 exam3\n",
       "1  1001 group1 90    95    97   \n",
       "2  1002 group2 77    80    81   \n",
       "3  1003 group2 80    84    86   \n",
       "4  1004 group2 89    93    95   \n",
       "5  1005 group1 89    94    98   \n",
       "6  1006 group1 84    88    91   \n",
       "7  1007 group2 83    87    89   \n",
       "8  1008 group1 87    92    93   \n",
       "9  1009 group1 79    84    87   \n",
       "10 1010 group1 83    87    90   "
      ]
     },
     "metadata": {},
     "output_type": "display_data"
    }
   ],
   "source": [
    "head(data, 10)"
   ]
  },
  {
   "cell_type": "code",
   "execution_count": 181,
   "id": "74c56f6b-67d1-45be-8bb8-a4d2c2cbd5a1",
   "metadata": {},
   "outputs": [],
   "source": [
    "write.csv(data, file=\"exam_data.csv\", row.names=FALSE)"
   ]
  },
  {
   "cell_type": "markdown",
   "id": "829cbab3-c7b2-4371-83ab-88d5a3ea9a36",
   "metadata": {},
   "source": [
    "## With missing data"
   ]
  },
  {
   "cell_type": "code",
   "execution_count": 225,
   "id": "f0dd9658-b379-4798-9d97-a16baebfb517",
   "metadata": {},
   "outputs": [],
   "source": [
    "set.seed(123)\n",
    "\n",
    "missing_rows <- sample(1:200, 5, replace=FALSE)\n",
    "missing_columns1 <- sample(1:200, 5, replace=FALSE)\n",
    "missing_columns2<- sample(1:200, 5, replace=FALSE)\n",
    "missing_columns3 <- sample(1:200, 5, replace=FALSE)\n",
    "\n",
    "data1m<-data %>% \n",
    "            mutate(\n",
    "                    Row_number = row_number(),\n",
    "                    across(c(exam1, exam2, exam3), ~if_else(Row_number %in% missing_rows, NA_real_, .)),\n",
    "                    exam1= if_else(Row_number %in% missing_columns1, NA_real_, exam1),\n",
    "                    exam2= if_else(Row_number %in% missing_columns2, NA_real_, exam2),\n",
    "                    exam3= if_else(Row_number %in% missing_columns3, NA_real_, exam3)\n",
    "                  ) %>%\n",
    "            select(-Row_number)\n",
    "            "
   ]
  },
  {
   "cell_type": "code",
   "execution_count": 227,
   "id": "5d60e8ac-09c3-4a65-aba2-50781084f6bc",
   "metadata": {},
   "outputs": [],
   "source": [
    "write.csv(data1m, file=\"exam_data_missing.csv\", row.names=FALSE)"
   ]
  },
  {
   "cell_type": "code",
   "execution_count": null,
   "id": "291ab917-a8b0-41bc-a490-6aef63442920",
   "metadata": {},
   "outputs": [],
   "source": []
  },
  {
   "cell_type": "markdown",
   "id": "61b019ed-13e0-4eb3-9bed-bf8d67443017",
   "metadata": {},
   "source": [
    "# Test question data"
   ]
  },
  {
   "cell_type": "code",
   "execution_count": 142,
   "id": "0a424654-44d1-4952-8efc-80f2ecc04519",
   "metadata": {},
   "outputs": [],
   "source": [
    "data3 = data.frame(id= 100:199)\n",
    "data4 = data.frame(id = 200:299)"
   ]
  },
  {
   "cell_type": "code",
   "execution_count": 170,
   "id": "d79e1716-2549-49c7-8d80-667465ac60d9",
   "metadata": {},
   "outputs": [],
   "source": [
    "set.seed(42)\n",
    "\n",
    "data3 <- data3 %>%\n",
    "                mutate(section = \"morning\",\n",
    "                       Q1 = sample(c(0,1), size=100, replace=TRUE),\n",
    "                       Q2 = sample(c(0,1), size=100, replace=TRUE),\n",
    "                       Q3 = sample(c(0,1), size=100, replace=TRUE, prob = c(0.4,.6)),\n",
    "                       Q4 = sample(c(0,1), size=100, replace=TRUE, prob = c(0.8,.2)),\n",
    "        \n",
    "                       )\n",
    "\n",
    "write.csv(data3, file=\"morning_exam.csv\", row.names=FALSE)"
   ]
  },
  {
   "cell_type": "code",
   "execution_count": 172,
   "id": "306f2c6d-09f8-4299-9b4d-d676a5912f3d",
   "metadata": {},
   "outputs": [],
   "source": [
    "set.seed(1785)\n",
    "data4 <- data4 %>%\n",
    "                mutate(section= \"afternoon\",\n",
    "                       Q1 = sample(c(0,1), size=100, replace=TRUE),\n",
    "                       Q2 = sample(c(0,1), size=100, replace=TRUE, prob = c(0.36,.64)),\n",
    "                       Q3 = sample(c(\"A\",\"B\", \"C\", \"D\"), size=100, replace=TRUE, prob = c(0.1, 0.5, 0.25, 0.15)),\n",
    "                       Q4 = sample(c(0,1), size=100, replace=TRUE, prob = c(0.82,.18)),\n",
    "        \n",
    "                       )\n",
    "\n",
    "write.csv(data4, file=\"afternoon_exam.csv\", row.names=FALSE)"
   ]
  },
  {
   "cell_type": "code",
   "execution_count": 174,
   "id": "db7a4c6d-8a03-45fc-95fc-f8cc75d22e47",
   "metadata": {},
   "outputs": [],
   "source": [
    "set.seed(1776)\n",
    "demographics <- data.frame(id = 100:299) %>%\n",
    "                    mutate(group1 = sample(c(0, 1), size = 200, replace=TRUE, prob=c(0.75, 0.25)),\n",
    "                           group2 = sample(c(0, 1), size = 200, replace=TRUE)\n",
    "\n",
    "                           )\n",
    "\n",
    "write.csv(demographics, file=\"class_demographics.csv\", row.names=FALSE)"
   ]
  }
 ],
 "metadata": {
  "kernelspec": {
   "display_name": "R",
   "language": "R",
   "name": "ir"
  },
  "language_info": {
   "codemirror_mode": "r",
   "file_extension": ".r",
   "mimetype": "text/x-r-source",
   "name": "R",
   "pygments_lexer": "r",
   "version": "4.3.1"
  }
 },
 "nbformat": 4,
 "nbformat_minor": 5
}
