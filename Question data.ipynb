{
 "cells": [
  {
   "cell_type": "markdown",
   "id": "1830db3c-51d7-426b-9dfa-b98a9f4458a1",
   "metadata": {},
   "source": [
    "# Question Data Tutorial\n",
    "The goal of this tutorial is to introduce some useful functions and show how to do typical tasks when working with quantitative educational data. This tutorial assumes you already have basic knowledge of Python and Pandas and have already completed the Exam data tutorial and/or mastered the skills in that lesson.\n",
    "\n",
    "In this lesson, you will learn the following:\n",
    "* How recode variables to new values\n",
    "* Change the names of data frame columns\n",
    "* Concatenate and merge data frames\n",
    "\n",
    "***\n",
    "Created by Dr. Nicholas Young\n",
    "\n",
    "Last modified: April 3, 2025\n",
    "\n",
    "Python version: 3.11.9"
   ]
  },
  {
   "cell_type": "markdown",
   "id": "1864b748-e48c-453f-b657-1825fc4426da",
   "metadata": {},
   "source": [
    "As will likely be the case for most your files, we start by importing numpy, pandas, and pyplot"
   ]
  },
  {
   "cell_type": "code",
   "execution_count": 13,
   "id": "3e45c612-e921-458a-9562-bc53c57db11f",
   "metadata": {},
   "outputs": [],
   "source": [
    "import numpy as np\n",
    "import pandas as pd\n",
    "import matplotlib.pyplot as plt"
   ]
  },
  {
   "cell_type": "markdown",
   "id": "58b4f9c8-2a42-4603-947d-d9187b9ba473",
   "metadata": {},
   "source": [
    "Now let's read in our question files. This time we have two files, one from a morning section of a course and one from an afternoon section of a course. To minimize the amount of typing, I'll use 'm' for morning and 'a' for afternoon in the variables I store my data.\n",
    "\n",
    "Some background on this data:\n",
    "* This instructor's exam had 4 multiple choice questions and 2 free response questions. We only have the multiple choice questions.\n",
    "* 1 is correct while 0 is incorrect\n",
    "* Q1 and Q4 are the same on both exams but the instructor swapped the order of Q2 and Q3 on the two exams. This means that Q2 on the morning exam is Q3 on the afternoon exam and Q2 on the morning exam is Q3 on the afternoon exam.\n",
    "* The instructor also collected some data about the students taking their exam. This is stored in the `class_demographics.csv` file."
   ]
  },
  {
   "cell_type": "code",
   "execution_count": 15,
   "id": "f8c454fb-2fe5-45cc-982d-4a0aaa6dd61b",
   "metadata": {},
   "outputs": [],
   "source": [
    "m_data = pd.read_csv('morning_exam.csv')\n",
    "a_data = pd.read_csv('afternoon_exam.csv')"
   ]
  },
  {
   "cell_type": "markdown",
   "id": "7cbfe288-c650-462e-ad13-97bfba801ecb",
   "metadata": {},
   "source": [
    "Let's start by inspecting our data and see what we are working with"
   ]
  },
  {
   "cell_type": "code",
   "execution_count": 26,
   "id": "423555b0-90f4-4288-ac09-f500016e1ed5",
   "metadata": {},
   "outputs": [
    {
     "data": {
      "text/html": [
       "<div>\n",
       "<style scoped>\n",
       "    .dataframe tbody tr th:only-of-type {\n",
       "        vertical-align: middle;\n",
       "    }\n",
       "\n",
       "    .dataframe tbody tr th {\n",
       "        vertical-align: top;\n",
       "    }\n",
       "\n",
       "    .dataframe thead th {\n",
       "        text-align: right;\n",
       "    }\n",
       "</style>\n",
       "<table border=\"1\" class=\"dataframe\">\n",
       "  <thead>\n",
       "    <tr style=\"text-align: right;\">\n",
       "      <th></th>\n",
       "      <th>id</th>\n",
       "      <th>section</th>\n",
       "      <th>Q1</th>\n",
       "      <th>Q2</th>\n",
       "      <th>Q3</th>\n",
       "      <th>Q4</th>\n",
       "    </tr>\n",
       "  </thead>\n",
       "  <tbody>\n",
       "    <tr>\n",
       "      <th>0</th>\n",
       "      <td>100</td>\n",
       "      <td>morning</td>\n",
       "      <td>0</td>\n",
       "      <td>1</td>\n",
       "      <td>0</td>\n",
       "      <td>0</td>\n",
       "    </tr>\n",
       "    <tr>\n",
       "      <th>1</th>\n",
       "      <td>101</td>\n",
       "      <td>morning</td>\n",
       "      <td>0</td>\n",
       "      <td>1</td>\n",
       "      <td>1</td>\n",
       "      <td>0</td>\n",
       "    </tr>\n",
       "    <tr>\n",
       "      <th>2</th>\n",
       "      <td>102</td>\n",
       "      <td>morning</td>\n",
       "      <td>0</td>\n",
       "      <td>0</td>\n",
       "      <td>0</td>\n",
       "      <td>0</td>\n",
       "    </tr>\n",
       "    <tr>\n",
       "      <th>3</th>\n",
       "      <td>103</td>\n",
       "      <td>morning</td>\n",
       "      <td>0</td>\n",
       "      <td>1</td>\n",
       "      <td>1</td>\n",
       "      <td>0</td>\n",
       "    </tr>\n",
       "    <tr>\n",
       "      <th>4</th>\n",
       "      <td>104</td>\n",
       "      <td>morning</td>\n",
       "      <td>1</td>\n",
       "      <td>0</td>\n",
       "      <td>1</td>\n",
       "      <td>1</td>\n",
       "    </tr>\n",
       "  </tbody>\n",
       "</table>\n",
       "</div>"
      ],
      "text/plain": [
       "    id  section  Q1  Q2  Q3  Q4\n",
       "0  100  morning   0   1   0   0\n",
       "1  101  morning   0   1   1   0\n",
       "2  102  morning   0   0   0   0\n",
       "3  103  morning   0   1   1   0\n",
       "4  104  morning   1   0   1   1"
      ]
     },
     "execution_count": 26,
     "metadata": {},
     "output_type": "execute_result"
    }
   ],
   "source": [
    "m_data.head()"
   ]
  },
  {
   "cell_type": "code",
   "execution_count": 22,
   "id": "59d4edd8-5cd0-4d6c-b91c-2633a6033406",
   "metadata": {},
   "outputs": [
    {
     "data": {
      "text/html": [
       "<div>\n",
       "<style scoped>\n",
       "    .dataframe tbody tr th:only-of-type {\n",
       "        vertical-align: middle;\n",
       "    }\n",
       "\n",
       "    .dataframe tbody tr th {\n",
       "        vertical-align: top;\n",
       "    }\n",
       "\n",
       "    .dataframe thead th {\n",
       "        text-align: right;\n",
       "    }\n",
       "</style>\n",
       "<table border=\"1\" class=\"dataframe\">\n",
       "  <thead>\n",
       "    <tr style=\"text-align: right;\">\n",
       "      <th></th>\n",
       "      <th>id</th>\n",
       "      <th>section</th>\n",
       "      <th>Q1</th>\n",
       "      <th>Q2</th>\n",
       "      <th>Q3</th>\n",
       "      <th>Q4</th>\n",
       "    </tr>\n",
       "  </thead>\n",
       "  <tbody>\n",
       "    <tr>\n",
       "      <th>0</th>\n",
       "      <td>200</td>\n",
       "      <td>afternoon</td>\n",
       "      <td>0</td>\n",
       "      <td>0</td>\n",
       "      <td>B</td>\n",
       "      <td>0</td>\n",
       "    </tr>\n",
       "    <tr>\n",
       "      <th>1</th>\n",
       "      <td>201</td>\n",
       "      <td>afternoon</td>\n",
       "      <td>1</td>\n",
       "      <td>0</td>\n",
       "      <td>C</td>\n",
       "      <td>0</td>\n",
       "    </tr>\n",
       "    <tr>\n",
       "      <th>2</th>\n",
       "      <td>202</td>\n",
       "      <td>afternoon</td>\n",
       "      <td>1</td>\n",
       "      <td>1</td>\n",
       "      <td>B</td>\n",
       "      <td>0</td>\n",
       "    </tr>\n",
       "    <tr>\n",
       "      <th>3</th>\n",
       "      <td>203</td>\n",
       "      <td>afternoon</td>\n",
       "      <td>0</td>\n",
       "      <td>0</td>\n",
       "      <td>B</td>\n",
       "      <td>0</td>\n",
       "    </tr>\n",
       "    <tr>\n",
       "      <th>4</th>\n",
       "      <td>204</td>\n",
       "      <td>afternoon</td>\n",
       "      <td>0</td>\n",
       "      <td>1</td>\n",
       "      <td>D</td>\n",
       "      <td>0</td>\n",
       "    </tr>\n",
       "  </tbody>\n",
       "</table>\n",
       "</div>"
      ],
      "text/plain": [
       "    id    section  Q1  Q2 Q3  Q4\n",
       "0  200  afternoon   0   0  B   0\n",
       "1  201  afternoon   1   0  C   0\n",
       "2  202  afternoon   1   1  B   0\n",
       "3  203  afternoon   0   0  B   0\n",
       "4  204  afternoon   0   1  D   0"
      ]
     },
     "execution_count": 22,
     "metadata": {},
     "output_type": "execute_result"
    }
   ],
   "source": [
    "a_data.head()"
   ]
  },
  {
   "cell_type": "markdown",
   "id": "cc8ad70d-f08f-4126-a5f3-e89fd4fb2303",
   "metadata": {},
   "source": [
    "You'll likely notice a problem in that Q3 is the students' responses rather than whether they are correct or not. Let's address that first."
   ]
  },
  {
   "cell_type": "markdown",
   "id": "2aad897a-32df-4966-a1cc-93888ea2a7e0",
   "metadata": {},
   "source": [
    "## Changing the values of variables based on a condition.\n",
    "As is often the case, our data isn't exactly the way we want it. Here, we have a column with student answers rather than whether it is correct not. We want to convert that to correct or not (1/0).\n",
    "\n",
    "Let us assume that \"B\" is the correct answer to Q3 on the afternoon exam."
   ]
  },
  {
   "cell_type": "markdown",
   "id": "443d9d9b-c906-4d21-8c8e-8ed828d3a42d",
   "metadata": {},
   "source": [
    "There are two ways to do this. Which one we want to use depends on how many different values there will be after the conversion. For a binary outcome like correct or not, we can use a logic statement. Here, we ask if Q3 is equal to B. If so, assign a 1 and otherwise, assign a zero."
   ]
  },
  {
   "cell_type": "code",
   "execution_count": 47,
   "id": "7554d9d3-0dfb-4b7b-b0c1-df3b5cea467c",
   "metadata": {},
   "outputs": [],
   "source": [
    "a_data['Q3'] =(a_data['Q3'] == \"B\").astype(int)"
   ]
  },
  {
   "cell_type": "markdown",
   "id": "e4cc0a1a-7ecc-4da7-b079-93e9b04686c7",
   "metadata": {},
   "source": [
    "Here the `as.type(int)` is important because when we test whether each response in Q3 is B, we get a list of True and False back. True is equivalent to 1 and False is equivalent to 0 so we can convert the logic variable to an integer to get ones and zeros."
   ]
  },
  {
   "cell_type": "markdown",
   "id": "d98d26eb-e1a9-4289-8bf9-f158ddf06f54",
   "metadata": {},
   "source": [
    "If we had multiple values were assigning to (say you were trying to categorize the alternative conception that each response targets), you could use `replace`. In `replace`, you provide a dictionary with the current values followed by the new values. This provides much more flexibility than the previous way."
   ]
  },
  {
   "cell_type": "code",
   "execution_count": 51,
   "id": "01010cf5-c400-4fdc-bfe6-73f05f72d7b8",
   "metadata": {},
   "outputs": [],
   "source": [
    "a_data['Q3'] = a_data['Q3'].replace({\"A\": 0, \"B\": 1, \"C\": 0, \"D\": 0})"
   ]
  },
  {
   "cell_type": "markdown",
   "id": "b6a8e729-4c04-4f47-8c9f-fa75263ffe10",
   "metadata": {},
   "source": [
    "If we look at the afternoon data now, we will see that all of the questions are now in correct/incorrect format"
   ]
  },
  {
   "cell_type": "code",
   "execution_count": 54,
   "id": "ca54040d-f146-49e0-b00f-bd9fd1e30768",
   "metadata": {},
   "outputs": [
    {
     "data": {
      "text/html": [
       "<div>\n",
       "<style scoped>\n",
       "    .dataframe tbody tr th:only-of-type {\n",
       "        vertical-align: middle;\n",
       "    }\n",
       "\n",
       "    .dataframe tbody tr th {\n",
       "        vertical-align: top;\n",
       "    }\n",
       "\n",
       "    .dataframe thead th {\n",
       "        text-align: right;\n",
       "    }\n",
       "</style>\n",
       "<table border=\"1\" class=\"dataframe\">\n",
       "  <thead>\n",
       "    <tr style=\"text-align: right;\">\n",
       "      <th></th>\n",
       "      <th>id</th>\n",
       "      <th>section</th>\n",
       "      <th>Q1</th>\n",
       "      <th>Q2</th>\n",
       "      <th>Q3</th>\n",
       "      <th>Q4</th>\n",
       "    </tr>\n",
       "  </thead>\n",
       "  <tbody>\n",
       "    <tr>\n",
       "      <th>0</th>\n",
       "      <td>200</td>\n",
       "      <td>afternoon</td>\n",
       "      <td>0</td>\n",
       "      <td>0</td>\n",
       "      <td>1</td>\n",
       "      <td>0</td>\n",
       "    </tr>\n",
       "    <tr>\n",
       "      <th>1</th>\n",
       "      <td>201</td>\n",
       "      <td>afternoon</td>\n",
       "      <td>1</td>\n",
       "      <td>0</td>\n",
       "      <td>0</td>\n",
       "      <td>0</td>\n",
       "    </tr>\n",
       "    <tr>\n",
       "      <th>2</th>\n",
       "      <td>202</td>\n",
       "      <td>afternoon</td>\n",
       "      <td>1</td>\n",
       "      <td>1</td>\n",
       "      <td>1</td>\n",
       "      <td>0</td>\n",
       "    </tr>\n",
       "    <tr>\n",
       "      <th>3</th>\n",
       "      <td>203</td>\n",
       "      <td>afternoon</td>\n",
       "      <td>0</td>\n",
       "      <td>0</td>\n",
       "      <td>1</td>\n",
       "      <td>0</td>\n",
       "    </tr>\n",
       "    <tr>\n",
       "      <th>4</th>\n",
       "      <td>204</td>\n",
       "      <td>afternoon</td>\n",
       "      <td>0</td>\n",
       "      <td>1</td>\n",
       "      <td>0</td>\n",
       "      <td>0</td>\n",
       "    </tr>\n",
       "  </tbody>\n",
       "</table>\n",
       "</div>"
      ],
      "text/plain": [
       "    id    section  Q1  Q2  Q3  Q4\n",
       "0  200  afternoon   0   0   1   0\n",
       "1  201  afternoon   1   0   0   0\n",
       "2  202  afternoon   1   1   1   0\n",
       "3  203  afternoon   0   0   1   0\n",
       "4  204  afternoon   0   1   0   0"
      ]
     },
     "execution_count": 54,
     "metadata": {},
     "output_type": "execute_result"
    }
   ],
   "source": [
    "a_data.head()"
   ]
  },
  {
   "cell_type": "code",
   "execution_count": null,
   "id": "6d2bccd9-0984-4830-9d5f-a5eadc9c6eec",
   "metadata": {},
   "outputs": [],
   "source": []
  },
  {
   "cell_type": "code",
   "execution_count": null,
   "id": "4cb79908-bf97-478a-95c9-a620e4fffcb7",
   "metadata": {},
   "outputs": [],
   "source": []
  },
  {
   "cell_type": "code",
   "execution_count": null,
   "id": "83efd5ff-becb-42ee-9a40-100ed69cd3e2",
   "metadata": {},
   "outputs": [],
   "source": []
  },
  {
   "cell_type": "code",
   "execution_count": null,
   "id": "3610bdb2-8994-4de4-bede-a22e85d9ddf6",
   "metadata": {},
   "outputs": [],
   "source": []
  },
  {
   "cell_type": "code",
   "execution_count": null,
   "id": "50743586-7aa3-4136-a1c5-7a3d346bf5da",
   "metadata": {},
   "outputs": [],
   "source": []
  },
  {
   "cell_type": "code",
   "execution_count": null,
   "id": "6ed61dd7-d9ca-4053-a7d0-6a387546d9dd",
   "metadata": {},
   "outputs": [],
   "source": []
  },
  {
   "cell_type": "code",
   "execution_count": null,
   "id": "32c28811-00d8-4475-97db-84331b7d7d4d",
   "metadata": {},
   "outputs": [],
   "source": []
  },
  {
   "cell_type": "code",
   "execution_count": null,
   "id": "8873f315-a903-4a35-81b8-9c78cb2cf8f7",
   "metadata": {},
   "outputs": [],
   "source": []
  }
 ],
 "metadata": {
  "kernelspec": {
   "display_name": "Python 3 (ipykernel)",
   "language": "python",
   "name": "python3"
  },
  "language_info": {
   "codemirror_mode": {
    "name": "ipython",
    "version": 3
   },
   "file_extension": ".py",
   "mimetype": "text/x-python",
   "name": "python",
   "nbconvert_exporter": "python",
   "pygments_lexer": "ipython3",
   "version": "3.11.9"
  }
 },
 "nbformat": 4,
 "nbformat_minor": 5
}
