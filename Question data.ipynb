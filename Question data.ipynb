{
 "cells": [
  {
   "cell_type": "markdown",
   "id": "1830db3c-51d7-426b-9dfa-b98a9f4458a1",
   "metadata": {},
   "source": [
    "# Question Data Tutorial\n",
    "The goal of this tutorial is to introduce some useful functions and show how to do typical tasks when working with quantitative educational data. This tutorial assumes you already have basic knowledge of Python and Pandas and have already completed the Exam data tutorial and/or mastered the skills in that lesson.\n",
    "\n",
    "In this lesson, you will learn the following:\n",
    "* How recode variables to new values\n",
    "* Change the names of data frame columns\n",
    "* Wide vs long format for data frames\n",
    "* Concatenate and merge data frames\n",
    "\n",
    "***\n",
    "Created by Dr. Nicholas Young\n",
    "\n",
    "Last modified: April 3, 2025\n",
    "\n",
    "Python version: 3.11.9"
   ]
  },
  {
   "cell_type": "markdown",
   "id": "1864b748-e48c-453f-b657-1825fc4426da",
   "metadata": {},
   "source": [
    "As will likely be the case for most your files, we start by importing numpy, pandas, and pyplot"
   ]
  },
  {
   "cell_type": "code",
   "execution_count": 13,
   "id": "3e45c612-e921-458a-9562-bc53c57db11f",
   "metadata": {},
   "outputs": [],
   "source": [
    "import numpy as np\n",
    "import pandas as pd\n",
    "import matplotlib.pyplot as plt"
   ]
  },
  {
   "cell_type": "markdown",
   "id": "58b4f9c8-2a42-4603-947d-d9187b9ba473",
   "metadata": {},
   "source": [
    "Now let's read in our question files. This time we have two files, one from a morning section of a course and one from an afternoon section of a course. To minimize the amount of typing, I'll use 'm' for morning and 'a' for afternoon in the variables I store my data.\n",
    "\n",
    "Some background on this data:\n",
    "* This instructor's exam had 4 multiple choice questions and 2 free response questions. We only have the multiple choice questions.\n",
    "* 1 is correct while 0 is incorrect\n",
    "* Q1 and Q4 are the same on both exams but the instructor swapped the order of Q2 and Q3 on the two exams. This means that Q2 on the morning exam is Q3 on the afternoon exam and Q2 on the morning exam is Q3 on the afternoon exam.\n",
    "* The instructor also collected some data about the students taking their exam. This is stored in the `class_demographics.csv` file."
   ]
  },
  {
   "cell_type": "code",
   "execution_count": 15,
   "id": "f8c454fb-2fe5-45cc-982d-4a0aaa6dd61b",
   "metadata": {},
   "outputs": [],
   "source": [
    "m_data = pd.read_csv('morning_exam.csv')\n",
    "a_data = pd.read_csv('afternoon_exam.csv')"
   ]
  },
  {
   "cell_type": "markdown",
   "id": "7cbfe288-c650-462e-ad13-97bfba801ecb",
   "metadata": {},
   "source": [
    "Let's start by inspecting our data and see what we are working with"
   ]
  },
  {
   "cell_type": "code",
   "execution_count": 26,
   "id": "423555b0-90f4-4288-ac09-f500016e1ed5",
   "metadata": {},
   "outputs": [
    {
     "data": {
      "text/html": [
       "<div>\n",
       "<style scoped>\n",
       "    .dataframe tbody tr th:only-of-type {\n",
       "        vertical-align: middle;\n",
       "    }\n",
       "\n",
       "    .dataframe tbody tr th {\n",
       "        vertical-align: top;\n",
       "    }\n",
       "\n",
       "    .dataframe thead th {\n",
       "        text-align: right;\n",
       "    }\n",
       "</style>\n",
       "<table border=\"1\" class=\"dataframe\">\n",
       "  <thead>\n",
       "    <tr style=\"text-align: right;\">\n",
       "      <th></th>\n",
       "      <th>id</th>\n",
       "      <th>section</th>\n",
       "      <th>Q1</th>\n",
       "      <th>Q2</th>\n",
       "      <th>Q3</th>\n",
       "      <th>Q4</th>\n",
       "    </tr>\n",
       "  </thead>\n",
       "  <tbody>\n",
       "    <tr>\n",
       "      <th>0</th>\n",
       "      <td>100</td>\n",
       "      <td>morning</td>\n",
       "      <td>0</td>\n",
       "      <td>1</td>\n",
       "      <td>0</td>\n",
       "      <td>0</td>\n",
       "    </tr>\n",
       "    <tr>\n",
       "      <th>1</th>\n",
       "      <td>101</td>\n",
       "      <td>morning</td>\n",
       "      <td>0</td>\n",
       "      <td>1</td>\n",
       "      <td>1</td>\n",
       "      <td>0</td>\n",
       "    </tr>\n",
       "    <tr>\n",
       "      <th>2</th>\n",
       "      <td>102</td>\n",
       "      <td>morning</td>\n",
       "      <td>0</td>\n",
       "      <td>0</td>\n",
       "      <td>0</td>\n",
       "      <td>0</td>\n",
       "    </tr>\n",
       "    <tr>\n",
       "      <th>3</th>\n",
       "      <td>103</td>\n",
       "      <td>morning</td>\n",
       "      <td>0</td>\n",
       "      <td>1</td>\n",
       "      <td>1</td>\n",
       "      <td>0</td>\n",
       "    </tr>\n",
       "    <tr>\n",
       "      <th>4</th>\n",
       "      <td>104</td>\n",
       "      <td>morning</td>\n",
       "      <td>1</td>\n",
       "      <td>0</td>\n",
       "      <td>1</td>\n",
       "      <td>1</td>\n",
       "    </tr>\n",
       "  </tbody>\n",
       "</table>\n",
       "</div>"
      ],
      "text/plain": [
       "    id  section  Q1  Q2  Q3  Q4\n",
       "0  100  morning   0   1   0   0\n",
       "1  101  morning   0   1   1   0\n",
       "2  102  morning   0   0   0   0\n",
       "3  103  morning   0   1   1   0\n",
       "4  104  morning   1   0   1   1"
      ]
     },
     "execution_count": 26,
     "metadata": {},
     "output_type": "execute_result"
    }
   ],
   "source": [
    "m_data.head()"
   ]
  },
  {
   "cell_type": "code",
   "execution_count": 22,
   "id": "59d4edd8-5cd0-4d6c-b91c-2633a6033406",
   "metadata": {},
   "outputs": [
    {
     "data": {
      "text/html": [
       "<div>\n",
       "<style scoped>\n",
       "    .dataframe tbody tr th:only-of-type {\n",
       "        vertical-align: middle;\n",
       "    }\n",
       "\n",
       "    .dataframe tbody tr th {\n",
       "        vertical-align: top;\n",
       "    }\n",
       "\n",
       "    .dataframe thead th {\n",
       "        text-align: right;\n",
       "    }\n",
       "</style>\n",
       "<table border=\"1\" class=\"dataframe\">\n",
       "  <thead>\n",
       "    <tr style=\"text-align: right;\">\n",
       "      <th></th>\n",
       "      <th>id</th>\n",
       "      <th>section</th>\n",
       "      <th>Q1</th>\n",
       "      <th>Q2</th>\n",
       "      <th>Q3</th>\n",
       "      <th>Q4</th>\n",
       "    </tr>\n",
       "  </thead>\n",
       "  <tbody>\n",
       "    <tr>\n",
       "      <th>0</th>\n",
       "      <td>200</td>\n",
       "      <td>afternoon</td>\n",
       "      <td>0</td>\n",
       "      <td>0</td>\n",
       "      <td>B</td>\n",
       "      <td>0</td>\n",
       "    </tr>\n",
       "    <tr>\n",
       "      <th>1</th>\n",
       "      <td>201</td>\n",
       "      <td>afternoon</td>\n",
       "      <td>1</td>\n",
       "      <td>0</td>\n",
       "      <td>C</td>\n",
       "      <td>0</td>\n",
       "    </tr>\n",
       "    <tr>\n",
       "      <th>2</th>\n",
       "      <td>202</td>\n",
       "      <td>afternoon</td>\n",
       "      <td>1</td>\n",
       "      <td>1</td>\n",
       "      <td>B</td>\n",
       "      <td>0</td>\n",
       "    </tr>\n",
       "    <tr>\n",
       "      <th>3</th>\n",
       "      <td>203</td>\n",
       "      <td>afternoon</td>\n",
       "      <td>0</td>\n",
       "      <td>0</td>\n",
       "      <td>B</td>\n",
       "      <td>0</td>\n",
       "    </tr>\n",
       "    <tr>\n",
       "      <th>4</th>\n",
       "      <td>204</td>\n",
       "      <td>afternoon</td>\n",
       "      <td>0</td>\n",
       "      <td>1</td>\n",
       "      <td>D</td>\n",
       "      <td>0</td>\n",
       "    </tr>\n",
       "  </tbody>\n",
       "</table>\n",
       "</div>"
      ],
      "text/plain": [
       "    id    section  Q1  Q2 Q3  Q4\n",
       "0  200  afternoon   0   0  B   0\n",
       "1  201  afternoon   1   0  C   0\n",
       "2  202  afternoon   1   1  B   0\n",
       "3  203  afternoon   0   0  B   0\n",
       "4  204  afternoon   0   1  D   0"
      ]
     },
     "execution_count": 22,
     "metadata": {},
     "output_type": "execute_result"
    }
   ],
   "source": [
    "a_data.head()"
   ]
  },
  {
   "cell_type": "markdown",
   "id": "cc8ad70d-f08f-4126-a5f3-e89fd4fb2303",
   "metadata": {},
   "source": [
    "You'll likely notice a problem in that Q3 is the students' responses rather than whether they are correct or not. Let's address that first."
   ]
  },
  {
   "cell_type": "markdown",
   "id": "2aad897a-32df-4966-a1cc-93888ea2a7e0",
   "metadata": {},
   "source": [
    "## Changing the values of variables based on a condition.\n",
    "As is often the case, our data isn't exactly the way we want it. Here, we have a column with student answers rather than whether it is correct not. We want to convert that to correct or not (1/0).\n",
    "\n",
    "Let us assume that \"B\" is the correct answer to Q3 on the afternoon exam."
   ]
  },
  {
   "cell_type": "markdown",
   "id": "443d9d9b-c906-4d21-8c8e-8ed828d3a42d",
   "metadata": {},
   "source": [
    "There are two ways to do this. Which one we want to use depends on how many different values there will be after the conversion. For a binary outcome like correct or not, we can use a logic statement. Here, we ask if Q3 is equal to B. If so, assign a 1 and otherwise, assign a zero."
   ]
  },
  {
   "cell_type": "code",
   "execution_count": 47,
   "id": "7554d9d3-0dfb-4b7b-b0c1-df3b5cea467c",
   "metadata": {},
   "outputs": [],
   "source": [
    "a_data['Q3'] =(a_data['Q3'] == \"B\").astype(int)"
   ]
  },
  {
   "cell_type": "markdown",
   "id": "e4cc0a1a-7ecc-4da7-b079-93e9b04686c7",
   "metadata": {},
   "source": [
    "Here the `as.type(int)` is important because when we test whether each response in Q3 is B, we get a list of True and False back. True is equivalent to 1 and False is equivalent to 0 so we can convert the logic variable to an integer to get ones and zeros."
   ]
  },
  {
   "cell_type": "markdown",
   "id": "d98d26eb-e1a9-4289-8bf9-f158ddf06f54",
   "metadata": {},
   "source": [
    "If we had multiple values were assigning to (say you were trying to categorize the alternative conception that each response targets), you could use `replace`. In `replace`, you provide a dictionary with the current values followed by the new values. This provides much more flexibility than the previous way."
   ]
  },
  {
   "cell_type": "code",
   "execution_count": 51,
   "id": "01010cf5-c400-4fdc-bfe6-73f05f72d7b8",
   "metadata": {},
   "outputs": [],
   "source": [
    "a_data['Q3'] = a_data['Q3'].replace({\"A\": 0, \"B\": 1, \"C\": 0, \"D\": 0})"
   ]
  },
  {
   "cell_type": "markdown",
   "id": "b6a8e729-4c04-4f47-8c9f-fa75263ffe10",
   "metadata": {},
   "source": [
    "If we look at the afternoon data now, we will see that all of the questions are now in correct/incorrect format"
   ]
  },
  {
   "cell_type": "code",
   "execution_count": 54,
   "id": "ca54040d-f146-49e0-b00f-bd9fd1e30768",
   "metadata": {},
   "outputs": [
    {
     "data": {
      "text/html": [
       "<div>\n",
       "<style scoped>\n",
       "    .dataframe tbody tr th:only-of-type {\n",
       "        vertical-align: middle;\n",
       "    }\n",
       "\n",
       "    .dataframe tbody tr th {\n",
       "        vertical-align: top;\n",
       "    }\n",
       "\n",
       "    .dataframe thead th {\n",
       "        text-align: right;\n",
       "    }\n",
       "</style>\n",
       "<table border=\"1\" class=\"dataframe\">\n",
       "  <thead>\n",
       "    <tr style=\"text-align: right;\">\n",
       "      <th></th>\n",
       "      <th>id</th>\n",
       "      <th>section</th>\n",
       "      <th>Q1</th>\n",
       "      <th>Q2</th>\n",
       "      <th>Q3</th>\n",
       "      <th>Q4</th>\n",
       "    </tr>\n",
       "  </thead>\n",
       "  <tbody>\n",
       "    <tr>\n",
       "      <th>0</th>\n",
       "      <td>200</td>\n",
       "      <td>afternoon</td>\n",
       "      <td>0</td>\n",
       "      <td>0</td>\n",
       "      <td>1</td>\n",
       "      <td>0</td>\n",
       "    </tr>\n",
       "    <tr>\n",
       "      <th>1</th>\n",
       "      <td>201</td>\n",
       "      <td>afternoon</td>\n",
       "      <td>1</td>\n",
       "      <td>0</td>\n",
       "      <td>0</td>\n",
       "      <td>0</td>\n",
       "    </tr>\n",
       "    <tr>\n",
       "      <th>2</th>\n",
       "      <td>202</td>\n",
       "      <td>afternoon</td>\n",
       "      <td>1</td>\n",
       "      <td>1</td>\n",
       "      <td>1</td>\n",
       "      <td>0</td>\n",
       "    </tr>\n",
       "    <tr>\n",
       "      <th>3</th>\n",
       "      <td>203</td>\n",
       "      <td>afternoon</td>\n",
       "      <td>0</td>\n",
       "      <td>0</td>\n",
       "      <td>1</td>\n",
       "      <td>0</td>\n",
       "    </tr>\n",
       "    <tr>\n",
       "      <th>4</th>\n",
       "      <td>204</td>\n",
       "      <td>afternoon</td>\n",
       "      <td>0</td>\n",
       "      <td>1</td>\n",
       "      <td>0</td>\n",
       "      <td>0</td>\n",
       "    </tr>\n",
       "  </tbody>\n",
       "</table>\n",
       "</div>"
      ],
      "text/plain": [
       "    id    section  Q1  Q2  Q3  Q4\n",
       "0  200  afternoon   0   0   1   0\n",
       "1  201  afternoon   1   0   0   0\n",
       "2  202  afternoon   1   1   1   0\n",
       "3  203  afternoon   0   0   1   0\n",
       "4  204  afternoon   0   1   0   0"
      ]
     },
     "execution_count": 54,
     "metadata": {},
     "output_type": "execute_result"
    }
   ],
   "source": [
    "a_data.head()"
   ]
  },
  {
   "cell_type": "markdown",
   "id": "9a5466bb-4deb-4de3-b178-6157031cafa7",
   "metadata": {},
   "source": [
    "## Examining performance"
   ]
  },
  {
   "cell_type": "markdown",
   "id": "105b2c9f-ab3a-4fc0-a200-102b93d5081b",
   "metadata": {},
   "source": [
    "Now that the data are in the correct format, let's see on how the students did. We want to find the fraction of responses that are correct per question as well as the student's score.\n",
    "\n",
    "Try this on your own in the cells below. If you are stuck, expand the header below called solution to see what I found or look back to the Exam data tutorial for useful functions."
   ]
  },
  {
   "cell_type": "code",
   "execution_count": 77,
   "id": "3610bdb2-8994-4de4-bede-a22e85d9ddf6",
   "metadata": {},
   "outputs": [],
   "source": [
    "# use this block to put your code for the fraction of correct responses per question\n",
    "# as a hint, 55% of students answered Q2 correctly in the morning class.\n",
    "\n"
   ]
  },
  {
   "cell_type": "code",
   "execution_count": 93,
   "id": "eee64506-8627-4eb8-b5ed-2d50d2414fca",
   "metadata": {},
   "outputs": [],
   "source": [
    "# use this block to put your code for total score per student\n",
    "# as a hint, student 101 earned a score of 2.\n",
    "\n"
   ]
  },
  {
   "cell_type": "markdown",
   "id": "556517d2-38ec-4bf3-85a7-3ec852621ce9",
   "metadata": {
    "jp-MarkdownHeadingCollapsed": true
   },
   "source": [
    "### Examining performance solution\n",
    "Try to do this yourself before looking at the solution."
   ]
  },
  {
   "cell_type": "code",
   "execution_count": 64,
   "id": "32c28811-00d8-4475-97db-84331b7d7d4d",
   "metadata": {},
   "outputs": [
    {
     "data": {
      "text/plain": [
       "Q1    0.56\n",
       "Q2    0.55\n",
       "Q3    0.74\n",
       "Q4    0.23\n",
       "dtype: float64"
      ]
     },
     "execution_count": 64,
     "metadata": {},
     "output_type": "execute_result"
    }
   ],
   "source": [
    "m_data[['Q1', 'Q2', 'Q3', 'Q4']].mean()"
   ]
  },
  {
   "cell_type": "code",
   "execution_count": 62,
   "id": "6ed61dd7-d9ca-4053-a7d0-6a387546d9dd",
   "metadata": {},
   "outputs": [
    {
     "data": {
      "text/plain": [
       "Q1    0.41\n",
       "Q2    0.65\n",
       "Q3    0.50\n",
       "Q4    0.15\n",
       "dtype: float64"
      ]
     },
     "execution_count": 62,
     "metadata": {},
     "output_type": "execute_result"
    }
   ],
   "source": [
    "a_data[['Q1', 'Q2', 'Q3', 'Q4']].mean()"
   ]
  },
  {
   "cell_type": "markdown",
   "id": "0d28e5df-c692-4288-b54f-12e446680949",
   "metadata": {},
   "source": [
    "Because the responses are stored as correct or not, the number of correct responses is sum of the column and the number of attempts is the number of rows in the column. This is just the average so I can find the fraction of correct responses by taking the average of each column."
   ]
  },
  {
   "cell_type": "code",
   "execution_count": 84,
   "id": "d17d3877-87d9-4e6c-a1d0-5fbd4171acc7",
   "metadata": {},
   "outputs": [],
   "source": [
    "m_data['score'] = m_data['Q1'] + m_data['Q2'] + m_data['Q3'] + m_data['Q4']\n",
    "a_data['score'] = a_data['Q1'] + a_data['Q2'] + a_data['Q3'] + a_data['Q4']"
   ]
  },
  {
   "cell_type": "code",
   "execution_count": 86,
   "id": "efcadd72-f3c1-4bff-8711-233b7312aacd",
   "metadata": {},
   "outputs": [
    {
     "data": {
      "text/html": [
       "<div>\n",
       "<style scoped>\n",
       "    .dataframe tbody tr th:only-of-type {\n",
       "        vertical-align: middle;\n",
       "    }\n",
       "\n",
       "    .dataframe tbody tr th {\n",
       "        vertical-align: top;\n",
       "    }\n",
       "\n",
       "    .dataframe thead th {\n",
       "        text-align: right;\n",
       "    }\n",
       "</style>\n",
       "<table border=\"1\" class=\"dataframe\">\n",
       "  <thead>\n",
       "    <tr style=\"text-align: right;\">\n",
       "      <th></th>\n",
       "      <th>id</th>\n",
       "      <th>section</th>\n",
       "      <th>Q1</th>\n",
       "      <th>Q2</th>\n",
       "      <th>Q3</th>\n",
       "      <th>Q4</th>\n",
       "      <th>score</th>\n",
       "    </tr>\n",
       "  </thead>\n",
       "  <tbody>\n",
       "    <tr>\n",
       "      <th>0</th>\n",
       "      <td>100</td>\n",
       "      <td>morning</td>\n",
       "      <td>0</td>\n",
       "      <td>1</td>\n",
       "      <td>0</td>\n",
       "      <td>0</td>\n",
       "      <td>1</td>\n",
       "    </tr>\n",
       "    <tr>\n",
       "      <th>1</th>\n",
       "      <td>101</td>\n",
       "      <td>morning</td>\n",
       "      <td>0</td>\n",
       "      <td>1</td>\n",
       "      <td>1</td>\n",
       "      <td>0</td>\n",
       "      <td>2</td>\n",
       "    </tr>\n",
       "    <tr>\n",
       "      <th>2</th>\n",
       "      <td>102</td>\n",
       "      <td>morning</td>\n",
       "      <td>0</td>\n",
       "      <td>0</td>\n",
       "      <td>0</td>\n",
       "      <td>0</td>\n",
       "      <td>0</td>\n",
       "    </tr>\n",
       "    <tr>\n",
       "      <th>3</th>\n",
       "      <td>103</td>\n",
       "      <td>morning</td>\n",
       "      <td>0</td>\n",
       "      <td>1</td>\n",
       "      <td>1</td>\n",
       "      <td>0</td>\n",
       "      <td>2</td>\n",
       "    </tr>\n",
       "    <tr>\n",
       "      <th>4</th>\n",
       "      <td>104</td>\n",
       "      <td>morning</td>\n",
       "      <td>1</td>\n",
       "      <td>0</td>\n",
       "      <td>1</td>\n",
       "      <td>1</td>\n",
       "      <td>3</td>\n",
       "    </tr>\n",
       "  </tbody>\n",
       "</table>\n",
       "</div>"
      ],
      "text/plain": [
       "    id  section  Q1  Q2  Q3  Q4  score\n",
       "0  100  morning   0   1   0   0      1\n",
       "1  101  morning   0   1   1   0      2\n",
       "2  102  morning   0   0   0   0      0\n",
       "3  103  morning   0   1   1   0      2\n",
       "4  104  morning   1   0   1   1      3"
      ]
     },
     "execution_count": 86,
     "metadata": {},
     "output_type": "execute_result"
    }
   ],
   "source": [
    "m_data.head()"
   ]
  },
  {
   "cell_type": "markdown",
   "id": "6a23bf16-b043-4a25-8c74-fe34792b3c3c",
   "metadata": {},
   "source": [
    "Again, since each question is graded correct or not, each student's score is the number of questions they get correct, which is the sum of the four question columns."
   ]
  },
  {
   "cell_type": "markdown",
   "id": "f612d0d0-3e08-43b1-ab6a-413a717fe910",
   "metadata": {},
   "source": [
    "## Combining data sets\n",
    "So far, we've treated the two data sets as separate things. However, as the questions are the same, just in a different order, it might be useful to combine the data to get a better sense of how students are going on these exams. For example, we might need to collect data from multiple classes in order to get a sufficient sample size.\n",
    "\n",
    "Let's introduce some techniques that could be useful for doing this."
   ]
  },
  {
   "cell_type": "markdown",
   "id": "d9c4726b-fc70-40ae-a9b3-ac99883d58a2",
   "metadata": {},
   "source": [
    "If I want to combine the data together into a single data frame with 200 rows instead of second data frames with 100 rows, I need each data frame to have the same column names.\n",
    "\n",
    "We've already met this condition so we can use the `concat` function. I include `ignore_index=True` so that a new index will be created. Otherwise, the individual indices of the existing data frames will be kept and you would have two rows with each index (0-99) because `a_data` and `m_data` each have an index of 0-99."
   ]
  },
  {
   "cell_type": "code",
   "execution_count": 103,
   "id": "7e70aa7f-2456-4acc-9503-94d0b46e2769",
   "metadata": {},
   "outputs": [
    {
     "data": {
      "text/html": [
       "<div>\n",
       "<style scoped>\n",
       "    .dataframe tbody tr th:only-of-type {\n",
       "        vertical-align: middle;\n",
       "    }\n",
       "\n",
       "    .dataframe tbody tr th {\n",
       "        vertical-align: top;\n",
       "    }\n",
       "\n",
       "    .dataframe thead th {\n",
       "        text-align: right;\n",
       "    }\n",
       "</style>\n",
       "<table border=\"1\" class=\"dataframe\">\n",
       "  <thead>\n",
       "    <tr style=\"text-align: right;\">\n",
       "      <th></th>\n",
       "      <th>id</th>\n",
       "      <th>section</th>\n",
       "      <th>Q1</th>\n",
       "      <th>Q2</th>\n",
       "      <th>Q3</th>\n",
       "      <th>Q4</th>\n",
       "      <th>score</th>\n",
       "    </tr>\n",
       "  </thead>\n",
       "  <tbody>\n",
       "    <tr>\n",
       "      <th>0</th>\n",
       "      <td>200</td>\n",
       "      <td>afternoon</td>\n",
       "      <td>0</td>\n",
       "      <td>0</td>\n",
       "      <td>1</td>\n",
       "      <td>0</td>\n",
       "      <td>1</td>\n",
       "    </tr>\n",
       "    <tr>\n",
       "      <th>1</th>\n",
       "      <td>201</td>\n",
       "      <td>afternoon</td>\n",
       "      <td>1</td>\n",
       "      <td>0</td>\n",
       "      <td>0</td>\n",
       "      <td>0</td>\n",
       "      <td>1</td>\n",
       "    </tr>\n",
       "    <tr>\n",
       "      <th>2</th>\n",
       "      <td>202</td>\n",
       "      <td>afternoon</td>\n",
       "      <td>1</td>\n",
       "      <td>1</td>\n",
       "      <td>1</td>\n",
       "      <td>0</td>\n",
       "      <td>3</td>\n",
       "    </tr>\n",
       "    <tr>\n",
       "      <th>3</th>\n",
       "      <td>203</td>\n",
       "      <td>afternoon</td>\n",
       "      <td>0</td>\n",
       "      <td>0</td>\n",
       "      <td>1</td>\n",
       "      <td>0</td>\n",
       "      <td>1</td>\n",
       "    </tr>\n",
       "    <tr>\n",
       "      <th>4</th>\n",
       "      <td>204</td>\n",
       "      <td>afternoon</td>\n",
       "      <td>0</td>\n",
       "      <td>1</td>\n",
       "      <td>0</td>\n",
       "      <td>0</td>\n",
       "      <td>1</td>\n",
       "    </tr>\n",
       "    <tr>\n",
       "      <th>...</th>\n",
       "      <td>...</td>\n",
       "      <td>...</td>\n",
       "      <td>...</td>\n",
       "      <td>...</td>\n",
       "      <td>...</td>\n",
       "      <td>...</td>\n",
       "      <td>...</td>\n",
       "    </tr>\n",
       "    <tr>\n",
       "      <th>195</th>\n",
       "      <td>195</td>\n",
       "      <td>morning</td>\n",
       "      <td>1</td>\n",
       "      <td>1</td>\n",
       "      <td>1</td>\n",
       "      <td>0</td>\n",
       "      <td>3</td>\n",
       "    </tr>\n",
       "    <tr>\n",
       "      <th>196</th>\n",
       "      <td>196</td>\n",
       "      <td>morning</td>\n",
       "      <td>0</td>\n",
       "      <td>0</td>\n",
       "      <td>0</td>\n",
       "      <td>1</td>\n",
       "      <td>1</td>\n",
       "    </tr>\n",
       "    <tr>\n",
       "      <th>197</th>\n",
       "      <td>197</td>\n",
       "      <td>morning</td>\n",
       "      <td>1</td>\n",
       "      <td>0</td>\n",
       "      <td>0</td>\n",
       "      <td>1</td>\n",
       "      <td>2</td>\n",
       "    </tr>\n",
       "    <tr>\n",
       "      <th>198</th>\n",
       "      <td>198</td>\n",
       "      <td>morning</td>\n",
       "      <td>1</td>\n",
       "      <td>1</td>\n",
       "      <td>1</td>\n",
       "      <td>0</td>\n",
       "      <td>3</td>\n",
       "    </tr>\n",
       "    <tr>\n",
       "      <th>199</th>\n",
       "      <td>199</td>\n",
       "      <td>morning</td>\n",
       "      <td>1</td>\n",
       "      <td>1</td>\n",
       "      <td>1</td>\n",
       "      <td>0</td>\n",
       "      <td>3</td>\n",
       "    </tr>\n",
       "  </tbody>\n",
       "</table>\n",
       "<p>200 rows × 7 columns</p>\n",
       "</div>"
      ],
      "text/plain": [
       "      id    section  Q1  Q2  Q3  Q4  score\n",
       "0    200  afternoon   0   0   1   0      1\n",
       "1    201  afternoon   1   0   0   0      1\n",
       "2    202  afternoon   1   1   1   0      3\n",
       "3    203  afternoon   0   0   1   0      1\n",
       "4    204  afternoon   0   1   0   0      1\n",
       "..   ...        ...  ..  ..  ..  ..    ...\n",
       "195  195    morning   1   1   1   0      3\n",
       "196  196    morning   0   0   0   1      1\n",
       "197  197    morning   1   0   0   1      2\n",
       "198  198    morning   1   1   1   0      3\n",
       "199  199    morning   1   1   1   0      3\n",
       "\n",
       "[200 rows x 7 columns]"
      ]
     },
     "execution_count": 103,
     "metadata": {},
     "output_type": "execute_result"
    }
   ],
   "source": [
    "pd.concat([a_data, m_data], ignore_index=True)"
   ]
  },
  {
   "cell_type": "markdown",
   "id": "992e3bd5-ad63-44ec-9789-bca0efe698c0",
   "metadata": {},
   "source": [
    "Here's what that looks like without the `ignore_index=True` part. Notice that the first column ends at 99 now instead of 199. Generally it's a good idea to not have the same index twice."
   ]
  },
  {
   "cell_type": "code",
   "execution_count": 106,
   "id": "3bf79756-c4f4-4097-a39d-c55867330d35",
   "metadata": {},
   "outputs": [
    {
     "data": {
      "text/html": [
       "<div>\n",
       "<style scoped>\n",
       "    .dataframe tbody tr th:only-of-type {\n",
       "        vertical-align: middle;\n",
       "    }\n",
       "\n",
       "    .dataframe tbody tr th {\n",
       "        vertical-align: top;\n",
       "    }\n",
       "\n",
       "    .dataframe thead th {\n",
       "        text-align: right;\n",
       "    }\n",
       "</style>\n",
       "<table border=\"1\" class=\"dataframe\">\n",
       "  <thead>\n",
       "    <tr style=\"text-align: right;\">\n",
       "      <th></th>\n",
       "      <th>id</th>\n",
       "      <th>section</th>\n",
       "      <th>Q1</th>\n",
       "      <th>Q2</th>\n",
       "      <th>Q3</th>\n",
       "      <th>Q4</th>\n",
       "      <th>score</th>\n",
       "    </tr>\n",
       "  </thead>\n",
       "  <tbody>\n",
       "    <tr>\n",
       "      <th>0</th>\n",
       "      <td>200</td>\n",
       "      <td>afternoon</td>\n",
       "      <td>0</td>\n",
       "      <td>0</td>\n",
       "      <td>1</td>\n",
       "      <td>0</td>\n",
       "      <td>1</td>\n",
       "    </tr>\n",
       "    <tr>\n",
       "      <th>1</th>\n",
       "      <td>201</td>\n",
       "      <td>afternoon</td>\n",
       "      <td>1</td>\n",
       "      <td>0</td>\n",
       "      <td>0</td>\n",
       "      <td>0</td>\n",
       "      <td>1</td>\n",
       "    </tr>\n",
       "    <tr>\n",
       "      <th>2</th>\n",
       "      <td>202</td>\n",
       "      <td>afternoon</td>\n",
       "      <td>1</td>\n",
       "      <td>1</td>\n",
       "      <td>1</td>\n",
       "      <td>0</td>\n",
       "      <td>3</td>\n",
       "    </tr>\n",
       "    <tr>\n",
       "      <th>3</th>\n",
       "      <td>203</td>\n",
       "      <td>afternoon</td>\n",
       "      <td>0</td>\n",
       "      <td>0</td>\n",
       "      <td>1</td>\n",
       "      <td>0</td>\n",
       "      <td>1</td>\n",
       "    </tr>\n",
       "    <tr>\n",
       "      <th>4</th>\n",
       "      <td>204</td>\n",
       "      <td>afternoon</td>\n",
       "      <td>0</td>\n",
       "      <td>1</td>\n",
       "      <td>0</td>\n",
       "      <td>0</td>\n",
       "      <td>1</td>\n",
       "    </tr>\n",
       "    <tr>\n",
       "      <th>...</th>\n",
       "      <td>...</td>\n",
       "      <td>...</td>\n",
       "      <td>...</td>\n",
       "      <td>...</td>\n",
       "      <td>...</td>\n",
       "      <td>...</td>\n",
       "      <td>...</td>\n",
       "    </tr>\n",
       "    <tr>\n",
       "      <th>95</th>\n",
       "      <td>195</td>\n",
       "      <td>morning</td>\n",
       "      <td>1</td>\n",
       "      <td>1</td>\n",
       "      <td>1</td>\n",
       "      <td>0</td>\n",
       "      <td>3</td>\n",
       "    </tr>\n",
       "    <tr>\n",
       "      <th>96</th>\n",
       "      <td>196</td>\n",
       "      <td>morning</td>\n",
       "      <td>0</td>\n",
       "      <td>0</td>\n",
       "      <td>0</td>\n",
       "      <td>1</td>\n",
       "      <td>1</td>\n",
       "    </tr>\n",
       "    <tr>\n",
       "      <th>97</th>\n",
       "      <td>197</td>\n",
       "      <td>morning</td>\n",
       "      <td>1</td>\n",
       "      <td>0</td>\n",
       "      <td>0</td>\n",
       "      <td>1</td>\n",
       "      <td>2</td>\n",
       "    </tr>\n",
       "    <tr>\n",
       "      <th>98</th>\n",
       "      <td>198</td>\n",
       "      <td>morning</td>\n",
       "      <td>1</td>\n",
       "      <td>1</td>\n",
       "      <td>1</td>\n",
       "      <td>0</td>\n",
       "      <td>3</td>\n",
       "    </tr>\n",
       "    <tr>\n",
       "      <th>99</th>\n",
       "      <td>199</td>\n",
       "      <td>morning</td>\n",
       "      <td>1</td>\n",
       "      <td>1</td>\n",
       "      <td>1</td>\n",
       "      <td>0</td>\n",
       "      <td>3</td>\n",
       "    </tr>\n",
       "  </tbody>\n",
       "</table>\n",
       "<p>200 rows × 7 columns</p>\n",
       "</div>"
      ],
      "text/plain": [
       "     id    section  Q1  Q2  Q3  Q4  score\n",
       "0   200  afternoon   0   0   1   0      1\n",
       "1   201  afternoon   1   0   0   0      1\n",
       "2   202  afternoon   1   1   1   0      3\n",
       "3   203  afternoon   0   0   1   0      1\n",
       "4   204  afternoon   0   1   0   0      1\n",
       "..  ...        ...  ..  ..  ..  ..    ...\n",
       "95  195    morning   1   1   1   0      3\n",
       "96  196    morning   0   0   0   1      1\n",
       "97  197    morning   1   0   0   1      2\n",
       "98  198    morning   1   1   1   0      3\n",
       "99  199    morning   1   1   1   0      3\n",
       "\n",
       "[200 rows x 7 columns]"
      ]
     },
     "execution_count": 106,
     "metadata": {},
     "output_type": "execute_result"
    }
   ],
   "source": [
    "pd.concat([a_data, m_data])"
   ]
  },
  {
   "cell_type": "markdown",
   "id": "44e72e54-848f-449e-a32b-8b6fe4a3407a",
   "metadata": {},
   "source": [
    "Problem with this given Q2 means different things"
   ]
  },
  {
   "cell_type": "code",
   "execution_count": null,
   "id": "f2666dd7-5b90-43c4-a349-e0bb3f1b6b39",
   "metadata": {},
   "outputs": [],
   "source": []
  },
  {
   "cell_type": "code",
   "execution_count": null,
   "id": "7aafe492-a030-4dbb-853c-97452864985b",
   "metadata": {},
   "outputs": [],
   "source": []
  },
  {
   "cell_type": "code",
   "execution_count": null,
   "id": "39f43a5d-8ad6-4ce9-b8c0-231ad816617f",
   "metadata": {},
   "outputs": [],
   "source": []
  },
  {
   "cell_type": "code",
   "execution_count": null,
   "id": "8685fcb6-261d-497e-8309-4157bdc9fcbb",
   "metadata": {},
   "outputs": [],
   "source": []
  }
 ],
 "metadata": {
  "kernelspec": {
   "display_name": "Python 3 (ipykernel)",
   "language": "python",
   "name": "python3"
  },
  "language_info": {
   "codemirror_mode": {
    "name": "ipython",
    "version": 3
   },
   "file_extension": ".py",
   "mimetype": "text/x-python",
   "name": "python",
   "nbconvert_exporter": "python",
   "pygments_lexer": "ipython3",
   "version": "3.11.9"
  }
 },
 "nbformat": 4,
 "nbformat_minor": 5
}
