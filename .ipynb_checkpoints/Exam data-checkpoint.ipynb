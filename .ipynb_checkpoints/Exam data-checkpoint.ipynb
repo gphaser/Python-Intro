{
 "cells": [
  {
   "cell_type": "markdown",
   "id": "fa131a12-02a1-4bb1-b40e-c24c4bcdcb4d",
   "metadata": {},
   "source": [
    "# Exam Data Tutorial\n",
    "The goal of this tutorial is to introduce some useful functions and show how to do typical tasks when working with quantitative educational data. This tutorial assumes you already have basic knowledge of Python and Pandas. It also assumes you are familiar with method chaining (e.g. `myobject.function()` ) as a way to reduce intermediate steps and make your code more readable.\n",
    "\n",
    "In this lesson, you will learn the following:\n",
    "* How to sort and view data\n",
    "* Compute values from multiple columns\n",
    "* Compute values across a row\n",
    "* How to break results down by some grouping variable\n",
    "* How to extract a column from a data frame for use elsewhere"
   ]
  },
  {
   "cell_type": "markdown",
   "id": "54f1e92b-4613-470a-8ec9-1cb045f368da",
   "metadata": {},
   "source": [
    "## Setting up\n",
    "This tutorial uses the `exam_data.csv` file. This file represents simulated exam scores for a course with three exams and is similar to what you might see if you were using the eLC gradebook for a project. Scores are between 0 and 100 but you'll notice most students did well on this exam. There is also a generic `group` binary variable that could represent something like female, underrepresented minority, first generation status, etc.\n",
    "\n",
    "`pandas` is the package that handles data frames in Python so we are doing to load that first. We can then use the `read_csv` function to import the `exam_data.csv` file as a data frame in Pyton"
   ]
  },
  {
   "cell_type": "code",
   "execution_count": 2,
   "id": "155da30b-da2f-4692-b5a7-150efd5b7797",
   "metadata": {},
   "outputs": [],
   "source": [
    "import pandas as pd"
   ]
  },
  {
   "cell_type": "code",
   "execution_count": 4,
   "id": "df300813-9973-4f4c-8a42-a642d397dcf9",
   "metadata": {},
   "outputs": [],
   "source": [
    "exam_data = pd.read_csv(\"exam_data.csv\")"
   ]
  },
  {
   "cell_type": "markdown",
   "id": "162186e0-1bd3-417f-81d7-a76a91499e79",
   "metadata": {},
   "source": [
    "## Familiarizing ourselves with the data\n",
    "Before doing any analysis, it's useful to get a sense of what the data looks like. There are a variety of different things we can check. Let's walk through them."
   ]
  },
  {
   "cell_type": "markdown",
   "id": "3dc8abdd-6f0b-4f0f-83d0-839b4652f104",
   "metadata": {},
   "source": [
    "First, let's look at the first few rows of the data frame to see what our data looks like. We can do this either with indexing or `.head()`. Let's look at the first six rows. Remember that Python indexing starts at 0 and not 1!\n",
    "\n",
    "You'll notice that both examples return the same rows. You can change the numbers to view more or fewer rows."
   ]
  },
  {
   "cell_type": "code",
   "execution_count": 75,
   "id": "2d42d542-e87a-424e-8a32-5d6876f96c45",
   "metadata": {},
   "outputs": [
    {
     "data": {
      "text/html": [
       "<div>\n",
       "<style scoped>\n",
       "    .dataframe tbody tr th:only-of-type {\n",
       "        vertical-align: middle;\n",
       "    }\n",
       "\n",
       "    .dataframe tbody tr th {\n",
       "        vertical-align: top;\n",
       "    }\n",
       "\n",
       "    .dataframe thead th {\n",
       "        text-align: right;\n",
       "    }\n",
       "</style>\n",
       "<table border=\"1\" class=\"dataframe\">\n",
       "  <thead>\n",
       "    <tr style=\"text-align: right;\">\n",
       "      <th></th>\n",
       "      <th>id</th>\n",
       "      <th>group</th>\n",
       "      <th>exam1</th>\n",
       "      <th>exam2</th>\n",
       "      <th>exam3</th>\n",
       "      <th>avg_grade</th>\n",
       "    </tr>\n",
       "  </thead>\n",
       "  <tbody>\n",
       "    <tr>\n",
       "      <th>0</th>\n",
       "      <td>1001</td>\n",
       "      <td>group1</td>\n",
       "      <td>90</td>\n",
       "      <td>95</td>\n",
       "      <td>97</td>\n",
       "      <td>94.000000</td>\n",
       "    </tr>\n",
       "    <tr>\n",
       "      <th>1</th>\n",
       "      <td>1002</td>\n",
       "      <td>group2</td>\n",
       "      <td>77</td>\n",
       "      <td>80</td>\n",
       "      <td>81</td>\n",
       "      <td>79.333333</td>\n",
       "    </tr>\n",
       "    <tr>\n",
       "      <th>2</th>\n",
       "      <td>1003</td>\n",
       "      <td>group2</td>\n",
       "      <td>80</td>\n",
       "      <td>84</td>\n",
       "      <td>86</td>\n",
       "      <td>83.333333</td>\n",
       "    </tr>\n",
       "    <tr>\n",
       "      <th>3</th>\n",
       "      <td>1004</td>\n",
       "      <td>group2</td>\n",
       "      <td>89</td>\n",
       "      <td>93</td>\n",
       "      <td>95</td>\n",
       "      <td>92.333333</td>\n",
       "    </tr>\n",
       "    <tr>\n",
       "      <th>4</th>\n",
       "      <td>1005</td>\n",
       "      <td>group1</td>\n",
       "      <td>89</td>\n",
       "      <td>94</td>\n",
       "      <td>98</td>\n",
       "      <td>93.666667</td>\n",
       "    </tr>\n",
       "    <tr>\n",
       "      <th>5</th>\n",
       "      <td>1006</td>\n",
       "      <td>group1</td>\n",
       "      <td>84</td>\n",
       "      <td>88</td>\n",
       "      <td>91</td>\n",
       "      <td>87.666667</td>\n",
       "    </tr>\n",
       "  </tbody>\n",
       "</table>\n",
       "</div>"
      ],
      "text/plain": [
       "     id   group  exam1  exam2  exam3  avg_grade\n",
       "0  1001  group1     90     95     97  94.000000\n",
       "1  1002  group2     77     80     81  79.333333\n",
       "2  1003  group2     80     84     86  83.333333\n",
       "3  1004  group2     89     93     95  92.333333\n",
       "4  1005  group1     89     94     98  93.666667\n",
       "5  1006  group1     84     88     91  87.666667"
      ]
     },
     "execution_count": 75,
     "metadata": {},
     "output_type": "execute_result"
    }
   ],
   "source": [
    "exam_data[0:6]"
   ]
  },
  {
   "cell_type": "code",
   "execution_count": 77,
   "id": "e0f99a85-48d3-4fcf-b8f7-2ad27eedc728",
   "metadata": {},
   "outputs": [
    {
     "data": {
      "text/html": [
       "<div>\n",
       "<style scoped>\n",
       "    .dataframe tbody tr th:only-of-type {\n",
       "        vertical-align: middle;\n",
       "    }\n",
       "\n",
       "    .dataframe tbody tr th {\n",
       "        vertical-align: top;\n",
       "    }\n",
       "\n",
       "    .dataframe thead th {\n",
       "        text-align: right;\n",
       "    }\n",
       "</style>\n",
       "<table border=\"1\" class=\"dataframe\">\n",
       "  <thead>\n",
       "    <tr style=\"text-align: right;\">\n",
       "      <th></th>\n",
       "      <th>id</th>\n",
       "      <th>group</th>\n",
       "      <th>exam1</th>\n",
       "      <th>exam2</th>\n",
       "      <th>exam3</th>\n",
       "      <th>avg_grade</th>\n",
       "    </tr>\n",
       "  </thead>\n",
       "  <tbody>\n",
       "    <tr>\n",
       "      <th>0</th>\n",
       "      <td>1001</td>\n",
       "      <td>group1</td>\n",
       "      <td>90</td>\n",
       "      <td>95</td>\n",
       "      <td>97</td>\n",
       "      <td>94.000000</td>\n",
       "    </tr>\n",
       "    <tr>\n",
       "      <th>1</th>\n",
       "      <td>1002</td>\n",
       "      <td>group2</td>\n",
       "      <td>77</td>\n",
       "      <td>80</td>\n",
       "      <td>81</td>\n",
       "      <td>79.333333</td>\n",
       "    </tr>\n",
       "    <tr>\n",
       "      <th>2</th>\n",
       "      <td>1003</td>\n",
       "      <td>group2</td>\n",
       "      <td>80</td>\n",
       "      <td>84</td>\n",
       "      <td>86</td>\n",
       "      <td>83.333333</td>\n",
       "    </tr>\n",
       "    <tr>\n",
       "      <th>3</th>\n",
       "      <td>1004</td>\n",
       "      <td>group2</td>\n",
       "      <td>89</td>\n",
       "      <td>93</td>\n",
       "      <td>95</td>\n",
       "      <td>92.333333</td>\n",
       "    </tr>\n",
       "    <tr>\n",
       "      <th>4</th>\n",
       "      <td>1005</td>\n",
       "      <td>group1</td>\n",
       "      <td>89</td>\n",
       "      <td>94</td>\n",
       "      <td>98</td>\n",
       "      <td>93.666667</td>\n",
       "    </tr>\n",
       "    <tr>\n",
       "      <th>5</th>\n",
       "      <td>1006</td>\n",
       "      <td>group1</td>\n",
       "      <td>84</td>\n",
       "      <td>88</td>\n",
       "      <td>91</td>\n",
       "      <td>87.666667</td>\n",
       "    </tr>\n",
       "  </tbody>\n",
       "</table>\n",
       "</div>"
      ],
      "text/plain": [
       "     id   group  exam1  exam2  exam3  avg_grade\n",
       "0  1001  group1     90     95     97  94.000000\n",
       "1  1002  group2     77     80     81  79.333333\n",
       "2  1003  group2     80     84     86  83.333333\n",
       "3  1004  group2     89     93     95  92.333333\n",
       "4  1005  group1     89     94     98  93.666667\n",
       "5  1006  group1     84     88     91  87.666667"
      ]
     },
     "execution_count": 77,
     "metadata": {},
     "output_type": "execute_result"
    }
   ],
   "source": [
    "exam_data.head(6)"
   ]
  },
  {
   "cell_type": "markdown",
   "id": "25e665f0-d306-4dc2-996a-84c0badbe358",
   "metadata": {},
   "source": [
    "To look at a specific column, include the same or location of that variable. Use `[ ]` to return a series and `[[ ]]` to return a data frame. Make sure you understand the difference between these two objects. Essentially a data frame is 2D object where each column is a series. Series are always $m$ x $1$ while a data frame can be essentially any shape $m$ x $n$."
   ]
  },
  {
   "cell_type": "code",
   "execution_count": 130,
   "id": "43c51109-5e14-4caf-bd6e-b26bd67db0ad",
   "metadata": {},
   "outputs": [
    {
     "data": {
      "text/plain": [
       "0      95\n",
       "1      80\n",
       "2      84\n",
       "3      93\n",
       "4      94\n",
       "       ..\n",
       "195    85\n",
       "196    86\n",
       "197    86\n",
       "198    84\n",
       "199    99\n",
       "Name: exam2, Length: 200, dtype: int64"
      ]
     },
     "execution_count": 130,
     "metadata": {},
     "output_type": "execute_result"
    }
   ],
   "source": [
    "exam_data['exam2']"
   ]
  },
  {
   "cell_type": "code",
   "execution_count": 128,
   "id": "ac9172d9-f8df-433c-bce7-24dfea968782",
   "metadata": {},
   "outputs": [
    {
     "data": {
      "text/html": [
       "<div>\n",
       "<style scoped>\n",
       "    .dataframe tbody tr th:only-of-type {\n",
       "        vertical-align: middle;\n",
       "    }\n",
       "\n",
       "    .dataframe tbody tr th {\n",
       "        vertical-align: top;\n",
       "    }\n",
       "\n",
       "    .dataframe thead th {\n",
       "        text-align: right;\n",
       "    }\n",
       "</style>\n",
       "<table border=\"1\" class=\"dataframe\">\n",
       "  <thead>\n",
       "    <tr style=\"text-align: right;\">\n",
       "      <th></th>\n",
       "      <th>exam2</th>\n",
       "    </tr>\n",
       "  </thead>\n",
       "  <tbody>\n",
       "    <tr>\n",
       "      <th>0</th>\n",
       "      <td>95</td>\n",
       "    </tr>\n",
       "    <tr>\n",
       "      <th>1</th>\n",
       "      <td>80</td>\n",
       "    </tr>\n",
       "    <tr>\n",
       "      <th>2</th>\n",
       "      <td>84</td>\n",
       "    </tr>\n",
       "    <tr>\n",
       "      <th>3</th>\n",
       "      <td>93</td>\n",
       "    </tr>\n",
       "    <tr>\n",
       "      <th>4</th>\n",
       "      <td>94</td>\n",
       "    </tr>\n",
       "    <tr>\n",
       "      <th>...</th>\n",
       "      <td>...</td>\n",
       "    </tr>\n",
       "    <tr>\n",
       "      <th>195</th>\n",
       "      <td>85</td>\n",
       "    </tr>\n",
       "    <tr>\n",
       "      <th>196</th>\n",
       "      <td>86</td>\n",
       "    </tr>\n",
       "    <tr>\n",
       "      <th>197</th>\n",
       "      <td>86</td>\n",
       "    </tr>\n",
       "    <tr>\n",
       "      <th>198</th>\n",
       "      <td>84</td>\n",
       "    </tr>\n",
       "    <tr>\n",
       "      <th>199</th>\n",
       "      <td>99</td>\n",
       "    </tr>\n",
       "  </tbody>\n",
       "</table>\n",
       "<p>200 rows × 1 columns</p>\n",
       "</div>"
      ],
      "text/plain": [
       "     exam2\n",
       "0       95\n",
       "1       80\n",
       "2       84\n",
       "3       93\n",
       "4       94\n",
       "..     ...\n",
       "195     85\n",
       "196     86\n",
       "197     86\n",
       "198     84\n",
       "199     99\n",
       "\n",
       "[200 rows x 1 columns]"
      ]
     },
     "execution_count": 128,
     "metadata": {},
     "output_type": "execute_result"
    }
   ],
   "source": [
    "exam_data[['exam2']]"
   ]
  },
  {
   "cell_type": "markdown",
   "id": "f265d7d4-6834-42c5-b04d-744db73a8d42",
   "metadata": {},
   "source": [
    "Another useful thing to do is sort the data frame by some column. We can do that by `.sort_values`. Let's sort by exam 1 scores first. Then let's do an example of sorting by group. Remember that `.sort_values()` is an out-of-place function so the original data frame is unchanged and you need to write this as a variable if you want to save it or set the `inplace` parameter in `.sort_values()` to `True` if you want the original data frame to be modified (generally not recommended)."
   ]
  },
  {
   "cell_type": "code",
   "execution_count": 86,
   "id": "b60960df-71df-46e0-835c-e880b82e415d",
   "metadata": {},
   "outputs": [
    {
     "data": {
      "text/html": [
       "<div>\n",
       "<style scoped>\n",
       "    .dataframe tbody tr th:only-of-type {\n",
       "        vertical-align: middle;\n",
       "    }\n",
       "\n",
       "    .dataframe tbody tr th {\n",
       "        vertical-align: top;\n",
       "    }\n",
       "\n",
       "    .dataframe thead th {\n",
       "        text-align: right;\n",
       "    }\n",
       "</style>\n",
       "<table border=\"1\" class=\"dataframe\">\n",
       "  <thead>\n",
       "    <tr style=\"text-align: right;\">\n",
       "      <th></th>\n",
       "      <th>id</th>\n",
       "      <th>group</th>\n",
       "      <th>exam1</th>\n",
       "      <th>exam2</th>\n",
       "      <th>exam3</th>\n",
       "      <th>avg_grade</th>\n",
       "    </tr>\n",
       "  </thead>\n",
       "  <tbody>\n",
       "    <tr>\n",
       "      <th>191</th>\n",
       "      <td>1192</td>\n",
       "      <td>group2</td>\n",
       "      <td>69</td>\n",
       "      <td>74</td>\n",
       "      <td>75</td>\n",
       "      <td>72.666667</td>\n",
       "    </tr>\n",
       "    <tr>\n",
       "      <th>98</th>\n",
       "      <td>1099</td>\n",
       "      <td>group1</td>\n",
       "      <td>70</td>\n",
       "      <td>74</td>\n",
       "      <td>76</td>\n",
       "      <td>73.333333</td>\n",
       "    </tr>\n",
       "    <tr>\n",
       "      <th>187</th>\n",
       "      <td>1188</td>\n",
       "      <td>group1</td>\n",
       "      <td>72</td>\n",
       "      <td>80</td>\n",
       "      <td>82</td>\n",
       "      <td>78.000000</td>\n",
       "    </tr>\n",
       "    <tr>\n",
       "      <th>150</th>\n",
       "      <td>1151</td>\n",
       "      <td>group2</td>\n",
       "      <td>72</td>\n",
       "      <td>77</td>\n",
       "      <td>78</td>\n",
       "      <td>75.666667</td>\n",
       "    </tr>\n",
       "    <tr>\n",
       "      <th>17</th>\n",
       "      <td>1018</td>\n",
       "      <td>group2</td>\n",
       "      <td>72</td>\n",
       "      <td>75</td>\n",
       "      <td>78</td>\n",
       "      <td>75.000000</td>\n",
       "    </tr>\n",
       "    <tr>\n",
       "      <th>...</th>\n",
       "      <td>...</td>\n",
       "      <td>...</td>\n",
       "      <td>...</td>\n",
       "      <td>...</td>\n",
       "      <td>...</td>\n",
       "      <td>...</td>\n",
       "    </tr>\n",
       "    <tr>\n",
       "      <th>58</th>\n",
       "      <td>1059</td>\n",
       "      <td>group2</td>\n",
       "      <td>94</td>\n",
       "      <td>98</td>\n",
       "      <td>100</td>\n",
       "      <td>97.333333</td>\n",
       "    </tr>\n",
       "    <tr>\n",
       "      <th>42</th>\n",
       "      <td>1043</td>\n",
       "      <td>group1</td>\n",
       "      <td>94</td>\n",
       "      <td>99</td>\n",
       "      <td>100</td>\n",
       "      <td>97.666667</td>\n",
       "    </tr>\n",
       "    <tr>\n",
       "      <th>161</th>\n",
       "      <td>1162</td>\n",
       "      <td>group1</td>\n",
       "      <td>95</td>\n",
       "      <td>100</td>\n",
       "      <td>100</td>\n",
       "      <td>98.333333</td>\n",
       "    </tr>\n",
       "    <tr>\n",
       "      <th>170</th>\n",
       "      <td>1171</td>\n",
       "      <td>group1</td>\n",
       "      <td>96</td>\n",
       "      <td>100</td>\n",
       "      <td>100</td>\n",
       "      <td>98.666667</td>\n",
       "    </tr>\n",
       "    <tr>\n",
       "      <th>199</th>\n",
       "      <td>1200</td>\n",
       "      <td>group2</td>\n",
       "      <td>96</td>\n",
       "      <td>99</td>\n",
       "      <td>100</td>\n",
       "      <td>98.333333</td>\n",
       "    </tr>\n",
       "  </tbody>\n",
       "</table>\n",
       "<p>200 rows × 6 columns</p>\n",
       "</div>"
      ],
      "text/plain": [
       "       id   group  exam1  exam2  exam3  avg_grade\n",
       "191  1192  group2     69     74     75  72.666667\n",
       "98   1099  group1     70     74     76  73.333333\n",
       "187  1188  group1     72     80     82  78.000000\n",
       "150  1151  group2     72     77     78  75.666667\n",
       "17   1018  group2     72     75     78  75.000000\n",
       "..    ...     ...    ...    ...    ...        ...\n",
       "58   1059  group2     94     98    100  97.333333\n",
       "42   1043  group1     94     99    100  97.666667\n",
       "161  1162  group1     95    100    100  98.333333\n",
       "170  1171  group1     96    100    100  98.666667\n",
       "199  1200  group2     96     99    100  98.333333\n",
       "\n",
       "[200 rows x 6 columns]"
      ]
     },
     "execution_count": 86,
     "metadata": {},
     "output_type": "execute_result"
    }
   ],
   "source": [
    "# sorting by exam1 scores\n",
    "exam_data.sort_values(by = 'exam1')"
   ]
  },
  {
   "cell_type": "code",
   "execution_count": 84,
   "id": "e7e2c66e-a2d0-4484-9701-59a1fbbdec9d",
   "metadata": {},
   "outputs": [],
   "source": [
    "# sorting by group and then saving the sorted data frame as a new variable\n",
    "exam_data_sorted = exam_data.sort_values(by='group')"
   ]
  },
  {
   "cell_type": "markdown",
   "id": "78e6b681-b161-4dc8-ab12-662a4d5462ad",
   "metadata": {},
   "source": [
    "## Calculating values from a column\n",
    "For many numeric data, we are often interested in a summary statistic like the mean, median, or standard deviation to describe some type of behavior. For example, what was the average score on a test.\n",
    "\n",
    "This is pretty straighforward to do in Python. Let's do an example with the mean."
   ]
  },
  {
   "cell_type": "markdown",
   "id": "de04cc9a-c222-493b-8e0e-5b21eb94aa57",
   "metadata": {},
   "source": [
    "The basic idea is to select the columns we want to use and then chain the type statistic we want to calculate such as `.mean()`, `.median()`, or `.std()`. If we want to calculate the mean score of each exam, we can do the following."
   ]
  },
  {
   "cell_type": "code",
   "execution_count": 9,
   "id": "0ae8df62-1fa0-4d5b-b714-1a0ba3a3b25f",
   "metadata": {},
   "outputs": [
    {
     "data": {
      "text/plain": [
       "exam1    83.620\n",
       "exam2    88.035\n",
       "exam3    90.270\n",
       "dtype: float64"
      ]
     },
     "execution_count": 9,
     "metadata": {},
     "output_type": "execute_result"
    }
   ],
   "source": [
    "exam_data_summary = exam_data[['exam1', 'exam2', 'exam3']].mean()\n",
    "exam_data_summary"
   ]
  },
  {
   "cell_type": "markdown",
   "id": "125aca61-41ea-41a3-a66b-9c4488db3496",
   "metadata": {},
   "source": [
    "Notice here I save the means as a separate variable so I can easily get them back. I can also directly print to console if I don't need to save them."
   ]
  },
  {
   "cell_type": "code",
   "execution_count": 100,
   "id": "2ec323db-4f71-4fcd-8f2a-12d1b7e823d4",
   "metadata": {},
   "outputs": [
    {
     "data": {
      "text/plain": [
       "exam1    83.620\n",
       "exam2    88.035\n",
       "exam3    90.270\n",
       "dtype: float64"
      ]
     },
     "execution_count": 100,
     "metadata": {},
     "output_type": "execute_result"
    }
   ],
   "source": [
    "exam_data[['exam1', 'exam2', 'exam3']].mean()"
   ]
  },
  {
   "cell_type": "markdown",
   "id": "2e425944-1fb6-48eb-9d3b-87e77f6455d4",
   "metadata": {},
   "source": [
    "I can do the same thing with other functions to like finding the standard deviation or spread of the scores"
   ]
  },
  {
   "cell_type": "code",
   "execution_count": 103,
   "id": "0d8618b9-0825-4966-ae4d-01a1470c456c",
   "metadata": {},
   "outputs": [
    {
     "data": {
      "text/plain": [
       "exam1    5.088720\n",
       "exam2    5.301349\n",
       "exam3    5.324363\n",
       "dtype: float64"
      ]
     },
     "execution_count": 103,
     "metadata": {},
     "output_type": "execute_result"
    }
   ],
   "source": [
    "exam_data[['exam1', 'exam2', 'exam3']].std()"
   ]
  },
  {
   "cell_type": "markdown",
   "id": "9208330e-87f9-4928-845d-c1cd6410ae60",
   "metadata": {},
   "source": [
    "If I want to get multiple common statistics at the same time, I can use `.describe()`"
   ]
  },
  {
   "cell_type": "code",
   "execution_count": 108,
   "id": "00b86783-e46b-4020-af2b-553fc1ef0f14",
   "metadata": {},
   "outputs": [
    {
     "data": {
      "text/html": [
       "<div>\n",
       "<style scoped>\n",
       "    .dataframe tbody tr th:only-of-type {\n",
       "        vertical-align: middle;\n",
       "    }\n",
       "\n",
       "    .dataframe tbody tr th {\n",
       "        vertical-align: top;\n",
       "    }\n",
       "\n",
       "    .dataframe thead th {\n",
       "        text-align: right;\n",
       "    }\n",
       "</style>\n",
       "<table border=\"1\" class=\"dataframe\">\n",
       "  <thead>\n",
       "    <tr style=\"text-align: right;\">\n",
       "      <th></th>\n",
       "      <th>exam1</th>\n",
       "      <th>exam2</th>\n",
       "      <th>exam3</th>\n",
       "    </tr>\n",
       "  </thead>\n",
       "  <tbody>\n",
       "    <tr>\n",
       "      <th>count</th>\n",
       "      <td>200.00000</td>\n",
       "      <td>200.000000</td>\n",
       "      <td>200.000000</td>\n",
       "    </tr>\n",
       "    <tr>\n",
       "      <th>mean</th>\n",
       "      <td>83.62000</td>\n",
       "      <td>88.035000</td>\n",
       "      <td>90.270000</td>\n",
       "    </tr>\n",
       "    <tr>\n",
       "      <th>std</th>\n",
       "      <td>5.08872</td>\n",
       "      <td>5.301349</td>\n",
       "      <td>5.324363</td>\n",
       "    </tr>\n",
       "    <tr>\n",
       "      <th>min</th>\n",
       "      <td>69.00000</td>\n",
       "      <td>74.000000</td>\n",
       "      <td>75.000000</td>\n",
       "    </tr>\n",
       "    <tr>\n",
       "      <th>25%</th>\n",
       "      <td>80.00000</td>\n",
       "      <td>84.000000</td>\n",
       "      <td>87.000000</td>\n",
       "    </tr>\n",
       "    <tr>\n",
       "      <th>50%</th>\n",
       "      <td>83.50000</td>\n",
       "      <td>88.000000</td>\n",
       "      <td>90.000000</td>\n",
       "    </tr>\n",
       "    <tr>\n",
       "      <th>75%</th>\n",
       "      <td>87.00000</td>\n",
       "      <td>92.000000</td>\n",
       "      <td>94.000000</td>\n",
       "    </tr>\n",
       "    <tr>\n",
       "      <th>max</th>\n",
       "      <td>96.00000</td>\n",
       "      <td>100.000000</td>\n",
       "      <td>100.000000</td>\n",
       "    </tr>\n",
       "  </tbody>\n",
       "</table>\n",
       "</div>"
      ],
      "text/plain": [
       "           exam1       exam2       exam3\n",
       "count  200.00000  200.000000  200.000000\n",
       "mean    83.62000   88.035000   90.270000\n",
       "std      5.08872    5.301349    5.324363\n",
       "min     69.00000   74.000000   75.000000\n",
       "25%     80.00000   84.000000   87.000000\n",
       "50%     83.50000   88.000000   90.000000\n",
       "75%     87.00000   92.000000   94.000000\n",
       "max     96.00000  100.000000  100.000000"
      ]
     },
     "execution_count": 108,
     "metadata": {},
     "output_type": "execute_result"
    }
   ],
   "source": [
    "exam_data[['exam1', 'exam2', 'exam3']].describe()"
   ]
  },
  {
   "cell_type": "markdown",
   "id": "7e4ba7b1-32ad-410c-8d13-52c46255dada",
   "metadata": {},
   "source": [
    "You'll notice I get the same values as before but also much more information!\n",
    "\n",
    "You can select the columns you want or can you use the entire data frame and Python will skip the non-numeric columns"
   ]
  },
  {
   "cell_type": "code",
   "execution_count": 111,
   "id": "cdc263b5-3b5e-47de-b67b-625032b19241",
   "metadata": {},
   "outputs": [
    {
     "data": {
      "text/html": [
       "<div>\n",
       "<style scoped>\n",
       "    .dataframe tbody tr th:only-of-type {\n",
       "        vertical-align: middle;\n",
       "    }\n",
       "\n",
       "    .dataframe tbody tr th {\n",
       "        vertical-align: top;\n",
       "    }\n",
       "\n",
       "    .dataframe thead th {\n",
       "        text-align: right;\n",
       "    }\n",
       "</style>\n",
       "<table border=\"1\" class=\"dataframe\">\n",
       "  <thead>\n",
       "    <tr style=\"text-align: right;\">\n",
       "      <th></th>\n",
       "      <th>id</th>\n",
       "      <th>exam1</th>\n",
       "      <th>exam2</th>\n",
       "      <th>exam3</th>\n",
       "      <th>avg_grade</th>\n",
       "    </tr>\n",
       "  </thead>\n",
       "  <tbody>\n",
       "    <tr>\n",
       "      <th>count</th>\n",
       "      <td>200.000000</td>\n",
       "      <td>200.00000</td>\n",
       "      <td>200.000000</td>\n",
       "      <td>200.000000</td>\n",
       "      <td>200.000000</td>\n",
       "    </tr>\n",
       "    <tr>\n",
       "      <th>mean</th>\n",
       "      <td>1100.500000</td>\n",
       "      <td>83.62000</td>\n",
       "      <td>88.035000</td>\n",
       "      <td>90.270000</td>\n",
       "      <td>87.308333</td>\n",
       "    </tr>\n",
       "    <tr>\n",
       "      <th>std</th>\n",
       "      <td>57.879185</td>\n",
       "      <td>5.08872</td>\n",
       "      <td>5.301349</td>\n",
       "      <td>5.324363</td>\n",
       "      <td>5.192115</td>\n",
       "    </tr>\n",
       "    <tr>\n",
       "      <th>min</th>\n",
       "      <td>1001.000000</td>\n",
       "      <td>69.00000</td>\n",
       "      <td>74.000000</td>\n",
       "      <td>75.000000</td>\n",
       "      <td>72.666667</td>\n",
       "    </tr>\n",
       "    <tr>\n",
       "      <th>25%</th>\n",
       "      <td>1050.750000</td>\n",
       "      <td>80.00000</td>\n",
       "      <td>84.000000</td>\n",
       "      <td>87.000000</td>\n",
       "      <td>84.250000</td>\n",
       "    </tr>\n",
       "    <tr>\n",
       "      <th>50%</th>\n",
       "      <td>1100.500000</td>\n",
       "      <td>83.50000</td>\n",
       "      <td>88.000000</td>\n",
       "      <td>90.000000</td>\n",
       "      <td>87.333333</td>\n",
       "    </tr>\n",
       "    <tr>\n",
       "      <th>75%</th>\n",
       "      <td>1150.250000</td>\n",
       "      <td>87.00000</td>\n",
       "      <td>92.000000</td>\n",
       "      <td>94.000000</td>\n",
       "      <td>91.000000</td>\n",
       "    </tr>\n",
       "    <tr>\n",
       "      <th>max</th>\n",
       "      <td>1200.000000</td>\n",
       "      <td>96.00000</td>\n",
       "      <td>100.000000</td>\n",
       "      <td>100.000000</td>\n",
       "      <td>98.666667</td>\n",
       "    </tr>\n",
       "  </tbody>\n",
       "</table>\n",
       "</div>"
      ],
      "text/plain": [
       "                id      exam1       exam2       exam3   avg_grade\n",
       "count   200.000000  200.00000  200.000000  200.000000  200.000000\n",
       "mean   1100.500000   83.62000   88.035000   90.270000   87.308333\n",
       "std      57.879185    5.08872    5.301349    5.324363    5.192115\n",
       "min    1001.000000   69.00000   74.000000   75.000000   72.666667\n",
       "25%    1050.750000   80.00000   84.000000   87.000000   84.250000\n",
       "50%    1100.500000   83.50000   88.000000   90.000000   87.333333\n",
       "75%    1150.250000   87.00000   92.000000   94.000000   91.000000\n",
       "max    1200.000000   96.00000  100.000000  100.000000   98.666667"
      ]
     },
     "execution_count": 111,
     "metadata": {},
     "output_type": "execute_result"
    }
   ],
   "source": [
    "exam_data.describe()"
   ]
  },
  {
   "cell_type": "markdown",
   "id": "4da5f0b8-e0e9-4d95-a889-465c3bd21dea",
   "metadata": {},
   "source": [
    "For non-numeric data, it can be useful to get the counts of each category. We can use `.value_counts()` to do this"
   ]
  },
  {
   "cell_type": "code",
   "execution_count": 120,
   "id": "60eaa822-4246-4fb2-99b7-a15caeae7397",
   "metadata": {},
   "outputs": [
    {
     "data": {
      "text/plain": [
       "group \n",
       "group1    100\n",
       "group2    100\n",
       "Name: count, dtype: int64"
      ]
     },
     "execution_count": 120,
     "metadata": {},
     "output_type": "execute_result"
    }
   ],
   "source": [
    "exam_data[['group']].value_counts()"
   ]
  },
  {
   "cell_type": "markdown",
   "id": "aa4d462b-1a98-4191-b41a-7b04c75bbd4c",
   "metadata": {},
   "source": [
    "If you want to include more than one variable, make sure to select those columns. This is count each pair of the two variables. Be careful if you select a continuous variable. You could get a large number of pairs back!"
   ]
  },
  {
   "cell_type": "code",
   "execution_count": 118,
   "id": "caadf030-748c-4179-a80c-5666ac7ab2c1",
   "metadata": {},
   "outputs": [
    {
     "data": {
      "text/plain": [
       "group   exam1\n",
       "group2  83       13\n",
       "        85       12\n",
       "group1  88       12\n",
       "        84        9\n",
       "group2  82        9\n",
       "        81        9\n",
       "        80        9\n",
       "group1  92        8\n",
       "        87        8\n",
       "        85        8\n",
       "        81        8\n",
       "group2  79        7\n",
       "group1  83        6\n",
       "group2  78        6\n",
       "        87        5\n",
       "group1  86        5\n",
       "        89        5\n",
       "group2  86        5\n",
       "group1  82        4\n",
       "        90        4\n",
       "group2  77        4\n",
       "        88        4\n",
       "        75        3\n",
       "        84        3\n",
       "group1  93        3\n",
       "        80        3\n",
       "        79        3\n",
       "        78        3\n",
       "        76        3\n",
       "group2  72        2\n",
       "        91        2\n",
       "        76        2\n",
       "group1  73        2\n",
       "group2  89        1\n",
       "        94        1\n",
       "group1  70        1\n",
       "        96        1\n",
       "group2  74        1\n",
       "        69        1\n",
       "group1  72        1\n",
       "        95        1\n",
       "        94        1\n",
       "        91        1\n",
       "group2  96        1\n",
       "Name: count, dtype: int64"
      ]
     },
     "execution_count": 118,
     "metadata": {},
     "output_type": "execute_result"
    }
   ],
   "source": [
    "exam_data[['group', 'exam1']].value_counts()"
   ]
  },
  {
   "cell_type": "markdown",
   "id": "2cd46af2-c3e1-4827-a7a6-f79196f0831a",
   "metadata": {},
   "source": [
    "What if I wanted to compute the mean by rows rather than columns? Essentially, what if I want each student's average exam grade? \n",
    "\n",
    "To do that, I can change the axis the mean is calculated on. 0 is vertically (column-wise) while 1 is horizontally (row-wise). That means I can add `axis=1` to my `.mean()` function to change which way I calculate the mean. Due to the defaults, `.mean()` is equivalent to `.mean(axis=0)`."
   ]
  },
  {
   "cell_type": "code",
   "execution_count": 139,
   "id": "e2561700-f3da-4ab6-b204-eaf74ab70d08",
   "metadata": {},
   "outputs": [
    {
     "data": {
      "text/plain": [
       "0      94.000000\n",
       "1      79.333333\n",
       "2      83.333333\n",
       "3      92.333333\n",
       "4      93.666667\n",
       "         ...    \n",
       "195    84.333333\n",
       "196    86.000000\n",
       "197    85.000000\n",
       "198    82.666667\n",
       "199    98.333333\n",
       "Length: 200, dtype: float64"
      ]
     },
     "execution_count": 139,
     "metadata": {},
     "output_type": "execute_result"
    }
   ],
   "source": [
    "exam_data[['exam1', 'exam2', 'exam3']].mean(axis=1)"
   ]
  },
  {
   "cell_type": "markdown",
   "id": "0e27e78e-b831-4fa9-99c7-90b1a9540f56",
   "metadata": {},
   "source": [
    "Maybe I want to use the student's average grade in the future to perform further calculations. If so, I'd want to add it as a new column in the `exam_data` data frame. I can do so as follows. Here `avg_grade` is the name I want to give to the new column. You can pick any name you want as long as it follows Python's naming rules."
   ]
  },
  {
   "cell_type": "code",
   "execution_count": 145,
   "id": "314f098b-b84a-41bb-bb16-27a480f9dbf2",
   "metadata": {},
   "outputs": [],
   "source": [
    "exam_data['avg_grade'] = exam_data[['exam1', 'exam2', 'exam3']].mean(axis=1)"
   ]
  },
  {
   "cell_type": "markdown",
   "id": "b2566e93-4d64-4d37-87bf-ac275719214f",
   "metadata": {},
   "source": [
    "Let's view the data frame to see what this did."
   ]
  },
  {
   "cell_type": "code",
   "execution_count": 148,
   "id": "4c3b3f4d-507e-4443-b0b7-13c7b4293881",
   "metadata": {},
   "outputs": [
    {
     "data": {
      "text/html": [
       "<div>\n",
       "<style scoped>\n",
       "    .dataframe tbody tr th:only-of-type {\n",
       "        vertical-align: middle;\n",
       "    }\n",
       "\n",
       "    .dataframe tbody tr th {\n",
       "        vertical-align: top;\n",
       "    }\n",
       "\n",
       "    .dataframe thead th {\n",
       "        text-align: right;\n",
       "    }\n",
       "</style>\n",
       "<table border=\"1\" class=\"dataframe\">\n",
       "  <thead>\n",
       "    <tr style=\"text-align: right;\">\n",
       "      <th></th>\n",
       "      <th>id</th>\n",
       "      <th>group</th>\n",
       "      <th>exam1</th>\n",
       "      <th>exam2</th>\n",
       "      <th>exam3</th>\n",
       "      <th>avg_grade</th>\n",
       "    </tr>\n",
       "  </thead>\n",
       "  <tbody>\n",
       "    <tr>\n",
       "      <th>0</th>\n",
       "      <td>1001</td>\n",
       "      <td>group1</td>\n",
       "      <td>90</td>\n",
       "      <td>95</td>\n",
       "      <td>97</td>\n",
       "      <td>94.000000</td>\n",
       "    </tr>\n",
       "    <tr>\n",
       "      <th>1</th>\n",
       "      <td>1002</td>\n",
       "      <td>group2</td>\n",
       "      <td>77</td>\n",
       "      <td>80</td>\n",
       "      <td>81</td>\n",
       "      <td>79.333333</td>\n",
       "    </tr>\n",
       "    <tr>\n",
       "      <th>2</th>\n",
       "      <td>1003</td>\n",
       "      <td>group2</td>\n",
       "      <td>80</td>\n",
       "      <td>84</td>\n",
       "      <td>86</td>\n",
       "      <td>83.333333</td>\n",
       "    </tr>\n",
       "    <tr>\n",
       "      <th>3</th>\n",
       "      <td>1004</td>\n",
       "      <td>group2</td>\n",
       "      <td>89</td>\n",
       "      <td>93</td>\n",
       "      <td>95</td>\n",
       "      <td>92.333333</td>\n",
       "    </tr>\n",
       "    <tr>\n",
       "      <th>4</th>\n",
       "      <td>1005</td>\n",
       "      <td>group1</td>\n",
       "      <td>89</td>\n",
       "      <td>94</td>\n",
       "      <td>98</td>\n",
       "      <td>93.666667</td>\n",
       "    </tr>\n",
       "  </tbody>\n",
       "</table>\n",
       "</div>"
      ],
      "text/plain": [
       "     id   group  exam1  exam2  exam3  avg_grade\n",
       "0  1001  group1     90     95     97  94.000000\n",
       "1  1002  group2     77     80     81  79.333333\n",
       "2  1003  group2     80     84     86  83.333333\n",
       "3  1004  group2     89     93     95  92.333333\n",
       "4  1005  group1     89     94     98  93.666667"
      ]
     },
     "execution_count": 148,
     "metadata": {},
     "output_type": "execute_result"
    }
   ],
   "source": [
    "exam_data.head()"
   ]
  },
  {
   "cell_type": "markdown",
   "id": "527a32bd-13eb-41ac-b135-f49a862337f4",
   "metadata": {},
   "source": [
    "You'll notice that this new variable was added as the last column."
   ]
  },
  {
   "cell_type": "markdown",
   "id": "f7bbfaf0-f803-4143-aa94-479f0aa66667",
   "metadata": {},
   "source": [
    "In general, this format of `dataframe['new_column']` is how we add new columns and we can do all sorts of combinations of the columns. Use this if you want to create new columns based on the values of the other columns. Below is a simple example but you can craete more complicated examples if needed."
   ]
  },
  {
   "cell_type": "code",
   "execution_count": 158,
   "id": "0b1eb7cc-f0de-412d-bbd4-c54a4d33e315",
   "metadata": {},
   "outputs": [
    {
     "data": {
      "text/html": [
       "<div>\n",
       "<style scoped>\n",
       "    .dataframe tbody tr th:only-of-type {\n",
       "        vertical-align: middle;\n",
       "    }\n",
       "\n",
       "    .dataframe tbody tr th {\n",
       "        vertical-align: top;\n",
       "    }\n",
       "\n",
       "    .dataframe thead th {\n",
       "        text-align: right;\n",
       "    }\n",
       "</style>\n",
       "<table border=\"1\" class=\"dataframe\">\n",
       "  <thead>\n",
       "    <tr style=\"text-align: right;\">\n",
       "      <th></th>\n",
       "      <th>id</th>\n",
       "      <th>group</th>\n",
       "      <th>exam1</th>\n",
       "      <th>exam2</th>\n",
       "      <th>exam3</th>\n",
       "      <th>avg_grade</th>\n",
       "      <th>total_points</th>\n",
       "    </tr>\n",
       "  </thead>\n",
       "  <tbody>\n",
       "    <tr>\n",
       "      <th>0</th>\n",
       "      <td>1001</td>\n",
       "      <td>group1</td>\n",
       "      <td>90</td>\n",
       "      <td>95</td>\n",
       "      <td>97</td>\n",
       "      <td>94.000000</td>\n",
       "      <td>282</td>\n",
       "    </tr>\n",
       "    <tr>\n",
       "      <th>1</th>\n",
       "      <td>1002</td>\n",
       "      <td>group2</td>\n",
       "      <td>77</td>\n",
       "      <td>80</td>\n",
       "      <td>81</td>\n",
       "      <td>79.333333</td>\n",
       "      <td>238</td>\n",
       "    </tr>\n",
       "    <tr>\n",
       "      <th>2</th>\n",
       "      <td>1003</td>\n",
       "      <td>group2</td>\n",
       "      <td>80</td>\n",
       "      <td>84</td>\n",
       "      <td>86</td>\n",
       "      <td>83.333333</td>\n",
       "      <td>250</td>\n",
       "    </tr>\n",
       "    <tr>\n",
       "      <th>3</th>\n",
       "      <td>1004</td>\n",
       "      <td>group2</td>\n",
       "      <td>89</td>\n",
       "      <td>93</td>\n",
       "      <td>95</td>\n",
       "      <td>92.333333</td>\n",
       "      <td>277</td>\n",
       "    </tr>\n",
       "    <tr>\n",
       "      <th>4</th>\n",
       "      <td>1005</td>\n",
       "      <td>group1</td>\n",
       "      <td>89</td>\n",
       "      <td>94</td>\n",
       "      <td>98</td>\n",
       "      <td>93.666667</td>\n",
       "      <td>281</td>\n",
       "    </tr>\n",
       "  </tbody>\n",
       "</table>\n",
       "</div>"
      ],
      "text/plain": [
       "     id   group  exam1  exam2  exam3  avg_grade  total_points\n",
       "0  1001  group1     90     95     97  94.000000           282\n",
       "1  1002  group2     77     80     81  79.333333           238\n",
       "2  1003  group2     80     84     86  83.333333           250\n",
       "3  1004  group2     89     93     95  92.333333           277\n",
       "4  1005  group1     89     94     98  93.666667           281"
      ]
     },
     "execution_count": 158,
     "metadata": {},
     "output_type": "execute_result"
    }
   ],
   "source": [
    "exam_data['total_points'] = exam_data['exam1'] + exam_data['exam2'] + exam_data['exam3']\n",
    "exam_data.head()"
   ]
  },
  {
   "cell_type": "markdown",
   "id": "813d8f56-8632-449b-9606-25d57a4ec147",
   "metadata": {},
   "source": [
    "## Looking at subpopulations\n",
    "So far, we've only considered the whole data set. We are often interested in comparing different groups. We can do that with the `groupby()` function which separates our data behind the scenes. It's not necessary to sort the data by group beforehand. Python is smart enough to handle that behind the scenes."
   ]
  },
  {
   "cell_type": "markdown",
   "id": "f2a88ad7-36f8-445e-bd94-8a9b54847e4c",
   "metadata": {},
   "source": [
    "Let's calculate the avearge score on exam 1 by group."
   ]
  },
  {
   "cell_type": "code",
   "execution_count": 164,
   "id": "d48fe09f-847d-4979-84f6-62e34bea4450",
   "metadata": {},
   "outputs": [
    {
     "name": "stdout",
     "output_type": "stream",
     "text": [
      "group\n",
      "group1    85.15\n",
      "group2    82.09\n",
      "Name: exam1, dtype: float64\n"
     ]
    }
   ],
   "source": [
    "# Group the data by 'group'\n",
    "grouped_data = exam_data.groupby('group')\n",
    "\n",
    "# Calculate the mean for each exam column\n",
    "exam1_mean = grouped_data['exam1'].mean()\n",
    "\n",
    "print(exam1_mean)"
   ]
  },
  {
   "cell_type": "markdown",
   "id": "1e3584af-90bf-46e5-98b6-146f9c290f9b",
   "metadata": {},
   "source": [
    "Or more succinctly with chaining"
   ]
  },
  {
   "cell_type": "code",
   "execution_count": 179,
   "id": "6536e7f3-0c3a-413c-b9b6-f6197fb30299",
   "metadata": {},
   "outputs": [
    {
     "data": {
      "text/plain": [
       "group\n",
       "group1    85.15\n",
       "group2    82.09\n",
       "Name: exam1, dtype: float64"
      ]
     },
     "execution_count": 179,
     "metadata": {},
     "output_type": "execute_result"
    }
   ],
   "source": [
    "# single line version\n",
    "exam_data.groupby('group')['exam1'].mean()"
   ]
  },
  {
   "cell_type": "code",
   "execution_count": 177,
   "id": "0191976f-bb5b-45ed-af42-5c3c8615d3f1",
   "metadata": {},
   "outputs": [
    {
     "data": {
      "text/plain": [
       "group\n",
       "group1    85.15\n",
       "group2    82.09\n",
       "Name: exam1, dtype: float64"
      ]
     },
     "execution_count": 177,
     "metadata": {},
     "output_type": "execute_result"
    }
   ],
   "source": [
    "# multiple line version useful when you are chaining multiple things\n",
    "# start and end with ( )\n",
    "(exam_data\n",
    " .groupby('group')['exam1']\n",
    " .mean()\n",
    ")"
   ]
  },
  {
   "cell_type": "markdown",
   "id": "d13c370f-dcc0-4975-a675-eff206ae4af7",
   "metadata": {},
   "source": [
    "Notice that all three of these return the same thing. The first one creates a new data frame `grouped_data` first and then uses that to calculate the mean. The latter two do not create any new data frames.\n",
    "\n",
    "Whether to use the second or third is a matter of preference. Here, they are about the same level of readability. If you were chaining multiple functions, the third woudl be preferrable as it is easy to see all of the steps happening."
   ]
  },
  {
   "cell_type": "markdown",
   "id": "6472a4a3-4668-4162-9324-f101b458dc36",
   "metadata": {},
   "source": [
    "## Grouping and calculating values across columns"
   ]
  },
  {
   "cell_type": "markdown",
   "id": "66b5b573-2cb1-4cd9-83dd-5f4e04539dd6",
   "metadata": {},
   "source": [
    "What if I want to do this across multiple columns? The `.agg` function is useful for aggregating data and can be used to calculate multiple statistics at once. Here's calculate the average exam grade by group. `.agg` is going to return a data frame so we can need to specify the column name followed by the column to use and then what function to use to aggregate the values."
   ]
  },
  {
   "cell_type": "code",
   "execution_count": 191,
   "id": "1ec548db-3b75-491b-9936-ebfef01d0555",
   "metadata": {},
   "outputs": [
    {
     "data": {
      "text/html": [
       "<div>\n",
       "<style scoped>\n",
       "    .dataframe tbody tr th:only-of-type {\n",
       "        vertical-align: middle;\n",
       "    }\n",
       "\n",
       "    .dataframe tbody tr th {\n",
       "        vertical-align: top;\n",
       "    }\n",
       "\n",
       "    .dataframe thead th {\n",
       "        text-align: right;\n",
       "    }\n",
       "</style>\n",
       "<table border=\"1\" class=\"dataframe\">\n",
       "  <thead>\n",
       "    <tr style=\"text-align: right;\">\n",
       "      <th></th>\n",
       "      <th>group</th>\n",
       "      <th>exam1_mean</th>\n",
       "      <th>exam1_median</th>\n",
       "      <th>exam2_mean</th>\n",
       "      <th>exam2_std</th>\n",
       "      <th>exam3_mean</th>\n",
       "    </tr>\n",
       "  </thead>\n",
       "  <tbody>\n",
       "    <tr>\n",
       "      <th>0</th>\n",
       "      <td>group1</td>\n",
       "      <td>85.15</td>\n",
       "      <td>85.0</td>\n",
       "      <td>90.09</td>\n",
       "      <td>5.270645</td>\n",
       "      <td>92.54</td>\n",
       "    </tr>\n",
       "    <tr>\n",
       "      <th>1</th>\n",
       "      <td>group2</td>\n",
       "      <td>82.09</td>\n",
       "      <td>82.0</td>\n",
       "      <td>85.98</td>\n",
       "      <td>4.492373</td>\n",
       "      <td>88.00</td>\n",
       "    </tr>\n",
       "  </tbody>\n",
       "</table>\n",
       "</div>"
      ],
      "text/plain": [
       "    group  exam1_mean  exam1_median  exam2_mean  exam2_std  exam3_mean\n",
       "0  group1       85.15          85.0       90.09   5.270645       92.54\n",
       "1  group2       82.09          82.0       85.98   4.492373       88.00"
      ]
     },
     "execution_count": 191,
     "metadata": {},
     "output_type": "execute_result"
    }
   ],
   "source": [
    "exam_data_group_summary = exam_data.groupby('group').agg(\n",
    "    exam1_mean=('exam1', 'mean'),\n",
    "    exam1_median= ('exam1', 'median'),\n",
    "    exam2_mean=('exam2', 'mean'),\n",
    "    exam2_std =('exam2', 'std'),\n",
    "    exam3_mean=('exam3', 'mean')\n",
    ").reset_index()\n",
    "\n",
    "exam_data_group_summary"
   ]
  },
  {
   "cell_type": "markdown",
   "id": "2a64c202-cc0e-4b78-888d-fdda27305358",
   "metadata": {},
   "source": [
    "The `reset_index()` isn't strictly necessary here if your goal is just to display the values. If you plan to use this output for further work, it is probably good to include it. It essentially works as an ungroup by returning the grouping variable to the data frame rather than leaving it as the index. Compare that with the output below when we do not include `reset_index()`."
   ]
  },
  {
   "cell_type": "code",
   "execution_count": 195,
   "id": "00b5b181-fb45-4d54-8056-a4f3638d6a45",
   "metadata": {},
   "outputs": [
    {
     "data": {
      "text/html": [
       "<div>\n",
       "<style scoped>\n",
       "    .dataframe tbody tr th:only-of-type {\n",
       "        vertical-align: middle;\n",
       "    }\n",
       "\n",
       "    .dataframe tbody tr th {\n",
       "        vertical-align: top;\n",
       "    }\n",
       "\n",
       "    .dataframe thead th {\n",
       "        text-align: right;\n",
       "    }\n",
       "</style>\n",
       "<table border=\"1\" class=\"dataframe\">\n",
       "  <thead>\n",
       "    <tr style=\"text-align: right;\">\n",
       "      <th></th>\n",
       "      <th>exam1_mean</th>\n",
       "      <th>exam1_median</th>\n",
       "      <th>exam2_mean</th>\n",
       "      <th>exam2_std</th>\n",
       "      <th>exam3_mean</th>\n",
       "    </tr>\n",
       "    <tr>\n",
       "      <th>group</th>\n",
       "      <th></th>\n",
       "      <th></th>\n",
       "      <th></th>\n",
       "      <th></th>\n",
       "      <th></th>\n",
       "    </tr>\n",
       "  </thead>\n",
       "  <tbody>\n",
       "    <tr>\n",
       "      <th>group1</th>\n",
       "      <td>85.15</td>\n",
       "      <td>85.0</td>\n",
       "      <td>90.09</td>\n",
       "      <td>5.270645</td>\n",
       "      <td>92.54</td>\n",
       "    </tr>\n",
       "    <tr>\n",
       "      <th>group2</th>\n",
       "      <td>82.09</td>\n",
       "      <td>82.0</td>\n",
       "      <td>85.98</td>\n",
       "      <td>4.492373</td>\n",
       "      <td>88.00</td>\n",
       "    </tr>\n",
       "  </tbody>\n",
       "</table>\n",
       "</div>"
      ],
      "text/plain": [
       "        exam1_mean  exam1_median  exam2_mean  exam2_std  exam3_mean\n",
       "group                                                              \n",
       "group1       85.15          85.0       90.09   5.270645       92.54\n",
       "group2       82.09          82.0       85.98   4.492373       88.00"
      ]
     },
     "execution_count": 195,
     "metadata": {},
     "output_type": "execute_result"
    }
   ],
   "source": [
    "exam_data.groupby('group').agg(\n",
    "    exam1_mean=('exam1', 'mean'),\n",
    "    exam1_median= ('exam1', 'median'),\n",
    "    exam2_mean=('exam2', 'mean'),\n",
    "    exam2_std =('exam2', 'std'),\n",
    "    exam3_mean=('exam3', 'mean'))"
   ]
  },
  {
   "cell_type": "markdown",
   "id": "3da31d00-6f63-4a8d-9194-efdf4394b376",
   "metadata": {},
   "source": [
    "If we didn't want to use `.agg`, we could also do it long-hand. Notice how much shorter our code is when using `.agg`."
   ]
  },
  {
   "cell_type": "code",
   "execution_count": 200,
   "id": "d6ab091b-204c-4045-89a9-fd936af5fa35",
   "metadata": {},
   "outputs": [
    {
     "data": {
      "text/html": [
       "<div>\n",
       "<style scoped>\n",
       "    .dataframe tbody tr th:only-of-type {\n",
       "        vertical-align: middle;\n",
       "    }\n",
       "\n",
       "    .dataframe tbody tr th {\n",
       "        vertical-align: top;\n",
       "    }\n",
       "\n",
       "    .dataframe thead th {\n",
       "        text-align: right;\n",
       "    }\n",
       "</style>\n",
       "<table border=\"1\" class=\"dataframe\">\n",
       "  <thead>\n",
       "    <tr style=\"text-align: right;\">\n",
       "      <th></th>\n",
       "      <th>group</th>\n",
       "      <th>exam1_mean</th>\n",
       "      <th>exam1_median</th>\n",
       "      <th>exam2_mean</th>\n",
       "      <th>exam2_std</th>\n",
       "      <th>exam3_mean</th>\n",
       "    </tr>\n",
       "  </thead>\n",
       "  <tbody>\n",
       "    <tr>\n",
       "      <th>0</th>\n",
       "      <td>group1</td>\n",
       "      <td>85.15</td>\n",
       "      <td>85.0</td>\n",
       "      <td>90.09</td>\n",
       "      <td>5.270645</td>\n",
       "      <td>92.54</td>\n",
       "    </tr>\n",
       "    <tr>\n",
       "      <th>1</th>\n",
       "      <td>group2</td>\n",
       "      <td>82.09</td>\n",
       "      <td>82.0</td>\n",
       "      <td>85.98</td>\n",
       "      <td>4.492373</td>\n",
       "      <td>88.00</td>\n",
       "    </tr>\n",
       "  </tbody>\n",
       "</table>\n",
       "</div>"
      ],
      "text/plain": [
       "    group  exam1_mean  exam1_median  exam2_mean  exam2_std  exam3_mean\n",
       "0  group1       85.15          85.0       90.09   5.270645       92.54\n",
       "1  group2       82.09          82.0       85.98   4.492373       88.00"
      ]
     },
     "execution_count": 200,
     "metadata": {},
     "output_type": "execute_result"
    }
   ],
   "source": [
    "# Group the data by 'group'\n",
    "grouped_data = exam_data.groupby('group')\n",
    "\n",
    "# Calculate the mean for each exam column\n",
    "exam1_mean = grouped_data['exam1'].mean()\n",
    "exam1_median = grouped_data['exam1'].median()\n",
    "exam2_mean = grouped_data['exam2'].mean()\n",
    "exam2_std = grouped_data['exam2'].std()\n",
    "exam3_mean = grouped_data['exam3'].mean()\n",
    "\n",
    "# Create a new DataFrame to store the results\n",
    "exam_data_group_summary_2 = pd.DataFrame({\n",
    "    'group': exam1_mean.index,\n",
    "    'exam1_mean': exam1_mean.values,\n",
    "    'exam1_median': exam1_median.values,\n",
    "    'exam2_mean': exam2_mean.values,\n",
    "    'exam2_std': exam2_std.values,\n",
    "    'exam3_mean': exam3_mean.values\n",
    "})\n",
    "\n",
    "exam_data_group_summary_2"
   ]
  },
  {
   "cell_type": "markdown",
   "id": "a6e7d688-558c-4342-b42c-9851aee8cac4",
   "metadata": {},
   "source": [
    "## Real-world example: standard error\n",
    "If we are doing inferrential statistics, we are interested in determining how likely a result may have occurred by chance or what the expected range of values we would get if we repeated the same experiment (e.g. if we gave the same exams to a similar group of students). One statistic of interest is the standard error, which is essentially the spread or standard deviation of sampling distribution. For example, if we computed the mean exam score on exam 1 from multiple classes, the standard error would be the standard deviation of the mean of the individual class means. Typically, we do not have data from multiple classes so we have to estimate this parameter.\n",
    "\n",
    "Suppose we only have a single class with $n$ students taking the exam. Let $\\sigma$ be the standard deviation for grades on the exam and let $\\mu$ be the average grade on the exam. Then the standard error of the average grade is \n",
    "\n",
    "$\\text{SE}_{\\mu} = \\frac{\\sigma}{\\sqrt{n}}$\n",
    "\n"
   ]
  },
  {
   "cell_type": "markdown",
   "id": "7a644f66-e012-4735-a5be-c4a69aaf776b",
   "metadata": {},
   "source": [
    "Let's use what we've learned so far to calculate the mean exam grade and standard error for each exam.\n",
    "\n",
    "We will do this in two steps. First calculate all the statistics need and then calculate the standard error"
   ]
  },
  {
   "cell_type": "code",
   "execution_count": 257,
   "id": "968d6893-9452-4fd6-9bc5-3a6d1dc134ab",
   "metadata": {},
   "outputs": [
    {
     "data": {
      "text/html": [
       "<div>\n",
       "<style scoped>\n",
       "    .dataframe tbody tr th:only-of-type {\n",
       "        vertical-align: middle;\n",
       "    }\n",
       "\n",
       "    .dataframe tbody tr th {\n",
       "        vertical-align: top;\n",
       "    }\n",
       "\n",
       "    .dataframe thead th {\n",
       "        text-align: right;\n",
       "    }\n",
       "</style>\n",
       "<table border=\"1\" class=\"dataframe\">\n",
       "  <thead>\n",
       "    <tr style=\"text-align: right;\">\n",
       "      <th></th>\n",
       "      <th>group</th>\n",
       "      <th>exam1_n</th>\n",
       "      <th>exam1_mean</th>\n",
       "      <th>exam1_std</th>\n",
       "      <th>exam2_n</th>\n",
       "      <th>exam2_mean</th>\n",
       "      <th>exam2_std</th>\n",
       "      <th>exam3_n</th>\n",
       "      <th>exam3_mean</th>\n",
       "      <th>exam3_std</th>\n",
       "      <th>exam1_se</th>\n",
       "      <th>exam2_se</th>\n",
       "      <th>exam3_se</th>\n",
       "    </tr>\n",
       "  </thead>\n",
       "  <tbody>\n",
       "    <tr>\n",
       "      <th>0</th>\n",
       "      <td>group1</td>\n",
       "      <td>100</td>\n",
       "      <td>85.15</td>\n",
       "      <td>5.219186</td>\n",
       "      <td>100</td>\n",
       "      <td>90.09</td>\n",
       "      <td>5.270645</td>\n",
       "      <td>100</td>\n",
       "      <td>92.54</td>\n",
       "      <td>4.947033</td>\n",
       "      <td>0.521919</td>\n",
       "      <td>0.527064</td>\n",
       "      <td>0.494703</td>\n",
       "    </tr>\n",
       "    <tr>\n",
       "      <th>1</th>\n",
       "      <td>group2</td>\n",
       "      <td>100</td>\n",
       "      <td>82.09</td>\n",
       "      <td>4.481376</td>\n",
       "      <td>100</td>\n",
       "      <td>85.98</td>\n",
       "      <td>4.492373</td>\n",
       "      <td>100</td>\n",
       "      <td>88.00</td>\n",
       "      <td>4.701171</td>\n",
       "      <td>0.448138</td>\n",
       "      <td>0.449237</td>\n",
       "      <td>0.470117</td>\n",
       "    </tr>\n",
       "  </tbody>\n",
       "</table>\n",
       "</div>"
      ],
      "text/plain": [
       "    group  exam1_n  exam1_mean  exam1_std  exam2_n  exam2_mean  exam2_std  \\\n",
       "0  group1      100       85.15   5.219186      100       90.09   5.270645   \n",
       "1  group2      100       82.09   4.481376      100       85.98   4.492373   \n",
       "\n",
       "   exam3_n  exam3_mean  exam3_std  exam1_se  exam2_se  exam3_se  \n",
       "0      100       92.54   4.947033  0.521919  0.527064  0.494703  \n",
       "1      100       88.00   4.701171  0.448138  0.449237  0.470117  "
      ]
     },
     "execution_count": 257,
     "metadata": {},
     "output_type": "execute_result"
    }
   ],
   "source": [
    "# compute the statistics. Using multiple lines for readability\n",
    "result = (\n",
    "exam_data\n",
    "    .groupby('group').\n",
    "    agg(\n",
    "    exam1_n = ('exam1', 'count'),\n",
    "    exam1_mean=('exam1', 'mean'),\n",
    "    exam1_std= ('exam1', 'std'),\n",
    "    exam2_n = ('exam2', 'count'),\n",
    "    exam2_mean=('exam2', 'mean'),\n",
    "    exam2_std= ('exam2', 'std'),\n",
    "    exam3_n = ('exam3', 'count'),\n",
    "    exam3_mean=('exam3', 'mean'),\n",
    "    exam3_std= ('exam3', 'std'),\n",
    "    )\n",
    ")\n",
    "\n",
    "# the square root function is part of numpy so let's import that\n",
    "import numpy as np\n",
    "\n",
    "# calculate the standard error\n",
    "result['exam1_se'] = result['exam1_std'] / np.sqrt(result['exam1_n'])\n",
    "result['exam2_se'] = result['exam2_std'] / np.sqrt(result['exam2_n'])\n",
    "result['exam3_se'] = result['exam3_std'] / np.sqrt(result['exam3_n'])\n",
    "\n",
    "# Reset index to convert the grouped DataFrame back to a regular DataFrame\n",
    "result = result.reset_index()\n",
    "\n",
    "# let's view the result\n",
    "result.head()"
   ]
  },
  {
   "cell_type": "markdown",
   "id": "834e545c-4b4b-493e-bdba-ce0b2dfcab55",
   "metadata": {},
   "source": [
    "Once we have it in this format, we can easily use `matplotlib` to create a chart with the error bars. I'll pick the error bars to be 1.96 times the standard error so that this corresponds to a 95% confidence interval. This means that if we collected this data in 100 similar classes and computed the confidence interval for each, 95 of the intervals would contain the true average score of all physics classes on the exam (assuming we are saying these classes are samples from the population of physics classes). I'll only add one of the exams here to keep things simple but we could plot all of the exams on the sample plot with a few extra lines of code.\n",
    "\n",
    "(Side note: the 1.96 number comes from the normal distribution. In a normal distribution, approximately 95% of the data lies within 1.96 standard deviations from the mean. This is often rounded to 2 as in the [68-95-99.7 rule](https://en.wikipedia.org/wiki/68%E2%80%9395%E2%80%9399.7_rule). In PER, a difference greater than 2 standard deviations is generally the minimum for a result to be statistically significant. In particle physics, it is 5 standard deviations, often called $5\\sigma$ or 5 sigma. Here, if these 1.96 standard error error bars don't overlap, that suggests the performance difference between group 1 and group 2 is statitically signficant.)"
   ]
  },
  {
   "cell_type": "code",
   "execution_count": 254,
   "id": "ffcabd46-fcac-4e1c-865b-8dd2aff1e284",
   "metadata": {},
   "outputs": [
    {
     "data": {
      "text/plain": [
       "Text(0.5, 1.0, 'Mean Exam 1 Scores by Group with 95% confidence interval')"
      ]
     },
     "execution_count": 254,
     "metadata": {},
     "output_type": "execute_result"
    },
    {
     "data": {
      "image/png": "[encoded data removed]",
      "text/plain": [
       "<Figure size 640x480 with 1 Axes>"
      ]
     },
     "metadata": {},
     "output_type": "display_data"
    }
   ],
   "source": [
    "import matplotlib.pyplot as plt\n",
    "\n",
    "plt.bar(result['group'], result['exam1_mean'], color='black')\n",
    "plt.errorbar(result['group'], result['exam1_mean'], yerr=1.96*result['exam1_se'], capsize=50, elinewidth=2, fmt='none', color = 'red')\n",
    "plt.xlabel('Group')\n",
    "plt.ylabel('Mean Exam 1 Score')\n",
    "plt.title('Mean Exam 1 Scores by Group with 95% confidence interval')"
   ]
  },
  {
   "cell_type": "markdown",
   "id": "795a0f09-dfaa-4471-92bb-86267fd149cc",
   "metadata": {},
   "source": [
    "In relatively few lines of code, we were able to take a list of exam grades, group them by some category, compute the number of students taking each exam, the average score, the and standard deviation, use that information to compute the standard error, and then make a plot with this information. Not bad!"
   ]
  },
  {
   "cell_type": "markdown",
   "id": "efa18411-4ea7-4fec-859d-2621cdc90184",
   "metadata": {},
   "source": [
    "# Stopped here"
   ]
  },
  {
   "cell_type": "code",
   "execution_count": 31,
   "id": "b1e9c9ab-fe64-4a98-a878-1d6c498a2eee",
   "metadata": {},
   "outputs": [],
   "source": [
    "# Calculate the average grade by row\n",
    "exam_data['avg_grade'] = exam_data[['exam1', 'exam2', 'exam3']].mean(axis=1)\n",
    "\n",
    "# Filter the DataFrame for the specified group\n",
    "filtered_data = exam_data[exam_data['group'] == 'group1']\n",
    "\n",
    "# Select the 'avg_grade' column\n",
    "avg_grade_data = filtered_data[['avg_grade']]\n"
   ]
  },
  {
   "cell_type": "code",
   "execution_count": 35,
   "id": "3acab979-a134-4a26-8fed-10df864d7189",
   "metadata": {},
   "outputs": [],
   "source": [
    "avg_grade_data_2 = (\n",
    "    exam_data\n",
    "    .assign(avg_grade=exam_data[['exam1', 'exam2', 'exam3']].mean(axis=1))  # Calculate avg_grade\n",
    "    .query('group == \"group1\"')  # Filter for group1\n",
    "    .loc[:, ['avg_grade']]  # Select the avg_grade column\n",
    ")\n"
   ]
  },
  {
   "cell_type": "code",
   "execution_count": null,
   "id": "1c7df2af-518d-46d3-a176-6c86d11c9198",
   "metadata": {},
   "outputs": [],
   "source": [
    "# Calculate the average grade by row\n",
    "exam_data['avg_grade'] = exam_data[['exam1', 'exam2', 'exam3']].mean(axis=1)\n",
    "\n",
    "# Filter the DataFrame for the specified group\n",
    "filtered_data = exam_data[exam_data['group'] == 'group1']\n",
    "\n",
    "# Pull the 'avg_grade' column as a Series\n",
    "avg_grade_data = filtered_data['avg_grade']\n"
   ]
  },
  {
   "cell_type": "code",
   "execution_count": null,
   "id": "a50b721e-4f79-4b07-8b94-fcbbcb167962",
   "metadata": {},
   "outputs": [],
   "source": [
    "avg_grade_data = (\n",
    "    exam_data\n",
    "    .assign(avg_grade=exam_data[['exam1', 'exam2', 'exam3']].mean(axis=1))  # Calculate avg_grade\n",
    "    .query('group == \"group1\"')  # Filter for group1\n",
    "    .avg_grade  # Pull the avg_grade column\n",
    ")\n"
   ]
  }
 ],
 "metadata": {
  "kernelspec": {
   "display_name": "Python 3 (ipykernel)",
   "language": "python",
   "name": "python3"
  },
  "language_info": {
   "codemirror_mode": {
    "name": "ipython",
    "version": 3
   },
   "file_extension": ".py",
   "mimetype": "text/x-python",
   "name": "python",
   "nbconvert_exporter": "python",
   "pygments_lexer": "ipython3",
   "version": "3.11.9"
  }
 },
 "nbformat": 4,
 "nbformat_minor": 5
}
